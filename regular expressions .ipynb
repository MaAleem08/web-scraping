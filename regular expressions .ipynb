{
 "cells": [
  {
   "cell_type": "code",
   "execution_count": 1,
   "id": "d56e4040",
   "metadata": {},
   "outputs": [],
   "source": [
    "import re\n",
    "\n",
    "%load_ext nb_black"
   ]
  },
  {
   "cell_type": "markdown",
   "id": "4ffd4a2f",
   "metadata": {},
   "source": [
    "\\         used to  drop special meaning character following it\n",
    "\n",
    "[]        represents a character class\n",
    "\n",
    "^         matches the begnning\n",
    "\n",
    "$         matches the ending\n",
    "\n",
    ".         matches any character except the new line\n",
    "\n",
    "|         OR\n",
    "\n",
    "?         matches zero or one occurances\n",
    "\n",
    "*         matches zero or more ocurances\n",
    "\n",
    "+         matches one or more ocurances\n",
    "\n",
    "{}        indicate number of occurances\n",
    "\n",
    "()        encloses a group of regex\n",
    "\n",
    "\\A        matches if a string begins with give character\n",
    "\n",
    "\\b        '''''''''''the word begins or ends with given character\n",
    "\n",
    "\\B        opposite of /b , anything that i not a word boundary\n",
    "\n",
    "\\d         mathches any number from 0 to 9\n",
    "\n",
    "\\D        matches any non digit character, it is same as [^0-9]\n",
    "\n",
    "\\s        matches any white space character\n",
    "\n",
    "\\S        matches any non-white space character \n",
    "\n",
    "\\w        matches any alphanumeric a-z A-Z 0-9\n",
    "\n",
    "\\W        matches any non alphanumeric character like . * # + - /\n",
    "\n",
    "\\Z        matches if teh string ends with the given regrex\n",
    "\n",
    "[atx]     matches alphabets a , t , z\n",
    "\n",
    "[a-h]     matches alphabets from a to h\n",
    "\n",
    "[^atx]    matches anything leaving atx\n",
    "\n",
    "[0123]    matches 0,1,2,3\n",
    "\n",
    "[0-9]     matches numbers from 0-9\n",
    "\n",
    "[0-7][0-9] matches first number from 0-7 and second number from 0-9\n",
    "\n",
    "[a-zA-Z]   matches alphabets from a-z , A-Z\n",
    "\n",
    "[+] or [*] or  [\\] or [.]   is same as  \\+   ,  \\*  ,  \\\\   ,\\.\n"
   ]
  },
  {
   "cell_type": "code",
   "execution_count": 318,
   "id": "12d9d0ad",
   "metadata": {},
   "outputs": [
    {
     "data": {
      "application/javascript": [
       "\n",
       "            setTimeout(function() {\n",
       "                var nbb_cell_id = 318;\n",
       "                var nbb_unformatted_code = \"asdf = 'Kohli scored 92 Rohit scored 65 88Siraj hit 5 wickets ABD scores 101 runs Kohli'\";\n",
       "                var nbb_formatted_code = \"asdf = \\\"Kohli scored 92 Rohit scored 65 88Siraj hit 5 wickets ABD scores 101 runs Kohli\\\"\";\n",
       "                var nbb_cells = Jupyter.notebook.get_cells();\n",
       "                for (var i = 0; i < nbb_cells.length; ++i) {\n",
       "                    if (nbb_cells[i].input_prompt_number == nbb_cell_id) {\n",
       "                        if (nbb_cells[i].get_text() == nbb_unformatted_code) {\n",
       "                             nbb_cells[i].set_text(nbb_formatted_code);\n",
       "                        }\n",
       "                        break;\n",
       "                    }\n",
       "                }\n",
       "            }, 500);\n",
       "            "
      ],
      "text/plain": [
       "<IPython.core.display.Javascript object>"
      ]
     },
     "metadata": {},
     "output_type": "display_data"
    }
   ],
   "source": [
    "asdf = \"Kohli scored 92 Rohit scored 65 88Siraj hit 5 wickets ABD scores 101 runs Kohli\""
   ]
  },
  {
   "cell_type": "code",
   "execution_count": 319,
   "id": "af0a1711",
   "metadata": {},
   "outputs": [
    {
     "name": "stdout",
     "output_type": "stream",
     "text": [
      "['K', 'R', 'S', 'ABD', 'K']\n"
     ]
    },
    {
     "data": {
      "application/javascript": [
       "\n",
       "            setTimeout(function() {\n",
       "                var nbb_cell_id = 319;\n",
       "                var nbb_unformatted_code = \"aa = re.findall(r'[A-Z]+',asdf)\\nprint(aa)\";\n",
       "                var nbb_formatted_code = \"aa = re.findall(r\\\"[A-Z]+\\\", asdf)\\nprint(aa)\";\n",
       "                var nbb_cells = Jupyter.notebook.get_cells();\n",
       "                for (var i = 0; i < nbb_cells.length; ++i) {\n",
       "                    if (nbb_cells[i].input_prompt_number == nbb_cell_id) {\n",
       "                        if (nbb_cells[i].get_text() == nbb_unformatted_code) {\n",
       "                             nbb_cells[i].set_text(nbb_formatted_code);\n",
       "                        }\n",
       "                        break;\n",
       "                    }\n",
       "                }\n",
       "            }, 500);\n",
       "            "
      ],
      "text/plain": [
       "<IPython.core.display.Javascript object>"
      ]
     },
     "metadata": {},
     "output_type": "display_data"
    }
   ],
   "source": [
    "aa = re.findall(r\"[A-Z]+\", asdf)\n",
    "print(aa)"
   ]
  },
  {
   "cell_type": "code",
   "execution_count": 320,
   "id": "95acd3bb",
   "metadata": {},
   "outputs": [
    {
     "name": "stdout",
     "output_type": "stream",
     "text": [
      "['92', '65', '88', '5', '101']\n"
     ]
    },
    {
     "data": {
      "application/javascript": [
       "\n",
       "            setTimeout(function() {\n",
       "                var nbb_cell_id = 320;\n",
       "                var nbb_unformatted_code = \"aa = re.findall(r'\\\\d+',asdf)\\nprint(aa)\";\n",
       "                var nbb_formatted_code = \"aa = re.findall(r\\\"\\\\d+\\\", asdf)\\nprint(aa)\";\n",
       "                var nbb_cells = Jupyter.notebook.get_cells();\n",
       "                for (var i = 0; i < nbb_cells.length; ++i) {\n",
       "                    if (nbb_cells[i].input_prompt_number == nbb_cell_id) {\n",
       "                        if (nbb_cells[i].get_text() == nbb_unformatted_code) {\n",
       "                             nbb_cells[i].set_text(nbb_formatted_code);\n",
       "                        }\n",
       "                        break;\n",
       "                    }\n",
       "                }\n",
       "            }, 500);\n",
       "            "
      ],
      "text/plain": [
       "<IPython.core.display.Javascript object>"
      ]
     },
     "metadata": {},
     "output_type": "display_data"
    }
   ],
   "source": [
    "aa = re.findall(r\"\\d+\", asdf)\n",
    "print(aa)"
   ]
  },
  {
   "cell_type": "code",
   "execution_count": 321,
   "id": "614551c9",
   "metadata": {},
   "outputs": [
    {
     "name": "stdout",
     "output_type": "stream",
     "text": [
      "['ohli', 'scored', 'ohit', 'scored', 'iraj', 'hit', 'wickets', 'scores', 'runs', 'ohli']\n"
     ]
    },
    {
     "data": {
      "application/javascript": [
       "\n",
       "            setTimeout(function() {\n",
       "                var nbb_cell_id = 321;\n",
       "                var nbb_unformatted_code = \"aa = re.findall(r'[a-z]+',asdf)\\nprint(aa)\";\n",
       "                var nbb_formatted_code = \"aa = re.findall(r\\\"[a-z]+\\\", asdf)\\nprint(aa)\";\n",
       "                var nbb_cells = Jupyter.notebook.get_cells();\n",
       "                for (var i = 0; i < nbb_cells.length; ++i) {\n",
       "                    if (nbb_cells[i].input_prompt_number == nbb_cell_id) {\n",
       "                        if (nbb_cells[i].get_text() == nbb_unformatted_code) {\n",
       "                             nbb_cells[i].set_text(nbb_formatted_code);\n",
       "                        }\n",
       "                        break;\n",
       "                    }\n",
       "                }\n",
       "            }, 500);\n",
       "            "
      ],
      "text/plain": [
       "<IPython.core.display.Javascript object>"
      ]
     },
     "metadata": {},
     "output_type": "display_data"
    }
   ],
   "source": [
    "aa = re.findall(r\"[a-z]+\", asdf)\n",
    "print(aa)"
   ]
  },
  {
   "cell_type": "code",
   "execution_count": 7,
   "id": "0149e2f2",
   "metadata": {},
   "outputs": [
    {
     "name": "stdout",
     "output_type": "stream",
     "text": [
      "['Kohli', 'Rohit', 'Siraj', 'ABD']\n"
     ]
    }
   ],
   "source": [
    "asdf = \"Kohli scored 92 Rohit scored 65 88Siraj hit 5 wickets ABD scores 101 runs Kohli\"\n",
    "aa = re.findall(r\"[A-Za-z]*\", asdf)\n",
    "print(aa)"
   ]
  },
  {
   "cell_type": "code",
   "execution_count": 323,
   "id": "55855a38",
   "metadata": {},
   "outputs": [
    {
     "name": "stdout",
     "output_type": "stream",
     "text": [
      "['Kohli', 'Rohit', 'Siraj', 'A', 'B', 'D', 'Kohli']\n"
     ]
    },
    {
     "data": {
      "application/javascript": [
       "\n",
       "            setTimeout(function() {\n",
       "                var nbb_cell_id = 323;\n",
       "                var nbb_unformatted_code = \"aa = re.findall(r'[A-Z][a-z]*',asdf)\\nprint(aa)\";\n",
       "                var nbb_formatted_code = \"aa = re.findall(r\\\"[A-Z][a-z]*\\\", asdf)\\nprint(aa)\";\n",
       "                var nbb_cells = Jupyter.notebook.get_cells();\n",
       "                for (var i = 0; i < nbb_cells.length; ++i) {\n",
       "                    if (nbb_cells[i].input_prompt_number == nbb_cell_id) {\n",
       "                        if (nbb_cells[i].get_text() == nbb_unformatted_code) {\n",
       "                             nbb_cells[i].set_text(nbb_formatted_code);\n",
       "                        }\n",
       "                        break;\n",
       "                    }\n",
       "                }\n",
       "            }, 500);\n",
       "            "
      ],
      "text/plain": [
       "<IPython.core.display.Javascript object>"
      ]
     },
     "metadata": {},
     "output_type": "display_data"
    }
   ],
   "source": [
    "aa = re.findall(r\"[A-Z][a-z]*\", asdf)\n",
    "print(aa)"
   ]
  },
  {
   "cell_type": "code",
   "execution_count": 324,
   "id": "50e87d61",
   "metadata": {},
   "outputs": [
    {
     "name": "stdout",
     "output_type": "stream",
     "text": [
      "['92', '65', '88', '5', '101']\n"
     ]
    },
    {
     "data": {
      "application/javascript": [
       "\n",
       "            setTimeout(function() {\n",
       "                var nbb_cell_id = 324;\n",
       "                var nbb_unformatted_code = \"aa = re.findall(r'[\\\\d]{1,3}',asdf)\\nprint(aa)\";\n",
       "                var nbb_formatted_code = \"aa = re.findall(r\\\"[\\\\d]{1,3}\\\", asdf)\\nprint(aa)\";\n",
       "                var nbb_cells = Jupyter.notebook.get_cells();\n",
       "                for (var i = 0; i < nbb_cells.length; ++i) {\n",
       "                    if (nbb_cells[i].input_prompt_number == nbb_cell_id) {\n",
       "                        if (nbb_cells[i].get_text() == nbb_unformatted_code) {\n",
       "                             nbb_cells[i].set_text(nbb_formatted_code);\n",
       "                        }\n",
       "                        break;\n",
       "                    }\n",
       "                }\n",
       "            }, 500);\n",
       "            "
      ],
      "text/plain": [
       "<IPython.core.display.Javascript object>"
      ]
     },
     "metadata": {},
     "output_type": "display_data"
    }
   ],
   "source": [
    "aa = re.findall(r\"[\\d]{1,3}\", asdf)\n",
    "print(aa)"
   ]
  },
  {
   "cell_type": "code",
   "execution_count": 325,
   "id": "ccac4764",
   "metadata": {},
   "outputs": [
    {
     "name": "stdout",
     "output_type": "stream",
     "text": [
      "['m', 'd', 'a', 'l', 'e', 'e', 'm', '1', '0', '@', 'g', 'm', 'a', 'i', 'l', '.', 'c', 'o', 'm']\n"
     ]
    },
    {
     "data": {
      "application/javascript": [
       "\n",
       "            setTimeout(function() {\n",
       "                var nbb_cell_id = 325;\n",
       "                var nbb_unformatted_code = \"asdf = 'Kohli scored 92 Rohit scored 65 88Siraj hit 5 wickets ABD scores 101 runs Kohli'\\nprint(re.findall(r'.','mdaleem10@gmail.com'))\";\n",
       "                var nbb_formatted_code = \"asdf = \\\"Kohli scored 92 Rohit scored 65 88Siraj hit 5 wickets ABD scores 101 runs Kohli\\\"\\nprint(re.findall(r\\\".\\\", \\\"mdaleem10@gmail.com\\\"))\";\n",
       "                var nbb_cells = Jupyter.notebook.get_cells();\n",
       "                for (var i = 0; i < nbb_cells.length; ++i) {\n",
       "                    if (nbb_cells[i].input_prompt_number == nbb_cell_id) {\n",
       "                        if (nbb_cells[i].get_text() == nbb_unformatted_code) {\n",
       "                             nbb_cells[i].set_text(nbb_formatted_code);\n",
       "                        }\n",
       "                        break;\n",
       "                    }\n",
       "                }\n",
       "            }, 500);\n",
       "            "
      ],
      "text/plain": [
       "<IPython.core.display.Javascript object>"
      ]
     },
     "metadata": {},
     "output_type": "display_data"
    }
   ],
   "source": [
    "asdf = \"Kohli scored 92 Rohit scored 65 88Siraj hit 5 wickets ABD scores 101 runs Kohli\"\n",
    "print(re.findall(r\".\", \"mdaleem10@gmail.com\"))"
   ]
  },
  {
   "cell_type": "code",
   "execution_count": 326,
   "id": "0c6fd801",
   "metadata": {},
   "outputs": [
    {
     "data": {
      "text/plain": [
       "['.']"
      ]
     },
     "execution_count": 326,
     "metadata": {},
     "output_type": "execute_result"
    },
    {
     "data": {
      "application/javascript": [
       "\n",
       "            setTimeout(function() {\n",
       "                var nbb_cell_id = 326;\n",
       "                var nbb_unformatted_code = \"re.findall(r'\\\\.','mdaleem10@gmail.com')\";\n",
       "                var nbb_formatted_code = \"re.findall(r\\\"\\\\.\\\", \\\"mdaleem10@gmail.com\\\")\";\n",
       "                var nbb_cells = Jupyter.notebook.get_cells();\n",
       "                for (var i = 0; i < nbb_cells.length; ++i) {\n",
       "                    if (nbb_cells[i].input_prompt_number == nbb_cell_id) {\n",
       "                        if (nbb_cells[i].get_text() == nbb_unformatted_code) {\n",
       "                             nbb_cells[i].set_text(nbb_formatted_code);\n",
       "                        }\n",
       "                        break;\n",
       "                    }\n",
       "                }\n",
       "            }, 500);\n",
       "            "
      ],
      "text/plain": [
       "<IPython.core.display.Javascript object>"
      ]
     },
     "metadata": {},
     "output_type": "display_data"
    }
   ],
   "source": [
    "re.findall(r\"\\.\", \"mdaleem10@gmail.com\")"
   ]
  },
  {
   "cell_type": "code",
   "execution_count": 327,
   "id": "4365a6db",
   "metadata": {},
   "outputs": [
    {
     "data": {
      "text/plain": [
       "['md']"
      ]
     },
     "execution_count": 327,
     "metadata": {},
     "output_type": "execute_result"
    },
    {
     "data": {
      "application/javascript": [
       "\n",
       "            setTimeout(function() {\n",
       "                var nbb_cell_id = 327;\n",
       "                var nbb_unformatted_code = \"re.findall(r'md','mdaleem10@gmail.com')\";\n",
       "                var nbb_formatted_code = \"re.findall(r\\\"md\\\", \\\"mdaleem10@gmail.com\\\")\";\n",
       "                var nbb_cells = Jupyter.notebook.get_cells();\n",
       "                for (var i = 0; i < nbb_cells.length; ++i) {\n",
       "                    if (nbb_cells[i].input_prompt_number == nbb_cell_id) {\n",
       "                        if (nbb_cells[i].get_text() == nbb_unformatted_code) {\n",
       "                             nbb_cells[i].set_text(nbb_formatted_code);\n",
       "                        }\n",
       "                        break;\n",
       "                    }\n",
       "                }\n",
       "            }, 500);\n",
       "            "
      ],
      "text/plain": [
       "<IPython.core.display.Javascript object>"
      ]
     },
     "metadata": {},
     "output_type": "display_data"
    }
   ],
   "source": [
    "re.findall(r\"md\", \"mdaleem10@gmail.com\")"
   ]
  },
  {
   "cell_type": "code",
   "execution_count": 328,
   "id": "24236f2b",
   "metadata": {},
   "outputs": [
    {
     "name": "stdout",
     "output_type": "stream",
     "text": [
      "['K']\n"
     ]
    },
    {
     "data": {
      "application/javascript": [
       "\n",
       "            setTimeout(function() {\n",
       "                var nbb_cell_id = 328;\n",
       "                var nbb_unformatted_code = \"aa = re.findall(r'^[A-Z]',asdf)\\nprint(aa)\";\n",
       "                var nbb_formatted_code = \"aa = re.findall(r\\\"^[A-Z]\\\", asdf)\\nprint(aa)\";\n",
       "                var nbb_cells = Jupyter.notebook.get_cells();\n",
       "                for (var i = 0; i < nbb_cells.length; ++i) {\n",
       "                    if (nbb_cells[i].input_prompt_number == nbb_cell_id) {\n",
       "                        if (nbb_cells[i].get_text() == nbb_unformatted_code) {\n",
       "                             nbb_cells[i].set_text(nbb_formatted_code);\n",
       "                        }\n",
       "                        break;\n",
       "                    }\n",
       "                }\n",
       "            }, 500);\n",
       "            "
      ],
      "text/plain": [
       "<IPython.core.display.Javascript object>"
      ]
     },
     "metadata": {},
     "output_type": "display_data"
    }
   ],
   "source": [
    "aa = re.findall(r\"^[A-Z]\", asdf)\n",
    "print(aa)"
   ]
  },
  {
   "cell_type": "code",
   "execution_count": 329,
   "id": "c600c7f0",
   "metadata": {},
   "outputs": [
    {
     "name": "stdout",
     "output_type": "stream",
     "text": [
      "['hey', 'hey', 'hey']\n"
     ]
    },
    {
     "data": {
      "application/javascript": [
       "\n",
       "            setTimeout(function() {\n",
       "                var nbb_cell_id = 329;\n",
       "                var nbb_unformatted_code = \"asdf = \\\"\\\"\\\"hey there iam using whatsapp\\nhey there i also use insta\\nhey there are you there hey there\\n\\\"\\\"\\\"\\n\\npat = re.compile(r'^hey',flags=re.M)\\nres = re.findall(pat,asdf)\\nprint(res)\";\n",
       "                var nbb_formatted_code = \"asdf = \\\"\\\"\\\"hey there iam using whatsapp\\nhey there i also use insta\\nhey there are you there hey there\\n\\\"\\\"\\\"\\n\\npat = re.compile(r\\\"^hey\\\", flags=re.M)\\nres = re.findall(pat, asdf)\\nprint(res)\";\n",
       "                var nbb_cells = Jupyter.notebook.get_cells();\n",
       "                for (var i = 0; i < nbb_cells.length; ++i) {\n",
       "                    if (nbb_cells[i].input_prompt_number == nbb_cell_id) {\n",
       "                        if (nbb_cells[i].get_text() == nbb_unformatted_code) {\n",
       "                             nbb_cells[i].set_text(nbb_formatted_code);\n",
       "                        }\n",
       "                        break;\n",
       "                    }\n",
       "                }\n",
       "            }, 500);\n",
       "            "
      ],
      "text/plain": [
       "<IPython.core.display.Javascript object>"
      ]
     },
     "metadata": {},
     "output_type": "display_data"
    }
   ],
   "source": [
    "asdf = \"\"\"hey there iam using whatsapp\n",
    "hey there i also use insta\n",
    "hey there are you there hey there\n",
    "\"\"\"\n",
    "\n",
    "pat = re.compile(r\"^hey\", flags=re.M)\n",
    "res = re.findall(pat, asdf)\n",
    "print(res)"
   ]
  },
  {
   "cell_type": "code",
   "execution_count": 330,
   "id": "2a50c28d",
   "metadata": {},
   "outputs": [
    {
     "name": "stdout",
     "output_type": "stream",
     "text": [
      "[]\n"
     ]
    },
    {
     "data": {
      "application/javascript": [
       "\n",
       "            setTimeout(function() {\n",
       "                var nbb_cell_id = 330;\n",
       "                var nbb_unformatted_code = \"aa = re.findall(r'[a|f|g|s]$',asdf)\\nprint(aa)\";\n",
       "                var nbb_formatted_code = \"aa = re.findall(r\\\"[a|f|g|s]$\\\", asdf)\\nprint(aa)\";\n",
       "                var nbb_cells = Jupyter.notebook.get_cells();\n",
       "                for (var i = 0; i < nbb_cells.length; ++i) {\n",
       "                    if (nbb_cells[i].input_prompt_number == nbb_cell_id) {\n",
       "                        if (nbb_cells[i].get_text() == nbb_unformatted_code) {\n",
       "                             nbb_cells[i].set_text(nbb_formatted_code);\n",
       "                        }\n",
       "                        break;\n",
       "                    }\n",
       "                }\n",
       "            }, 500);\n",
       "            "
      ],
      "text/plain": [
       "<IPython.core.display.Javascript object>"
      ]
     },
     "metadata": {},
     "output_type": "display_data"
    }
   ],
   "source": [
    "aa = re.findall(r\"[a|f|g|s]$\", asdf)\n",
    "print(aa)"
   ]
  },
  {
   "cell_type": "code",
   "execution_count": 331,
   "id": "4f0c458f",
   "metadata": {},
   "outputs": [
    {
     "name": "stdout",
     "output_type": "stream",
     "text": [
      "['e']\n"
     ]
    },
    {
     "data": {
      "application/javascript": [
       "\n",
       "            setTimeout(function() {\n",
       "                var nbb_cell_id = 331;\n",
       "                var nbb_unformatted_code = \"aa = re.findall(r'[a-z]$',asdf)\\nprint(aa)\";\n",
       "                var nbb_formatted_code = \"aa = re.findall(r\\\"[a-z]$\\\", asdf)\\nprint(aa)\";\n",
       "                var nbb_cells = Jupyter.notebook.get_cells();\n",
       "                for (var i = 0; i < nbb_cells.length; ++i) {\n",
       "                    if (nbb_cells[i].input_prompt_number == nbb_cell_id) {\n",
       "                        if (nbb_cells[i].get_text() == nbb_unformatted_code) {\n",
       "                             nbb_cells[i].set_text(nbb_formatted_code);\n",
       "                        }\n",
       "                        break;\n",
       "                    }\n",
       "                }\n",
       "            }, 500);\n",
       "            "
      ],
      "text/plain": [
       "<IPython.core.display.Javascript object>"
      ]
     },
     "metadata": {},
     "output_type": "display_data"
    }
   ],
   "source": [
    "aa = re.findall(r\"[a-z]$\", asdf)\n",
    "print(aa)"
   ]
  },
  {
   "cell_type": "code",
   "execution_count": 332,
   "id": "a6ea412e",
   "metadata": {},
   "outputs": [
    {
     "name": "stdout",
     "output_type": "stream",
     "text": [
      "[]\n"
     ]
    },
    {
     "data": {
      "application/javascript": [
       "\n",
       "            setTimeout(function() {\n",
       "                var nbb_cell_id = 332;\n",
       "                var nbb_unformatted_code = \"aa = re.findall(r's$',asdf)\\nprint(aa)\";\n",
       "                var nbb_formatted_code = \"aa = re.findall(r\\\"s$\\\", asdf)\\nprint(aa)\";\n",
       "                var nbb_cells = Jupyter.notebook.get_cells();\n",
       "                for (var i = 0; i < nbb_cells.length; ++i) {\n",
       "                    if (nbb_cells[i].input_prompt_number == nbb_cell_id) {\n",
       "                        if (nbb_cells[i].get_text() == nbb_unformatted_code) {\n",
       "                             nbb_cells[i].set_text(nbb_formatted_code);\n",
       "                        }\n",
       "                        break;\n",
       "                    }\n",
       "                }\n",
       "            }, 500);\n",
       "            "
      ],
      "text/plain": [
       "<IPython.core.display.Javascript object>"
      ]
     },
     "metadata": {},
     "output_type": "display_data"
    }
   ],
   "source": [
    "aa = re.findall(r\"s$\", asdf)\n",
    "print(aa)"
   ]
  },
  {
   "cell_type": "code",
   "execution_count": 333,
   "id": "a1b5da5d",
   "metadata": {},
   "outputs": [
    {
     "name": "stdout",
     "output_type": "stream",
     "text": [
      "[]\n"
     ]
    },
    {
     "data": {
      "application/javascript": [
       "\n",
       "            setTimeout(function() {\n",
       "                var nbb_cell_id = 333;\n",
       "                var nbb_unformatted_code = \"aa = re.findall(r'[\\\\d]+',asdf)\\nprint(aa)\";\n",
       "                var nbb_formatted_code = \"aa = re.findall(r\\\"[\\\\d]+\\\", asdf)\\nprint(aa)\";\n",
       "                var nbb_cells = Jupyter.notebook.get_cells();\n",
       "                for (var i = 0; i < nbb_cells.length; ++i) {\n",
       "                    if (nbb_cells[i].input_prompt_number == nbb_cell_id) {\n",
       "                        if (nbb_cells[i].get_text() == nbb_unformatted_code) {\n",
       "                             nbb_cells[i].set_text(nbb_formatted_code);\n",
       "                        }\n",
       "                        break;\n",
       "                    }\n",
       "                }\n",
       "            }, 500);\n",
       "            "
      ],
      "text/plain": [
       "<IPython.core.display.Javascript object>"
      ]
     },
     "metadata": {},
     "output_type": "display_data"
    }
   ],
   "source": [
    "aa = re.findall(r\"[\\d]+\", asdf)\n",
    "print(aa)"
   ]
  },
  {
   "cell_type": "code",
   "execution_count": 334,
   "id": "b0238f8c",
   "metadata": {},
   "outputs": [
    {
     "name": "stdout",
     "output_type": "stream",
     "text": [
      "['sco', 'sco', 'wic', 'sco']\n"
     ]
    },
    {
     "data": {
      "application/javascript": [
       "\n",
       "            setTimeout(function() {\n",
       "                var nbb_cell_id = 334;\n",
       "                var nbb_unformatted_code = \"asdf = '''Koh.li scored 92 Rohit scored 65 88S\\niraj hit 5 wickets ABD scores 101 runs Kohli'''\\naa = re.findall(r's.o|w.c|S.r',asdf)\\nprint(aa)\";\n",
       "                var nbb_formatted_code = \"asdf = \\\"\\\"\\\"Koh.li scored 92 Rohit scored 65 88S\\niraj hit 5 wickets ABD scores 101 runs Kohli\\\"\\\"\\\"\\naa = re.findall(r\\\"s.o|w.c|S.r\\\", asdf)\\nprint(aa)\";\n",
       "                var nbb_cells = Jupyter.notebook.get_cells();\n",
       "                for (var i = 0; i < nbb_cells.length; ++i) {\n",
       "                    if (nbb_cells[i].input_prompt_number == nbb_cell_id) {\n",
       "                        if (nbb_cells[i].get_text() == nbb_unformatted_code) {\n",
       "                             nbb_cells[i].set_text(nbb_formatted_code);\n",
       "                        }\n",
       "                        break;\n",
       "                    }\n",
       "                }\n",
       "            }, 500);\n",
       "            "
      ],
      "text/plain": [
       "<IPython.core.display.Javascript object>"
      ]
     },
     "metadata": {},
     "output_type": "display_data"
    }
   ],
   "source": [
    "asdf = \"\"\"Koh.li scored 92 Rohit scored 65 88S\n",
    "iraj hit 5 wickets ABD scores 101 runs Kohli\"\"\"\n",
    "aa = re.findall(r\"s.o|w.c|S.r\", asdf)\n",
    "print(aa)"
   ]
  },
  {
   "cell_type": "code",
   "execution_count": 335,
   "id": "c3fb6cd6",
   "metadata": {},
   "outputs": [
    {
     "name": "stdout",
     "output_type": "stream",
     "text": [
      "['Kohli', 'Rohit', '88Siraj', 'ABD', 'Kohli']\n"
     ]
    },
    {
     "data": {
      "application/javascript": [
       "\n",
       "            setTimeout(function() {\n",
       "                var nbb_cell_id = 335;\n",
       "                var nbb_unformatted_code = \"asdf = 'heyKohli scored 92 Rohit scored 65 88Siraj hit 5 wickets ABD scores 101 runs Kohli'\\naa = re.findall(r'[A-Z|\\\\d]+[A-Z|a-z]+',asdf)\\nprint(aa)\";\n",
       "                var nbb_formatted_code = \"asdf = (\\n    \\\"heyKohli scored 92 Rohit scored 65 88Siraj hit 5 wickets ABD scores 101 runs Kohli\\\"\\n)\\naa = re.findall(r\\\"[A-Z|\\\\d]+[A-Z|a-z]+\\\", asdf)\\nprint(aa)\";\n",
       "                var nbb_cells = Jupyter.notebook.get_cells();\n",
       "                for (var i = 0; i < nbb_cells.length; ++i) {\n",
       "                    if (nbb_cells[i].input_prompt_number == nbb_cell_id) {\n",
       "                        if (nbb_cells[i].get_text() == nbb_unformatted_code) {\n",
       "                             nbb_cells[i].set_text(nbb_formatted_code);\n",
       "                        }\n",
       "                        break;\n",
       "                    }\n",
       "                }\n",
       "            }, 500);\n",
       "            "
      ],
      "text/plain": [
       "<IPython.core.display.Javascript object>"
      ]
     },
     "metadata": {},
     "output_type": "display_data"
    }
   ],
   "source": [
    "asdf = (\n",
    "    \"heyKohli scored 92 Rohit scored 65 88Siraj hit 5 wickets ABD scores 101 runs Kohli\"\n",
    ")\n",
    "aa = re.findall(r\"[A-Z|\\d]+[A-Z|a-z]+\", asdf)\n",
    "print(aa)"
   ]
  },
  {
   "cell_type": "code",
   "execution_count": 336,
   "id": "6bc83751",
   "metadata": {},
   "outputs": [
    {
     "data": {
      "text/plain": [
       "['df', 'df', 'df', 'df']"
      ]
     },
     "execution_count": 336,
     "metadata": {},
     "output_type": "execute_result"
    },
    {
     "data": {
      "application/javascript": [
       "\n",
       "            setTimeout(function() {\n",
       "                var nbb_cell_id = 336;\n",
       "                var nbb_unformatted_code = \"re.findall(r'df{1}','df kitden is a good boy dfdfying dfing')\";\n",
       "                var nbb_formatted_code = \"re.findall(r\\\"df{1}\\\", \\\"df kitden is a good boy dfdfying dfing\\\")\";\n",
       "                var nbb_cells = Jupyter.notebook.get_cells();\n",
       "                for (var i = 0; i < nbb_cells.length; ++i) {\n",
       "                    if (nbb_cells[i].input_prompt_number == nbb_cell_id) {\n",
       "                        if (nbb_cells[i].get_text() == nbb_unformatted_code) {\n",
       "                             nbb_cells[i].set_text(nbb_formatted_code);\n",
       "                        }\n",
       "                        break;\n",
       "                    }\n",
       "                }\n",
       "            }, 500);\n",
       "            "
      ],
      "text/plain": [
       "<IPython.core.display.Javascript object>"
      ]
     },
     "metadata": {},
     "output_type": "display_data"
    }
   ],
   "source": [
    "re.findall(r\"df{1}\", \"df kitden is a good boy dfdfying dfing\")"
   ]
  },
  {
   "cell_type": "code",
   "execution_count": 337,
   "id": "8e330ec8",
   "metadata": {},
   "outputs": [
    {
     "name": "stdout",
     "output_type": "stream",
     "text": [
      "['abc', 'abbc', 'abbbc', 'ac']\n"
     ]
    },
    {
     "data": {
      "application/javascript": [
       "\n",
       "            setTimeout(function() {\n",
       "                var nbb_cell_id = 337;\n",
       "                var nbb_unformatted_code = \"asdf = '''abc\\nab\\naabbc\\nabbbc\\nac\\n'''\\naa = re.findall(r'ab*c',asdf)\\nprint(aa)\";\n",
       "                var nbb_formatted_code = \"asdf = \\\"\\\"\\\"abc\\nab\\naabbc\\nabbbc\\nac\\n\\\"\\\"\\\"\\naa = re.findall(r\\\"ab*c\\\", asdf)\\nprint(aa)\";\n",
       "                var nbb_cells = Jupyter.notebook.get_cells();\n",
       "                for (var i = 0; i < nbb_cells.length; ++i) {\n",
       "                    if (nbb_cells[i].input_prompt_number == nbb_cell_id) {\n",
       "                        if (nbb_cells[i].get_text() == nbb_unformatted_code) {\n",
       "                             nbb_cells[i].set_text(nbb_formatted_code);\n",
       "                        }\n",
       "                        break;\n",
       "                    }\n",
       "                }\n",
       "            }, 500);\n",
       "            "
      ],
      "text/plain": [
       "<IPython.core.display.Javascript object>"
      ]
     },
     "metadata": {},
     "output_type": "display_data"
    }
   ],
   "source": [
    "asdf = \"\"\"abc\n",
    "ab\n",
    "aabbc\n",
    "abbbc\n",
    "ac\n",
    "\"\"\"\n",
    "aa = re.findall(r\"ab*c\", asdf)\n",
    "print(aa)"
   ]
  },
  {
   "cell_type": "code",
   "execution_count": 338,
   "id": "01e14a2b",
   "metadata": {},
   "outputs": [
    {
     "name": "stdout",
     "output_type": "stream",
     "text": [
      "['abc', 'abbc', 'abbbc']\n"
     ]
    },
    {
     "data": {
      "application/javascript": [
       "\n",
       "            setTimeout(function() {\n",
       "                var nbb_cell_id = 338;\n",
       "                var nbb_unformatted_code = \"asdf = '''abc\\nab\\naabbc\\nabbbc\\nac\\n'''\\naa = re.findall(r'ab+c',asdf)\\nprint(aa)\";\n",
       "                var nbb_formatted_code = \"asdf = \\\"\\\"\\\"abc\\nab\\naabbc\\nabbbc\\nac\\n\\\"\\\"\\\"\\naa = re.findall(r\\\"ab+c\\\", asdf)\\nprint(aa)\";\n",
       "                var nbb_cells = Jupyter.notebook.get_cells();\n",
       "                for (var i = 0; i < nbb_cells.length; ++i) {\n",
       "                    if (nbb_cells[i].input_prompt_number == nbb_cell_id) {\n",
       "                        if (nbb_cells[i].get_text() == nbb_unformatted_code) {\n",
       "                             nbb_cells[i].set_text(nbb_formatted_code);\n",
       "                        }\n",
       "                        break;\n",
       "                    }\n",
       "                }\n",
       "            }, 500);\n",
       "            "
      ],
      "text/plain": [
       "<IPython.core.display.Javascript object>"
      ]
     },
     "metadata": {},
     "output_type": "display_data"
    }
   ],
   "source": [
    "asdf = \"\"\"abc\n",
    "ab\n",
    "aabbc\n",
    "abbbc\n",
    "ac\n",
    "\"\"\"\n",
    "aa = re.findall(r\"ab+c\", asdf)\n",
    "print(aa)"
   ]
  },
  {
   "cell_type": "code",
   "execution_count": 339,
   "id": "fd1895b9",
   "metadata": {},
   "outputs": [
    {
     "name": "stdout",
     "output_type": "stream",
     "text": [
      "['abc', 'ac']\n"
     ]
    },
    {
     "data": {
      "application/javascript": [
       "\n",
       "            setTimeout(function() {\n",
       "                var nbb_cell_id = 339;\n",
       "                var nbb_unformatted_code = \"asdf = '''abc \\nab \\nabbc \\nabba \\ncbcac\\n'''\\naa = re.findall(r'ab?c',asdf)\\nprint(aa)\";\n",
       "                var nbb_formatted_code = \"asdf = \\\"\\\"\\\"abc \\nab \\nabbc \\nabba \\ncbcac\\n\\\"\\\"\\\"\\naa = re.findall(r\\\"ab?c\\\", asdf)\\nprint(aa)\";\n",
       "                var nbb_cells = Jupyter.notebook.get_cells();\n",
       "                for (var i = 0; i < nbb_cells.length; ++i) {\n",
       "                    if (nbb_cells[i].input_prompt_number == nbb_cell_id) {\n",
       "                        if (nbb_cells[i].get_text() == nbb_unformatted_code) {\n",
       "                             nbb_cells[i].set_text(nbb_formatted_code);\n",
       "                        }\n",
       "                        break;\n",
       "                    }\n",
       "                }\n",
       "            }, 500);\n",
       "            "
      ],
      "text/plain": [
       "<IPython.core.display.Javascript object>"
      ]
     },
     "metadata": {},
     "output_type": "display_data"
    }
   ],
   "source": [
    "asdf = \"\"\"abc \n",
    "ab \n",
    "abbc \n",
    "abba \n",
    "cbcac\n",
    "\"\"\"\n",
    "aa = re.findall(r\"ab?c\", asdf)\n",
    "print(aa)"
   ]
  },
  {
   "cell_type": "code",
   "execution_count": 340,
   "id": "e16b1ef3",
   "metadata": {},
   "outputs": [
    {
     "name": "stdout",
     "output_type": "stream",
     "text": [
      "['Koh.li']\n"
     ]
    },
    {
     "data": {
      "application/javascript": [
       "\n",
       "            setTimeout(function() {\n",
       "                var nbb_cell_id = 340;\n",
       "                var nbb_unformatted_code = \"asdf = '''Koh.li scored 92 Rohit scored 65 88S\\niraj hit 5 wickets ABD scores 101 runs Kohli'''\\naa = re.findall(r'^K[a-z|\\\\.]+',asdf)\\nprint(aa)\";\n",
       "                var nbb_formatted_code = \"asdf = \\\"\\\"\\\"Koh.li scored 92 Rohit scored 65 88S\\niraj hit 5 wickets ABD scores 101 runs Kohli\\\"\\\"\\\"\\naa = re.findall(r\\\"^K[a-z|\\\\.]+\\\", asdf)\\nprint(aa)\";\n",
       "                var nbb_cells = Jupyter.notebook.get_cells();\n",
       "                for (var i = 0; i < nbb_cells.length; ++i) {\n",
       "                    if (nbb_cells[i].input_prompt_number == nbb_cell_id) {\n",
       "                        if (nbb_cells[i].get_text() == nbb_unformatted_code) {\n",
       "                             nbb_cells[i].set_text(nbb_formatted_code);\n",
       "                        }\n",
       "                        break;\n",
       "                    }\n",
       "                }\n",
       "            }, 500);\n",
       "            "
      ],
      "text/plain": [
       "<IPython.core.display.Javascript object>"
      ]
     },
     "metadata": {},
     "output_type": "display_data"
    }
   ],
   "source": [
    "asdf = \"\"\"Koh.li scored 92 Rohit scored 65 88S\n",
    "iraj hit 5 wickets ABD scores 101 runs Kohli\"\"\"\n",
    "aa = re.findall(r\"^K[a-z|\\.]+\", asdf)\n",
    "print(aa)"
   ]
  },
  {
   "cell_type": "code",
   "execution_count": 341,
   "id": "8bef4f15",
   "metadata": {},
   "outputs": [
    {
     "name": "stdout",
     "output_type": "stream",
     "text": [
      "['Koh']\n"
     ]
    },
    {
     "data": {
      "application/javascript": [
       "\n",
       "            setTimeout(function() {\n",
       "                var nbb_cell_id = 341;\n",
       "                var nbb_unformatted_code = \"asdf = '''Koh.li scored 92 Rohit scored 65 88S\\niraj hit 5 wickets ABD scores 101 runs Kohli'''\\naa = re.findall(r'\\\\AKoh',asdf)\\nprint(aa)\\n# \\\\A is same as ^ , which means if the string starts with following\";\n",
       "                var nbb_formatted_code = \"asdf = \\\"\\\"\\\"Koh.li scored 92 Rohit scored 65 88S\\niraj hit 5 wickets ABD scores 101 runs Kohli\\\"\\\"\\\"\\naa = re.findall(r\\\"\\\\AKoh\\\", asdf)\\nprint(aa)\\n# \\\\A is same as ^ , which means if the string starts with following\";\n",
       "                var nbb_cells = Jupyter.notebook.get_cells();\n",
       "                for (var i = 0; i < nbb_cells.length; ++i) {\n",
       "                    if (nbb_cells[i].input_prompt_number == nbb_cell_id) {\n",
       "                        if (nbb_cells[i].get_text() == nbb_unformatted_code) {\n",
       "                             nbb_cells[i].set_text(nbb_formatted_code);\n",
       "                        }\n",
       "                        break;\n",
       "                    }\n",
       "                }\n",
       "            }, 500);\n",
       "            "
      ],
      "text/plain": [
       "<IPython.core.display.Javascript object>"
      ]
     },
     "metadata": {},
     "output_type": "display_data"
    }
   ],
   "source": [
    "asdf = \"\"\"Koh.li scored 92 Rohit scored 65 88S\n",
    "iraj hit 5 wickets ABD scores 101 runs Kohli\"\"\"\n",
    "aa = re.findall(r\"\\AKoh\", asdf)\n",
    "print(aa)\n",
    "# \\A is same as ^ , which means if the string starts with following"
   ]
  },
  {
   "cell_type": "code",
   "execution_count": 342,
   "id": "69add927",
   "metadata": {},
   "outputs": [
    {
     "name": "stdout",
     "output_type": "stream",
     "text": [
      "['Ko', 'Ko']\n"
     ]
    },
    {
     "data": {
      "application/javascript": [
       "\n",
       "            setTimeout(function() {\n",
       "                var nbb_cell_id = 342;\n",
       "                var nbb_unformatted_code = \"asdf = '''Koh.li scored 92 Rohit scored 65 88S\\niraj hit 5 wickets ABD scores 101 runs Kohli'''\\naa = re.findall(r'\\\\bKo',asdf)\\nprint(aa)\";\n",
       "                var nbb_formatted_code = \"asdf = \\\"\\\"\\\"Koh.li scored 92 Rohit scored 65 88S\\niraj hit 5 wickets ABD scores 101 runs Kohli\\\"\\\"\\\"\\naa = re.findall(r\\\"\\\\bKo\\\", asdf)\\nprint(aa)\";\n",
       "                var nbb_cells = Jupyter.notebook.get_cells();\n",
       "                for (var i = 0; i < nbb_cells.length; ++i) {\n",
       "                    if (nbb_cells[i].input_prompt_number == nbb_cell_id) {\n",
       "                        if (nbb_cells[i].get_text() == nbb_unformatted_code) {\n",
       "                             nbb_cells[i].set_text(nbb_formatted_code);\n",
       "                        }\n",
       "                        break;\n",
       "                    }\n",
       "                }\n",
       "            }, 500);\n",
       "            "
      ],
      "text/plain": [
       "<IPython.core.display.Javascript object>"
      ]
     },
     "metadata": {},
     "output_type": "display_data"
    }
   ],
   "source": [
    "asdf = \"\"\"Koh.li scored 92 Rohit scored 65 88S\n",
    "iraj hit 5 wickets ABD scores 101 runs Kohli\"\"\"\n",
    "aa = re.findall(r\"\\bKo\", asdf)\n",
    "print(aa)"
   ]
  },
  {
   "cell_type": "code",
   "execution_count": 343,
   "id": "7d55564b",
   "metadata": {},
   "outputs": [
    {
     "name": "stdout",
     "output_type": "stream",
     "text": [
      "['Koh.li', 'scored', '92', 'Rohit', 'scored', '65', '88S', 'iraj', 'hit', '5', 'wickets', 'ABD', 'scores', '101', 'runs', 'Kohli']\n"
     ]
    },
    {
     "data": {
      "application/javascript": [
       "\n",
       "            setTimeout(function() {\n",
       "                var nbb_cell_id = 343;\n",
       "                var nbb_unformatted_code = \"asdf = '''Koh.li scored 92 Rohit scored 65 88S\\niraj hit 5 wickets ABD scores 101 runs Kohli'''\\naa = re.findall(r'\\\\S+',asdf)\\nprint(aa)\";\n",
       "                var nbb_formatted_code = \"asdf = \\\"\\\"\\\"Koh.li scored 92 Rohit scored 65 88S\\niraj hit 5 wickets ABD scores 101 runs Kohli\\\"\\\"\\\"\\naa = re.findall(r\\\"\\\\S+\\\", asdf)\\nprint(aa)\";\n",
       "                var nbb_cells = Jupyter.notebook.get_cells();\n",
       "                for (var i = 0; i < nbb_cells.length; ++i) {\n",
       "                    if (nbb_cells[i].input_prompt_number == nbb_cell_id) {\n",
       "                        if (nbb_cells[i].get_text() == nbb_unformatted_code) {\n",
       "                             nbb_cells[i].set_text(nbb_formatted_code);\n",
       "                        }\n",
       "                        break;\n",
       "                    }\n",
       "                }\n",
       "            }, 500);\n",
       "            "
      ],
      "text/plain": [
       "<IPython.core.display.Javascript object>"
      ]
     },
     "metadata": {},
     "output_type": "display_data"
    }
   ],
   "source": [
    "asdf = \"\"\"Koh.li scored 92 Rohit scored 65 88S\n",
    "iraj hit 5 wickets ABD scores 101 runs Kohli\"\"\"\n",
    "aa = re.findall(r\"\\S+\", asdf)\n",
    "print(aa)"
   ]
  },
  {
   "cell_type": "code",
   "execution_count": 344,
   "id": "03a8b947",
   "metadata": {},
   "outputs": [
    {
     "name": "stdout",
     "output_type": "stream",
     "text": [
      "['Koh.li', 'scored', '92', 'Rohit', 'scored', '65', '88S', 'iraj', 'hit', '5', 'wickets', 'ABD', 'scores', '101', 'runs', 'Kohli']\n"
     ]
    },
    {
     "data": {
      "application/javascript": [
       "\n",
       "            setTimeout(function() {\n",
       "                var nbb_cell_id = 344;\n",
       "                var nbb_unformatted_code = \"asdf = '''Koh.li scored 92 Rohit scored 65 88S\\niraj hit 5 wickets ABD scores 101 runs Kohli'''\\naa = re.findall(r'\\\\S+',asdf)\\nprint(aa)\";\n",
       "                var nbb_formatted_code = \"asdf = \\\"\\\"\\\"Koh.li scored 92 Rohit scored 65 88S\\niraj hit 5 wickets ABD scores 101 runs Kohli\\\"\\\"\\\"\\naa = re.findall(r\\\"\\\\S+\\\", asdf)\\nprint(aa)\";\n",
       "                var nbb_cells = Jupyter.notebook.get_cells();\n",
       "                for (var i = 0; i < nbb_cells.length; ++i) {\n",
       "                    if (nbb_cells[i].input_prompt_number == nbb_cell_id) {\n",
       "                        if (nbb_cells[i].get_text() == nbb_unformatted_code) {\n",
       "                             nbb_cells[i].set_text(nbb_formatted_code);\n",
       "                        }\n",
       "                        break;\n",
       "                    }\n",
       "                }\n",
       "            }, 500);\n",
       "            "
      ],
      "text/plain": [
       "<IPython.core.display.Javascript object>"
      ]
     },
     "metadata": {},
     "output_type": "display_data"
    }
   ],
   "source": [
    "asdf = \"\"\"Koh.li scored 92 Rohit scored 65 88S\n",
    "iraj hit 5 wickets ABD scores 101 runs Kohli\"\"\"\n",
    "aa = re.findall(r\"\\S+\", asdf)\n",
    "print(aa)"
   ]
  },
  {
   "cell_type": "code",
   "execution_count": 345,
   "id": "5480bbf9",
   "metadata": {},
   "outputs": [
    {
     "name": "stdout",
     "output_type": "stream",
     "text": [
      "['Koh.li', 'scored', '92', 'Rohit', 'scored', '65', '88S', 'iraj', 'hit', '5', 'wickets', '@ABD', 'scores', '101', 'runs', 'Kohli']\n"
     ]
    },
    {
     "data": {
      "application/javascript": [
       "\n",
       "            setTimeout(function() {\n",
       "                var nbb_cell_id = 345;\n",
       "                var nbb_unformatted_code = \"asdf = '''Koh.li scored 92 Rohit scored 65 88S\\niraj hit 5 wickets @ABD scores 101 runs Kohli'''\\naa = asdf.split()\\nprint(aa)\\n# a split function and \\\\S works the same\";\n",
       "                var nbb_formatted_code = \"asdf = \\\"\\\"\\\"Koh.li scored 92 Rohit scored 65 88S\\niraj hit 5 wickets @ABD scores 101 runs Kohli\\\"\\\"\\\"\\naa = asdf.split()\\nprint(aa)\\n# a split function and \\\\S works the same\";\n",
       "                var nbb_cells = Jupyter.notebook.get_cells();\n",
       "                for (var i = 0; i < nbb_cells.length; ++i) {\n",
       "                    if (nbb_cells[i].input_prompt_number == nbb_cell_id) {\n",
       "                        if (nbb_cells[i].get_text() == nbb_unformatted_code) {\n",
       "                             nbb_cells[i].set_text(nbb_formatted_code);\n",
       "                        }\n",
       "                        break;\n",
       "                    }\n",
       "                }\n",
       "            }, 500);\n",
       "            "
      ],
      "text/plain": [
       "<IPython.core.display.Javascript object>"
      ]
     },
     "metadata": {},
     "output_type": "display_data"
    }
   ],
   "source": [
    "asdf = \"\"\"Koh.li scored 92 Rohit scored 65 88S\n",
    "iraj hit 5 wickets @ABD scores 101 runs Kohli\"\"\"\n",
    "aa = asdf.split()\n",
    "print(aa)\n",
    "# a split function and \\S works the same"
   ]
  },
  {
   "cell_type": "code",
   "execution_count": 346,
   "id": "38410776",
   "metadata": {},
   "outputs": [
    {
     "name": "stdout",
     "output_type": "stream",
     "text": [
      "[' ', ' ', ' ', ' ', ' ', ' ', '\\n', ' ', ' ', ' ', ' ', ' ', ' ', ' ', ' ']\n"
     ]
    },
    {
     "data": {
      "application/javascript": [
       "\n",
       "            setTimeout(function() {\n",
       "                var nbb_cell_id = 346;\n",
       "                var nbb_unformatted_code = \"asdf = '''Koh.li scored 92 Rohit scored 65 88S\\niraj hit 5 wickets ABD scores 101 runs Kohli'''\\naa = re.findall(r'\\\\s',asdf)\\nprint(aa)\";\n",
       "                var nbb_formatted_code = \"asdf = \\\"\\\"\\\"Koh.li scored 92 Rohit scored 65 88S\\niraj hit 5 wickets ABD scores 101 runs Kohli\\\"\\\"\\\"\\naa = re.findall(r\\\"\\\\s\\\", asdf)\\nprint(aa)\";\n",
       "                var nbb_cells = Jupyter.notebook.get_cells();\n",
       "                for (var i = 0; i < nbb_cells.length; ++i) {\n",
       "                    if (nbb_cells[i].input_prompt_number == nbb_cell_id) {\n",
       "                        if (nbb_cells[i].get_text() == nbb_unformatted_code) {\n",
       "                             nbb_cells[i].set_text(nbb_formatted_code);\n",
       "                        }\n",
       "                        break;\n",
       "                    }\n",
       "                }\n",
       "            }, 500);\n",
       "            "
      ],
      "text/plain": [
       "<IPython.core.display.Javascript object>"
      ]
     },
     "metadata": {},
     "output_type": "display_data"
    }
   ],
   "source": [
    "asdf = \"\"\"Koh.li scored 92 Rohit scored 65 88S\n",
    "iraj hit 5 wickets ABD scores 101 runs Kohli\"\"\"\n",
    "aa = re.findall(r\"\\s\", asdf)\n",
    "print(aa)"
   ]
  },
  {
   "cell_type": "code",
   "execution_count": 347,
   "id": "0ea07009",
   "metadata": {},
   "outputs": [
    {
     "name": "stdout",
     "output_type": "stream",
     "text": [
      "['Koh.li scored ', ' Rohit scored ', ' ', 'S\\niraj hit ', ' wickets ABD scores ', ' runs Kohli']\n"
     ]
    },
    {
     "data": {
      "application/javascript": [
       "\n",
       "            setTimeout(function() {\n",
       "                var nbb_cell_id = 347;\n",
       "                var nbb_unformatted_code = \"asdf = '''Koh.li scored 92 Rohit scored 65 88S\\niraj hit 5 wickets ABD scores 101 runs Kohli'''\\naa = re.findall(r'\\\\D+',asdf)\\nprint(aa)\\n# gets non mumber characters\";\n",
       "                var nbb_formatted_code = \"asdf = \\\"\\\"\\\"Koh.li scored 92 Rohit scored 65 88S\\niraj hit 5 wickets ABD scores 101 runs Kohli\\\"\\\"\\\"\\naa = re.findall(r\\\"\\\\D+\\\", asdf)\\nprint(aa)\\n# gets non mumber characters\";\n",
       "                var nbb_cells = Jupyter.notebook.get_cells();\n",
       "                for (var i = 0; i < nbb_cells.length; ++i) {\n",
       "                    if (nbb_cells[i].input_prompt_number == nbb_cell_id) {\n",
       "                        if (nbb_cells[i].get_text() == nbb_unformatted_code) {\n",
       "                             nbb_cells[i].set_text(nbb_formatted_code);\n",
       "                        }\n",
       "                        break;\n",
       "                    }\n",
       "                }\n",
       "            }, 500);\n",
       "            "
      ],
      "text/plain": [
       "<IPython.core.display.Javascript object>"
      ]
     },
     "metadata": {},
     "output_type": "display_data"
    }
   ],
   "source": [
    "asdf = \"\"\"Koh.li scored 92 Rohit scored 65 88S\n",
    "iraj hit 5 wickets ABD scores 101 runs Kohli\"\"\"\n",
    "aa = re.findall(r\"\\D+\", asdf)\n",
    "print(aa)\n",
    "# gets non mumber characters"
   ]
  },
  {
   "cell_type": "code",
   "execution_count": 348,
   "id": "b6309a89",
   "metadata": {},
   "outputs": [
    {
     "name": "stdout",
     "output_type": "stream",
     "text": [
      "['92', '65', '88Siraj', '5', '101']\n"
     ]
    },
    {
     "data": {
      "application/javascript": [
       "\n",
       "            setTimeout(function() {\n",
       "                var nbb_cell_id = 348;\n",
       "                var nbb_unformatted_code = \"asdf = '''Koh.li scored 92 Rohit scored 65 88Siraj hit 5 wickets ABD scores 101 runs Kohli'''\\naa = re.findall(r'(\\\\d+[A-Z][a-z]+|\\\\d+)',asdf)\\nprint(aa)\\n# getting numbers and strings attched with number\";\n",
       "                var nbb_formatted_code = \"asdf = \\\"\\\"\\\"Koh.li scored 92 Rohit scored 65 88Siraj hit 5 wickets ABD scores 101 runs Kohli\\\"\\\"\\\"\\naa = re.findall(r\\\"(\\\\d+[A-Z][a-z]+|\\\\d+)\\\", asdf)\\nprint(aa)\\n# getting numbers and strings attched with number\";\n",
       "                var nbb_cells = Jupyter.notebook.get_cells();\n",
       "                for (var i = 0; i < nbb_cells.length; ++i) {\n",
       "                    if (nbb_cells[i].input_prompt_number == nbb_cell_id) {\n",
       "                        if (nbb_cells[i].get_text() == nbb_unformatted_code) {\n",
       "                             nbb_cells[i].set_text(nbb_formatted_code);\n",
       "                        }\n",
       "                        break;\n",
       "                    }\n",
       "                }\n",
       "            }, 500);\n",
       "            "
      ],
      "text/plain": [
       "<IPython.core.display.Javascript object>"
      ]
     },
     "metadata": {},
     "output_type": "display_data"
    }
   ],
   "source": [
    "asdf = \"\"\"Koh.li scored 92 Rohit scored 65 88Siraj hit 5 wickets ABD scores 101 runs Kohli\"\"\"\n",
    "aa = re.findall(r\"(\\d+[A-Z][a-z]+|\\d+)\", asdf)\n",
    "print(aa)\n",
    "# getting numbers and strings attched with number"
   ]
  },
  {
   "cell_type": "code",
   "execution_count": 349,
   "id": "3e79a0de",
   "metadata": {},
   "outputs": [
    {
     "name": "stdout",
     "output_type": "stream",
     "text": [
      "['Koh', 'li', 'scored', '92', 'Rohit', 'scored', '65', '88Siraj', 'hit', '5', 'wickets', 'ABD', 'scores', '101', 'runs', 'Kohli']\n"
     ]
    },
    {
     "data": {
      "application/javascript": [
       "\n",
       "            setTimeout(function() {\n",
       "                var nbb_cell_id = 349;\n",
       "                var nbb_unformatted_code = \"asdf = '''Koh.li scored 92 Rohit scored 65 88Siraj @hit 5 wickets ABD scores 101 runs Kohli'''\\naa = re.findall(r'\\\\w+',asdf)\\nprint(aa)\\n# gets alphanumeric characters\";\n",
       "                var nbb_formatted_code = \"asdf = \\\"\\\"\\\"Koh.li scored 92 Rohit scored 65 88Siraj @hit 5 wickets ABD scores 101 runs Kohli\\\"\\\"\\\"\\naa = re.findall(r\\\"\\\\w+\\\", asdf)\\nprint(aa)\\n# gets alphanumeric characters\";\n",
       "                var nbb_cells = Jupyter.notebook.get_cells();\n",
       "                for (var i = 0; i < nbb_cells.length; ++i) {\n",
       "                    if (nbb_cells[i].input_prompt_number == nbb_cell_id) {\n",
       "                        if (nbb_cells[i].get_text() == nbb_unformatted_code) {\n",
       "                             nbb_cells[i].set_text(nbb_formatted_code);\n",
       "                        }\n",
       "                        break;\n",
       "                    }\n",
       "                }\n",
       "            }, 500);\n",
       "            "
      ],
      "text/plain": [
       "<IPython.core.display.Javascript object>"
      ]
     },
     "metadata": {},
     "output_type": "display_data"
    }
   ],
   "source": [
    "asdf = \"\"\"Koh.li scored 92 Rohit scored 65 88Siraj @hit 5 wickets ABD scores 101 runs Kohli\"\"\"\n",
    "aa = re.findall(r\"\\w+\", asdf)\n",
    "print(aa)\n",
    "# gets alphanumeric characters"
   ]
  },
  {
   "cell_type": "code",
   "execution_count": 350,
   "id": "579735b9",
   "metadata": {},
   "outputs": [
    {
     "name": "stdout",
     "output_type": "stream",
     "text": [
      "['.', ' ', ' ', ' ', ' ', ' ', ' ', ' ', '@', ' ', ' ', ' ', ' ', ' ', ' ', ' ']\n"
     ]
    },
    {
     "data": {
      "application/javascript": [
       "\n",
       "            setTimeout(function() {\n",
       "                var nbb_cell_id = 350;\n",
       "                var nbb_unformatted_code = \"asdf = '''Koh.li scored 92 Rohit scored 65 88Siraj @hit 5 wickets ABD scores 101 runs Kohli'''\\naa = re.findall(r'\\\\W',asdf)\\nprint(aa)\\n# gets non alphanumeric characters\";\n",
       "                var nbb_formatted_code = \"asdf = \\\"\\\"\\\"Koh.li scored 92 Rohit scored 65 88Siraj @hit 5 wickets ABD scores 101 runs Kohli\\\"\\\"\\\"\\naa = re.findall(r\\\"\\\\W\\\", asdf)\\nprint(aa)\\n# gets non alphanumeric characters\";\n",
       "                var nbb_cells = Jupyter.notebook.get_cells();\n",
       "                for (var i = 0; i < nbb_cells.length; ++i) {\n",
       "                    if (nbb_cells[i].input_prompt_number == nbb_cell_id) {\n",
       "                        if (nbb_cells[i].get_text() == nbb_unformatted_code) {\n",
       "                             nbb_cells[i].set_text(nbb_formatted_code);\n",
       "                        }\n",
       "                        break;\n",
       "                    }\n",
       "                }\n",
       "            }, 500);\n",
       "            "
      ],
      "text/plain": [
       "<IPython.core.display.Javascript object>"
      ]
     },
     "metadata": {},
     "output_type": "display_data"
    }
   ],
   "source": [
    "asdf = \"\"\"Koh.li scored 92 Rohit scored 65 88Siraj @hit 5 wickets ABD scores 101 runs Kohli\"\"\"\n",
    "aa = re.findall(r\"\\W\", asdf)\n",
    "print(aa)\n",
    "# gets non alphanumeric characters"
   ]
  },
  {
   "cell_type": "code",
   "execution_count": 351,
   "id": "f22b21be",
   "metadata": {},
   "outputs": [
    {
     "name": "stdout",
     "output_type": "stream",
     "text": [
      "['Koh', 'li', 'scored', '92', 'Rohit', 'scored', '65', '88Siraj', 'hit', '5', 'wickets', 'ABD', 'scores', '101', 'runs', 'Kohli']\n"
     ]
    },
    {
     "data": {
      "application/javascript": [
       "\n",
       "            setTimeout(function() {\n",
       "                var nbb_cell_id = 351;\n",
       "                var nbb_unformatted_code = \"asdf = '''Koh.li scored 92 Rohit scored 65 88Siraj @hit 5 wickets ABD scores 101 runs Kohli'''\\naa = re.findall(r'\\\\w+',asdf)\\nprint(aa)\\n# get salpha numeric character\";\n",
       "                var nbb_formatted_code = \"asdf = \\\"\\\"\\\"Koh.li scored 92 Rohit scored 65 88Siraj @hit 5 wickets ABD scores 101 runs Kohli\\\"\\\"\\\"\\naa = re.findall(r\\\"\\\\w+\\\", asdf)\\nprint(aa)\\n# get salpha numeric character\";\n",
       "                var nbb_cells = Jupyter.notebook.get_cells();\n",
       "                for (var i = 0; i < nbb_cells.length; ++i) {\n",
       "                    if (nbb_cells[i].input_prompt_number == nbb_cell_id) {\n",
       "                        if (nbb_cells[i].get_text() == nbb_unformatted_code) {\n",
       "                             nbb_cells[i].set_text(nbb_formatted_code);\n",
       "                        }\n",
       "                        break;\n",
       "                    }\n",
       "                }\n",
       "            }, 500);\n",
       "            "
      ],
      "text/plain": [
       "<IPython.core.display.Javascript object>"
      ]
     },
     "metadata": {},
     "output_type": "display_data"
    }
   ],
   "source": [
    "asdf = \"\"\"Koh.li scored 92 Rohit scored 65 88Siraj @hit 5 wickets ABD scores 101 runs Kohli\"\"\"\n",
    "aa = re.findall(r\"\\w+\", asdf)\n",
    "print(aa)\n",
    "# get salpha numeric character"
   ]
  },
  {
   "cell_type": "code",
   "execution_count": 352,
   "id": "f9729220",
   "metadata": {},
   "outputs": [
    {
     "name": "stdout",
     "output_type": "stream",
     "text": [
      "['K', 'K', 'K']\n"
     ]
    },
    {
     "data": {
      "application/javascript": [
       "\n",
       "            setTimeout(function() {\n",
       "                var nbb_cell_id = 352;\n",
       "                var nbb_unformatted_code = \"asdf = '''Koh.li scoredK 92 Rohit scoredK 65 88Siraj @hit 5 wickets ABD scores 101 runs KohliK'''\\naa = re.findall(r'K\\\\b',asdf)\\nprint(aa)\\n# matches if the word ends with given character\";\n",
       "                var nbb_formatted_code = \"asdf = \\\"\\\"\\\"Koh.li scoredK 92 Rohit scoredK 65 88Siraj @hit 5 wickets ABD scores 101 runs KohliK\\\"\\\"\\\"\\naa = re.findall(r\\\"K\\\\b\\\", asdf)\\nprint(aa)\\n# matches if the word ends with given character\";\n",
       "                var nbb_cells = Jupyter.notebook.get_cells();\n",
       "                for (var i = 0; i < nbb_cells.length; ++i) {\n",
       "                    if (nbb_cells[i].input_prompt_number == nbb_cell_id) {\n",
       "                        if (nbb_cells[i].get_text() == nbb_unformatted_code) {\n",
       "                             nbb_cells[i].set_text(nbb_formatted_code);\n",
       "                        }\n",
       "                        break;\n",
       "                    }\n",
       "                }\n",
       "            }, 500);\n",
       "            "
      ],
      "text/plain": [
       "<IPython.core.display.Javascript object>"
      ]
     },
     "metadata": {},
     "output_type": "display_data"
    }
   ],
   "source": [
    "asdf = \"\"\"Koh.li scoredK 92 Rohit scoredK 65 88Siraj @hit 5 wickets ABD scores 101 runs KohliK\"\"\"\n",
    "aa = re.findall(r\"K\\b\", asdf)\n",
    "print(aa)\n",
    "# matches if the word ends with given character"
   ]
  },
  {
   "cell_type": "code",
   "execution_count": 353,
   "id": "efa1c815",
   "metadata": {},
   "outputs": [
    {
     "name": "stdout",
     "output_type": "stream",
     "text": [
      "['K', 'K']\n"
     ]
    },
    {
     "data": {
      "application/javascript": [
       "\n",
       "            setTimeout(function() {\n",
       "                var nbb_cell_id = 353;\n",
       "                var nbb_unformatted_code = \"asdf = '''Koh.li scoredK 92 Rohit scoredK 65 88Siraj @hit 5 wickets ABD scores 101 runs KohliK'''\\naa = re.findall(r'\\\\bK',asdf)\\nprint(aa)\\n# matches if the word begins with given character\";\n",
       "                var nbb_formatted_code = \"asdf = \\\"\\\"\\\"Koh.li scoredK 92 Rohit scoredK 65 88Siraj @hit 5 wickets ABD scores 101 runs KohliK\\\"\\\"\\\"\\naa = re.findall(r\\\"\\\\bK\\\", asdf)\\nprint(aa)\\n# matches if the word begins with given character\";\n",
       "                var nbb_cells = Jupyter.notebook.get_cells();\n",
       "                for (var i = 0; i < nbb_cells.length; ++i) {\n",
       "                    if (nbb_cells[i].input_prompt_number == nbb_cell_id) {\n",
       "                        if (nbb_cells[i].get_text() == nbb_unformatted_code) {\n",
       "                             nbb_cells[i].set_text(nbb_formatted_code);\n",
       "                        }\n",
       "                        break;\n",
       "                    }\n",
       "                }\n",
       "            }, 500);\n",
       "            "
      ],
      "text/plain": [
       "<IPython.core.display.Javascript object>"
      ]
     },
     "metadata": {},
     "output_type": "display_data"
    }
   ],
   "source": [
    "asdf = \"\"\"Koh.li scoredK 92 Rohit scoredK 65 88Siraj @hit 5 wickets ABD scores 101 runs KohliK\"\"\"\n",
    "aa = re.findall(r\"\\bK\", asdf)\n",
    "print(aa)\n",
    "# matches if the word begins with given character"
   ]
  },
  {
   "cell_type": "code",
   "execution_count": 354,
   "id": "6d03c618",
   "metadata": {},
   "outputs": [
    {
     "name": "stdout",
     "output_type": "stream",
     "text": [
      "['K', 'K', 'K']\n"
     ]
    },
    {
     "data": {
      "application/javascript": [
       "\n",
       "            setTimeout(function() {\n",
       "                var nbb_cell_id = 354;\n",
       "                var nbb_unformatted_code = \"asdf = '''Koh.li scoredK 92 Rohit scoredK 65 88Siraj @hit 5 wickets ABD scores 101 runs KohliK'''\\naa = re.findall(r'\\\\BK',asdf)\\nprint(aa)\\n# opposite of \\\\b , string doesnt start or end with\";\n",
       "                var nbb_formatted_code = \"asdf = \\\"\\\"\\\"Koh.li scoredK 92 Rohit scoredK 65 88Siraj @hit 5 wickets ABD scores 101 runs KohliK\\\"\\\"\\\"\\naa = re.findall(r\\\"\\\\BK\\\", asdf)\\nprint(aa)\\n# opposite of \\\\b , string doesnt start or end with\";\n",
       "                var nbb_cells = Jupyter.notebook.get_cells();\n",
       "                for (var i = 0; i < nbb_cells.length; ++i) {\n",
       "                    if (nbb_cells[i].input_prompt_number == nbb_cell_id) {\n",
       "                        if (nbb_cells[i].get_text() == nbb_unformatted_code) {\n",
       "                             nbb_cells[i].set_text(nbb_formatted_code);\n",
       "                        }\n",
       "                        break;\n",
       "                    }\n",
       "                }\n",
       "            }, 500);\n",
       "            "
      ],
      "text/plain": [
       "<IPython.core.display.Javascript object>"
      ]
     },
     "metadata": {},
     "output_type": "display_data"
    }
   ],
   "source": [
    "asdf = \"\"\"Koh.li scoredK 92 Rohit scoredK 65 88Siraj @hit 5 wickets ABD scores 101 runs KohliK\"\"\"\n",
    "aa = re.findall(r\"\\BK\", asdf)\n",
    "print(aa)\n",
    "# opposite of \\b , string doesnt start or end with"
   ]
  },
  {
   "cell_type": "code",
   "execution_count": 355,
   "id": "1bb55e90",
   "metadata": {},
   "outputs": [
    {
     "name": "stdout",
     "output_type": "stream",
     "text": [
      "['K', 'K']\n"
     ]
    },
    {
     "data": {
      "application/javascript": [
       "\n",
       "            setTimeout(function() {\n",
       "                var nbb_cell_id = 355;\n",
       "                var nbb_unformatted_code = \"asdf = '''Koh.li scoredK 92 Rohit scoredK 65 88Siraj @hit 5 wickets ABD scores 101 runs KohliK'''\\naa = re.findall(r'K\\\\B',asdf)\\nprint(aa)\\n# opposite of \\\\b , string doesnt start or end with\";\n",
       "                var nbb_formatted_code = \"asdf = \\\"\\\"\\\"Koh.li scoredK 92 Rohit scoredK 65 88Siraj @hit 5 wickets ABD scores 101 runs KohliK\\\"\\\"\\\"\\naa = re.findall(r\\\"K\\\\B\\\", asdf)\\nprint(aa)\\n# opposite of \\\\b , string doesnt start or end with\";\n",
       "                var nbb_cells = Jupyter.notebook.get_cells();\n",
       "                for (var i = 0; i < nbb_cells.length; ++i) {\n",
       "                    if (nbb_cells[i].input_prompt_number == nbb_cell_id) {\n",
       "                        if (nbb_cells[i].get_text() == nbb_unformatted_code) {\n",
       "                             nbb_cells[i].set_text(nbb_formatted_code);\n",
       "                        }\n",
       "                        break;\n",
       "                    }\n",
       "                }\n",
       "            }, 500);\n",
       "            "
      ],
      "text/plain": [
       "<IPython.core.display.Javascript object>"
      ]
     },
     "metadata": {},
     "output_type": "display_data"
    }
   ],
   "source": [
    "asdf = \"\"\"Koh.li scoredK 92 Rohit scoredK 65 88Siraj @hit 5 wickets ABD scores 101 runs KohliK\"\"\"\n",
    "aa = re.findall(r\"K\\B\", asdf)\n",
    "print(aa)\n",
    "# opposite of \\b , string doesnt start or end with"
   ]
  },
  {
   "cell_type": "code",
   "execution_count": 356,
   "id": "0bb35dea",
   "metadata": {},
   "outputs": [
    {
     "name": "stdout",
     "output_type": "stream",
     "text": [
      "['92', '65', '88', '5', '101']\n"
     ]
    },
    {
     "data": {
      "application/javascript": [
       "\n",
       "            setTimeout(function() {\n",
       "                var nbb_cell_id = 356;\n",
       "                var nbb_unformatted_code = \"asdf = '''Koh.li scoredK 92 Rohit scoredK 65 88Siraj @hit 5 wickets ABD scores 101 runs KohliK'''\\naa = re.findall(r'\\\\d+',asdf)\\nprint(aa)\\n# obtains all digits\";\n",
       "                var nbb_formatted_code = \"asdf = \\\"\\\"\\\"Koh.li scoredK 92 Rohit scoredK 65 88Siraj @hit 5 wickets ABD scores 101 runs KohliK\\\"\\\"\\\"\\naa = re.findall(r\\\"\\\\d+\\\", asdf)\\nprint(aa)\\n# obtains all digits\";\n",
       "                var nbb_cells = Jupyter.notebook.get_cells();\n",
       "                for (var i = 0; i < nbb_cells.length; ++i) {\n",
       "                    if (nbb_cells[i].input_prompt_number == nbb_cell_id) {\n",
       "                        if (nbb_cells[i].get_text() == nbb_unformatted_code) {\n",
       "                             nbb_cells[i].set_text(nbb_formatted_code);\n",
       "                        }\n",
       "                        break;\n",
       "                    }\n",
       "                }\n",
       "            }, 500);\n",
       "            "
      ],
      "text/plain": [
       "<IPython.core.display.Javascript object>"
      ]
     },
     "metadata": {},
     "output_type": "display_data"
    }
   ],
   "source": [
    "asdf = \"\"\"Koh.li scoredK 92 Rohit scoredK 65 88Siraj @hit 5 wickets ABD scores 101 runs KohliK\"\"\"\n",
    "aa = re.findall(r\"\\d+\", asdf)\n",
    "print(aa)\n",
    "# obtains all digits"
   ]
  },
  {
   "cell_type": "code",
   "execution_count": 357,
   "id": "fb283504",
   "metadata": {},
   "outputs": [
    {
     "name": "stdout",
     "output_type": "stream",
     "text": [
      "['Koh.li scoredK ', ' Rohit scoredK ', ' ', 'Siraj @hit ', ' wickets ABD scores ', ' runs KohliK']\n"
     ]
    },
    {
     "data": {
      "application/javascript": [
       "\n",
       "            setTimeout(function() {\n",
       "                var nbb_cell_id = 357;\n",
       "                var nbb_unformatted_code = \"asdf = '''Koh.li scoredK 92 Rohit scoredK 65 88Siraj @hit 5 wickets ABD scores 101 runs KohliK'''\\naa = re.findall(r'\\\\D+',asdf)\\nprint(aa)\\n# \\\\D obtains all non digits \";\n",
       "                var nbb_formatted_code = \"asdf = \\\"\\\"\\\"Koh.li scoredK 92 Rohit scoredK 65 88Siraj @hit 5 wickets ABD scores 101 runs KohliK\\\"\\\"\\\"\\naa = re.findall(r\\\"\\\\D+\\\", asdf)\\nprint(aa)\\n# \\\\D obtains all non digits\";\n",
       "                var nbb_cells = Jupyter.notebook.get_cells();\n",
       "                for (var i = 0; i < nbb_cells.length; ++i) {\n",
       "                    if (nbb_cells[i].input_prompt_number == nbb_cell_id) {\n",
       "                        if (nbb_cells[i].get_text() == nbb_unformatted_code) {\n",
       "                             nbb_cells[i].set_text(nbb_formatted_code);\n",
       "                        }\n",
       "                        break;\n",
       "                    }\n",
       "                }\n",
       "            }, 500);\n",
       "            "
      ],
      "text/plain": [
       "<IPython.core.display.Javascript object>"
      ]
     },
     "metadata": {},
     "output_type": "display_data"
    }
   ],
   "source": [
    "asdf = \"\"\"Koh.li scoredK 92 Rohit scoredK 65 88Siraj @hit 5 wickets ABD scores 101 runs KohliK\"\"\"\n",
    "aa = re.findall(r\"\\D+\", asdf)\n",
    "print(aa)\n",
    "# \\D obtains all non digits"
   ]
  },
  {
   "cell_type": "code",
   "execution_count": 358,
   "id": "64464192",
   "metadata": {},
   "outputs": [
    {
     "name": "stdout",
     "output_type": "stream",
     "text": [
      "['Koh.li', 'scoredK', '92', 'Rohit', 'scoredK', '65', '88Siraj', '@hit', '5', 'wickets', 'ABD', 'scores', '101', 'runs', 'KohliK']\n"
     ]
    },
    {
     "data": {
      "application/javascript": [
       "\n",
       "            setTimeout(function() {\n",
       "                var nbb_cell_id = 358;\n",
       "                var nbb_unformatted_code = \"asdf = '''Koh.li scoredK 92 Rohit scoredK 65 88Siraj @hit 5 wickets ABD scores 101 runs KohliK'''\\naa = re.findall(r'\\\\S+',asdf)\\nprint(aa)\\n# \\\\S obtains all non white space charecters\";\n",
       "                var nbb_formatted_code = \"asdf = \\\"\\\"\\\"Koh.li scoredK 92 Rohit scoredK 65 88Siraj @hit 5 wickets ABD scores 101 runs KohliK\\\"\\\"\\\"\\naa = re.findall(r\\\"\\\\S+\\\", asdf)\\nprint(aa)\\n# \\\\S obtains all non white space charecters\";\n",
       "                var nbb_cells = Jupyter.notebook.get_cells();\n",
       "                for (var i = 0; i < nbb_cells.length; ++i) {\n",
       "                    if (nbb_cells[i].input_prompt_number == nbb_cell_id) {\n",
       "                        if (nbb_cells[i].get_text() == nbb_unformatted_code) {\n",
       "                             nbb_cells[i].set_text(nbb_formatted_code);\n",
       "                        }\n",
       "                        break;\n",
       "                    }\n",
       "                }\n",
       "            }, 500);\n",
       "            "
      ],
      "text/plain": [
       "<IPython.core.display.Javascript object>"
      ]
     },
     "metadata": {},
     "output_type": "display_data"
    }
   ],
   "source": [
    "asdf = \"\"\"Koh.li scoredK 92 Rohit scoredK 65 88Siraj @hit 5 wickets ABD scores 101 runs KohliK\"\"\"\n",
    "aa = re.findall(r\"\\S+\", asdf)\n",
    "print(aa)\n",
    "# \\S obtains all non white space charecters"
   ]
  },
  {
   "cell_type": "code",
   "execution_count": 359,
   "id": "e568db33",
   "metadata": {},
   "outputs": [
    {
     "name": "stdout",
     "output_type": "stream",
     "text": [
      "[' ', ' ', ' ', ' ', ' ', ' ', ' ', ' ', ' ', ' ', ' ', ' ', ' ', ' ']\n"
     ]
    },
    {
     "data": {
      "application/javascript": [
       "\n",
       "            setTimeout(function() {\n",
       "                var nbb_cell_id = 359;\n",
       "                var nbb_unformatted_code = \"asdf = '''Koh.li scoredK 92 Rohit scoredK 65 88Siraj @hit 5 wickets ABD scores 101 runs KohliK'''\\naa = re.findall(r'\\\\s+',asdf)\\nprint(aa)\\n# \\\\S obtains all white space charecters\";\n",
       "                var nbb_formatted_code = \"asdf = \\\"\\\"\\\"Koh.li scoredK 92 Rohit scoredK 65 88Siraj @hit 5 wickets ABD scores 101 runs KohliK\\\"\\\"\\\"\\naa = re.findall(r\\\"\\\\s+\\\", asdf)\\nprint(aa)\\n# \\\\S obtains all white space charecters\";\n",
       "                var nbb_cells = Jupyter.notebook.get_cells();\n",
       "                for (var i = 0; i < nbb_cells.length; ++i) {\n",
       "                    if (nbb_cells[i].input_prompt_number == nbb_cell_id) {\n",
       "                        if (nbb_cells[i].get_text() == nbb_unformatted_code) {\n",
       "                             nbb_cells[i].set_text(nbb_formatted_code);\n",
       "                        }\n",
       "                        break;\n",
       "                    }\n",
       "                }\n",
       "            }, 500);\n",
       "            "
      ],
      "text/plain": [
       "<IPython.core.display.Javascript object>"
      ]
     },
     "metadata": {},
     "output_type": "display_data"
    }
   ],
   "source": [
    "asdf = \"\"\"Koh.li scoredK 92 Rohit scoredK 65 88Siraj @hit 5 wickets ABD scores 101 runs KohliK\"\"\"\n",
    "aa = re.findall(r\"\\s+\", asdf)\n",
    "print(aa)\n",
    "# \\S obtains all white space charecters"
   ]
  },
  {
   "cell_type": "code",
   "execution_count": 360,
   "id": "a7b796c1",
   "metadata": {},
   "outputs": [
    {
     "name": "stdout",
     "output_type": "stream",
     "text": [
      "['Koh', 'li', 'scoredK', '92', 'Rohit', 'scoredK', '65', '88Siraj', 'hit', '5', 'wickets', 'ABD', 'scores', '101', 'runs', 'KohliK']\n"
     ]
    },
    {
     "data": {
      "application/javascript": [
       "\n",
       "            setTimeout(function() {\n",
       "                var nbb_cell_id = 360;\n",
       "                var nbb_unformatted_code = \"asdf = '''Koh.li scoredK 92 Rohit scoredK 65 88Siraj @hit 5 wickets ABD scores 101 runs KohliK'''\\naa = re.findall(r'\\\\w+',asdf)\\nprint(aa)\\n# \\\\w oobtainns alpha numberic\";\n",
       "                var nbb_formatted_code = \"asdf = \\\"\\\"\\\"Koh.li scoredK 92 Rohit scoredK 65 88Siraj @hit 5 wickets ABD scores 101 runs KohliK\\\"\\\"\\\"\\naa = re.findall(r\\\"\\\\w+\\\", asdf)\\nprint(aa)\\n# \\\\w oobtainns alpha numberic\";\n",
       "                var nbb_cells = Jupyter.notebook.get_cells();\n",
       "                for (var i = 0; i < nbb_cells.length; ++i) {\n",
       "                    if (nbb_cells[i].input_prompt_number == nbb_cell_id) {\n",
       "                        if (nbb_cells[i].get_text() == nbb_unformatted_code) {\n",
       "                             nbb_cells[i].set_text(nbb_formatted_code);\n",
       "                        }\n",
       "                        break;\n",
       "                    }\n",
       "                }\n",
       "            }, 500);\n",
       "            "
      ],
      "text/plain": [
       "<IPython.core.display.Javascript object>"
      ]
     },
     "metadata": {},
     "output_type": "display_data"
    }
   ],
   "source": [
    "asdf = \"\"\"Koh.li scoredK 92 Rohit scoredK 65 88Siraj @hit 5 wickets ABD scores 101 runs KohliK\"\"\"\n",
    "aa = re.findall(r\"\\w+\", asdf)\n",
    "print(aa)\n",
    "# \\w oobtainns alpha numberic"
   ]
  },
  {
   "cell_type": "code",
   "execution_count": 361,
   "id": "c30e9972",
   "metadata": {},
   "outputs": [
    {
     "name": "stdout",
     "output_type": "stream",
     "text": [
      "['.', ' ', ' ', ' ', ' ', ' ', ' ', ' @', ' ', ' ', ' ', ' ', ' ', ' ', ' ']\n"
     ]
    },
    {
     "data": {
      "application/javascript": [
       "\n",
       "            setTimeout(function() {\n",
       "                var nbb_cell_id = 361;\n",
       "                var nbb_unformatted_code = \"asdf = '''Koh.li scoredK 92 Rohit scoredK 65 88Siraj @hit 5 wickets ABD scores 101 runs KohliK'''\\naa = re.findall(r'\\\\W+',asdf)\\nprint(aa)\\n# \\\\w oobtainns non alpha numberic\";\n",
       "                var nbb_formatted_code = \"asdf = \\\"\\\"\\\"Koh.li scoredK 92 Rohit scoredK 65 88Siraj @hit 5 wickets ABD scores 101 runs KohliK\\\"\\\"\\\"\\naa = re.findall(r\\\"\\\\W+\\\", asdf)\\nprint(aa)\\n# \\\\w oobtainns non alpha numberic\";\n",
       "                var nbb_cells = Jupyter.notebook.get_cells();\n",
       "                for (var i = 0; i < nbb_cells.length; ++i) {\n",
       "                    if (nbb_cells[i].input_prompt_number == nbb_cell_id) {\n",
       "                        if (nbb_cells[i].get_text() == nbb_unformatted_code) {\n",
       "                             nbb_cells[i].set_text(nbb_formatted_code);\n",
       "                        }\n",
       "                        break;\n",
       "                    }\n",
       "                }\n",
       "            }, 500);\n",
       "            "
      ],
      "text/plain": [
       "<IPython.core.display.Javascript object>"
      ]
     },
     "metadata": {},
     "output_type": "display_data"
    }
   ],
   "source": [
    "asdf = \"\"\"Koh.li scoredK 92 Rohit scoredK 65 88Siraj @hit 5 wickets ABD scores 101 runs KohliK\"\"\"\n",
    "aa = re.findall(r\"\\W+\", asdf)\n",
    "print(aa)\n",
    "# \\w oobtainns non alpha numberic"
   ]
  },
  {
   "cell_type": "code",
   "execution_count": 362,
   "id": "0d2d23db",
   "metadata": {},
   "outputs": [
    {
     "name": "stdout",
     "output_type": "stream",
     "text": [
      "['K']\n"
     ]
    },
    {
     "data": {
      "application/javascript": [
       "\n",
       "            setTimeout(function() {\n",
       "                var nbb_cell_id = 362;\n",
       "                var nbb_unformatted_code = \"asdf = '''Koh.li scoredK 92 Rohit scoredK 65 88Siraj @hit 5 wickets ABD scores 101 runs KohliK'''\\naa = re.findall(r'[A-Z]+\\\\Z',asdf)\\n# aa = re.findall(r'iK\\\\Z',asdf)\\nprint(aa)\\n# \\\\Z obtains last element\";\n",
       "                var nbb_formatted_code = \"asdf = \\\"\\\"\\\"Koh.li scoredK 92 Rohit scoredK 65 88Siraj @hit 5 wickets ABD scores 101 runs KohliK\\\"\\\"\\\"\\naa = re.findall(r\\\"[A-Z]+\\\\Z\\\", asdf)\\n# aa = re.findall(r'iK\\\\Z',asdf)\\nprint(aa)\\n# \\\\Z obtains last element\";\n",
       "                var nbb_cells = Jupyter.notebook.get_cells();\n",
       "                for (var i = 0; i < nbb_cells.length; ++i) {\n",
       "                    if (nbb_cells[i].input_prompt_number == nbb_cell_id) {\n",
       "                        if (nbb_cells[i].get_text() == nbb_unformatted_code) {\n",
       "                             nbb_cells[i].set_text(nbb_formatted_code);\n",
       "                        }\n",
       "                        break;\n",
       "                    }\n",
       "                }\n",
       "            }, 500);\n",
       "            "
      ],
      "text/plain": [
       "<IPython.core.display.Javascript object>"
      ]
     },
     "metadata": {},
     "output_type": "display_data"
    }
   ],
   "source": [
    "asdf = \"\"\"Koh.li scoredK 92 Rohit scoredK 65 88Siraj @hit 5 wickets ABD scores 101 runs KohliK\"\"\"\n",
    "aa = re.findall(r\"[A-Z]+\\Z\", asdf)\n",
    "# aa = re.findall(r'iK\\Z',asdf)\n",
    "print(aa)\n",
    "# \\Z obtains last element"
   ]
  },
  {
   "cell_type": "code",
   "execution_count": 363,
   "id": "03795499",
   "metadata": {},
   "outputs": [
    {
     "name": "stdout",
     "output_type": "stream",
     "text": [
      "['++', '+']\n"
     ]
    },
    {
     "data": {
      "application/javascript": [
       "\n",
       "            setTimeout(function() {\n",
       "                var nbb_cell_id = 363;\n",
       "                var nbb_unformatted_code = \"asdf = '''Koh.li scoredK 92 Rohit scoredK 65 88++Siraj @hit 5 wick+ets ABD scores 101 runs KohliK'''\\naa = re.findall(r'\\\\++',asdf)\\nprint(aa)\";\n",
       "                var nbb_formatted_code = \"asdf = \\\"\\\"\\\"Koh.li scoredK 92 Rohit scoredK 65 88++Siraj @hit 5 wick+ets ABD scores 101 runs KohliK\\\"\\\"\\\"\\naa = re.findall(r\\\"\\\\++\\\", asdf)\\nprint(aa)\";\n",
       "                var nbb_cells = Jupyter.notebook.get_cells();\n",
       "                for (var i = 0; i < nbb_cells.length; ++i) {\n",
       "                    if (nbb_cells[i].input_prompt_number == nbb_cell_id) {\n",
       "                        if (nbb_cells[i].get_text() == nbb_unformatted_code) {\n",
       "                             nbb_cells[i].set_text(nbb_formatted_code);\n",
       "                        }\n",
       "                        break;\n",
       "                    }\n",
       "                }\n",
       "            }, 500);\n",
       "            "
      ],
      "text/plain": [
       "<IPython.core.display.Javascript object>"
      ]
     },
     "metadata": {},
     "output_type": "display_data"
    }
   ],
   "source": [
    "asdf = \"\"\"Koh.li scoredK 92 Rohit scoredK 65 88++Siraj @hit 5 wick+ets ABD scores 101 runs KohliK\"\"\"\n",
    "aa = re.findall(r\"\\++\", asdf)\n",
    "print(aa)"
   ]
  },
  {
   "cell_type": "code",
   "execution_count": 364,
   "id": "2179640f",
   "metadata": {},
   "outputs": [
    {
     "name": "stdout",
     "output_type": "stream",
     "text": [
      "['++', '+']\n"
     ]
    },
    {
     "data": {
      "application/javascript": [
       "\n",
       "            setTimeout(function() {\n",
       "                var nbb_cell_id = 364;\n",
       "                var nbb_unformatted_code = \"asdf = '''Koh.li scoredK 92 Rohit scoredK 65 88++Siraj @hit 5 wick+ets ABD scores 101 runs KohliK'''\\naa = re.findall(r'[+]+',asdf)\\nprint(aa)\";\n",
       "                var nbb_formatted_code = \"asdf = \\\"\\\"\\\"Koh.li scoredK 92 Rohit scoredK 65 88++Siraj @hit 5 wick+ets ABD scores 101 runs KohliK\\\"\\\"\\\"\\naa = re.findall(r\\\"[+]+\\\", asdf)\\nprint(aa)\";\n",
       "                var nbb_cells = Jupyter.notebook.get_cells();\n",
       "                for (var i = 0; i < nbb_cells.length; ++i) {\n",
       "                    if (nbb_cells[i].input_prompt_number == nbb_cell_id) {\n",
       "                        if (nbb_cells[i].get_text() == nbb_unformatted_code) {\n",
       "                             nbb_cells[i].set_text(nbb_formatted_code);\n",
       "                        }\n",
       "                        break;\n",
       "                    }\n",
       "                }\n",
       "            }, 500);\n",
       "            "
      ],
      "text/plain": [
       "<IPython.core.display.Javascript object>"
      ]
     },
     "metadata": {},
     "output_type": "display_data"
    }
   ],
   "source": [
    "asdf = \"\"\"Koh.li scoredK 92 Rohit scoredK 65 88++Siraj @hit 5 wick+ets ABD scores 101 runs KohliK\"\"\"\n",
    "aa = re.findall(r\"[+]+\", asdf)\n",
    "print(aa)"
   ]
  },
  {
   "cell_type": "code",
   "execution_count": 365,
   "id": "0762b189",
   "metadata": {},
   "outputs": [
    {
     "name": "stdout",
     "output_type": "stream",
     "text": [
      "['.']\n"
     ]
    },
    {
     "data": {
      "application/javascript": [
       "\n",
       "            setTimeout(function() {\n",
       "                var nbb_cell_id = 365;\n",
       "                var nbb_unformatted_code = \"asdf = '''Koh.li scoredK 92 Rohit scoredK 65 88++Siraj @hit 5 wick+ets ABD scores 101 runs KohliK'''\\naa = re.findall(r'\\\\.',asdf)\\nprint(aa)\";\n",
       "                var nbb_formatted_code = \"asdf = \\\"\\\"\\\"Koh.li scoredK 92 Rohit scoredK 65 88++Siraj @hit 5 wick+ets ABD scores 101 runs KohliK\\\"\\\"\\\"\\naa = re.findall(r\\\"\\\\.\\\", asdf)\\nprint(aa)\";\n",
       "                var nbb_cells = Jupyter.notebook.get_cells();\n",
       "                for (var i = 0; i < nbb_cells.length; ++i) {\n",
       "                    if (nbb_cells[i].input_prompt_number == nbb_cell_id) {\n",
       "                        if (nbb_cells[i].get_text() == nbb_unformatted_code) {\n",
       "                             nbb_cells[i].set_text(nbb_formatted_code);\n",
       "                        }\n",
       "                        break;\n",
       "                    }\n",
       "                }\n",
       "            }, 500);\n",
       "            "
      ],
      "text/plain": [
       "<IPython.core.display.Javascript object>"
      ]
     },
     "metadata": {},
     "output_type": "display_data"
    }
   ],
   "source": [
    "asdf = \"\"\"Koh.li scoredK 92 Rohit scoredK 65 88++Siraj @hit 5 wick+ets ABD scores 101 runs KohliK\"\"\"\n",
    "aa = re.findall(r\"\\.\", asdf)\n",
    "print(aa)"
   ]
  },
  {
   "cell_type": "markdown",
   "id": "eaa1e03d",
   "metadata": {},
   "source": [
    "# sets"
   ]
  },
  {
   "cell_type": "code",
   "execution_count": 366,
   "id": "47a36287",
   "metadata": {},
   "outputs": [
    {
     "name": "stdout",
     "output_type": "stream",
     "text": [
      "['t', 'a', 't', 't', 'A']\n"
     ]
    },
    {
     "data": {
      "application/javascript": [
       "\n",
       "            setTimeout(function() {\n",
       "                var nbb_cell_id = 366;\n",
       "                var nbb_unformatted_code = \"# [atxATX]\\nasdf = '''Koh.li scoredK 92 Rohit scoredK 65 88++Siraj @hit 5 wick+ets ABD scores 101 runs KohliK'''\\naa = re.findall(r'[atxATX]',asdf)\\nprint(aa)\";\n",
       "                var nbb_formatted_code = \"# [atxATX]\\nasdf = \\\"\\\"\\\"Koh.li scoredK 92 Rohit scoredK 65 88++Siraj @hit 5 wick+ets ABD scores 101 runs KohliK\\\"\\\"\\\"\\naa = re.findall(r\\\"[atxATX]\\\", asdf)\\nprint(aa)\";\n",
       "                var nbb_cells = Jupyter.notebook.get_cells();\n",
       "                for (var i = 0; i < nbb_cells.length; ++i) {\n",
       "                    if (nbb_cells[i].input_prompt_number == nbb_cell_id) {\n",
       "                        if (nbb_cells[i].get_text() == nbb_unformatted_code) {\n",
       "                             nbb_cells[i].set_text(nbb_formatted_code);\n",
       "                        }\n",
       "                        break;\n",
       "                    }\n",
       "                }\n",
       "            }, 500);\n",
       "            "
      ],
      "text/plain": [
       "<IPython.core.display.Javascript object>"
      ]
     },
     "metadata": {},
     "output_type": "display_data"
    }
   ],
   "source": [
    "# [atxATX]\n",
    "asdf = \"\"\"Koh.li scoredK 92 Rohit scoredK 65 88++Siraj @hit 5 wick+ets ABD scores 101 runs KohliK\"\"\"\n",
    "aa = re.findall(r\"[atxATX]\", asdf)\n",
    "print(aa)"
   ]
  },
  {
   "cell_type": "code",
   "execution_count": 367,
   "id": "c3aa045c",
   "metadata": {},
   "outputs": [
    {
     "name": "stdout",
     "output_type": "stream",
     "text": [
      "['K', 'o', 'h', 'l', 'i', 's', 'c', 'o', 'r', 'e', 'd', 'K', 'R', 'o', 'h', 'i', 't', 's', 'c', 'o', 'r', 'e', 'd', 'K', 'S', 'i', 'r', 'a', 'j', 'h', 'i', 't', 'i', 'c', 'k', 'e', 't', 's', 'A', 'B', 'D', 's', 'c', 'o', 'r', 'e', 's', 'r', 'n', 's', 'K', 'o', 'h', 'l', 'i', 'K']\n"
     ]
    },
    {
     "data": {
      "application/javascript": [
       "\n",
       "            setTimeout(function() {\n",
       "                var nbb_cell_id = 367;\n",
       "                var nbb_unformatted_code = \"#[a-t]\\nasdf = '''Koh.li scoredK 92 Rohit scoredK 65 88++Siraj @hit 5 wick+ets ABD scores 101 runs KohliK'''\\naa = re.findall(r'[a-tA-t]',asdf)\\nprint(aa)\";\n",
       "                var nbb_formatted_code = \"# [a-t]\\nasdf = \\\"\\\"\\\"Koh.li scoredK 92 Rohit scoredK 65 88++Siraj @hit 5 wick+ets ABD scores 101 runs KohliK\\\"\\\"\\\"\\naa = re.findall(r\\\"[a-tA-t]\\\", asdf)\\nprint(aa)\";\n",
       "                var nbb_cells = Jupyter.notebook.get_cells();\n",
       "                for (var i = 0; i < nbb_cells.length; ++i) {\n",
       "                    if (nbb_cells[i].input_prompt_number == nbb_cell_id) {\n",
       "                        if (nbb_cells[i].get_text() == nbb_unformatted_code) {\n",
       "                             nbb_cells[i].set_text(nbb_formatted_code);\n",
       "                        }\n",
       "                        break;\n",
       "                    }\n",
       "                }\n",
       "            }, 500);\n",
       "            "
      ],
      "text/plain": [
       "<IPython.core.display.Javascript object>"
      ]
     },
     "metadata": {},
     "output_type": "display_data"
    }
   ],
   "source": [
    "# [a-t]\n",
    "asdf = \"\"\"Koh.li scoredK 92 Rohit scoredK 65 88++Siraj @hit 5 wick+ets ABD scores 101 runs KohliK\"\"\"\n",
    "aa = re.findall(r\"[a-tA-t]\", asdf)\n",
    "print(aa)"
   ]
  },
  {
   "cell_type": "code",
   "execution_count": 368,
   "id": "dcdf80de",
   "metadata": {},
   "outputs": [
    {
     "name": "stdout",
     "output_type": "stream",
     "text": [
      "['K', '.', ' ', 'K', ' ', '9', '2', ' ', 'R', ' ', 'K', ' ', '6', '5', ' ', '8', '8', '+', '+', 'S', ' ', '@', ' ', '5', ' ', 'w', '+', ' ', 'A', 'B', 'D', ' ', ' ', '1', '0', '1', ' ', 'u', ' ', 'K', 'K'] \n",
      "\n",
      "['K', '.', ' ', 'K', ' ', ' ', 'R', ' ', 'K', ' ', ' ', '+', '+', 'S', ' ', '@', ' ', ' ', 'w', '+', ' ', 'A', 'B', 'D', ' ', ' ', ' ', 'u', ' ', 'K', 'K']\n"
     ]
    },
    {
     "data": {
      "application/javascript": [
       "\n",
       "            setTimeout(function() {\n",
       "                var nbb_cell_id = 368;\n",
       "                var nbb_unformatted_code = \"#[^a-t] , prints all elements leaving a to t\\nasdf = '''Koh.li scoredK 92 Rohit scoredK 65 88++Siraj @hit 5 wick+ets ABD scores 101 runs KohliK'''\\naa = re.findall(r'[^a-t]',asdf)\\naaaa = re.findall(r'[^a-t\\\\d]',asdf)\\nprint(aa,'\\\\n')\\nprint(aaaa)\";\n",
       "                var nbb_formatted_code = \"# [^a-t] , prints all elements leaving a to t\\nasdf = \\\"\\\"\\\"Koh.li scoredK 92 Rohit scoredK 65 88++Siraj @hit 5 wick+ets ABD scores 101 runs KohliK\\\"\\\"\\\"\\naa = re.findall(r\\\"[^a-t]\\\", asdf)\\naaaa = re.findall(r\\\"[^a-t\\\\d]\\\", asdf)\\nprint(aa, \\\"\\\\n\\\")\\nprint(aaaa)\";\n",
       "                var nbb_cells = Jupyter.notebook.get_cells();\n",
       "                for (var i = 0; i < nbb_cells.length; ++i) {\n",
       "                    if (nbb_cells[i].input_prompt_number == nbb_cell_id) {\n",
       "                        if (nbb_cells[i].get_text() == nbb_unformatted_code) {\n",
       "                             nbb_cells[i].set_text(nbb_formatted_code);\n",
       "                        }\n",
       "                        break;\n",
       "                    }\n",
       "                }\n",
       "            }, 500);\n",
       "            "
      ],
      "text/plain": [
       "<IPython.core.display.Javascript object>"
      ]
     },
     "metadata": {},
     "output_type": "display_data"
    }
   ],
   "source": [
    "# [^a-t] , prints all elements leaving a to t\n",
    "asdf = \"\"\"Koh.li scoredK 92 Rohit scoredK 65 88++Siraj @hit 5 wick+ets ABD scores 101 runs KohliK\"\"\"\n",
    "aa = re.findall(r\"[^a-t]\", asdf)\n",
    "aaaa = re.findall(r\"[^a-t\\d]\", asdf)\n",
    "print(aa, \"\\n\")\n",
    "print(aaaa)"
   ]
  },
  {
   "cell_type": "code",
   "execution_count": 369,
   "id": "cd1e3744",
   "metadata": {},
   "outputs": [
    {
     "name": "stdout",
     "output_type": "stream",
     "text": [
      "['2', '1', '1']\n"
     ]
    },
    {
     "data": {
      "application/javascript": [
       "\n",
       "            setTimeout(function() {\n",
       "                var nbb_cell_id = 369;\n",
       "                var nbb_unformatted_code = \"# [123]\\nasdf = '''Koh.li scoredK 92 Rohit scoredK 65 88++Siraj @hit 5 wick+ets ABD scores 101 runs KohliK'''\\naa = re.findall(r'[123]',asdf)\\nprint(aa)\";\n",
       "                var nbb_formatted_code = \"# [123]\\nasdf = \\\"\\\"\\\"Koh.li scoredK 92 Rohit scoredK 65 88++Siraj @hit 5 wick+ets ABD scores 101 runs KohliK\\\"\\\"\\\"\\naa = re.findall(r\\\"[123]\\\", asdf)\\nprint(aa)\";\n",
       "                var nbb_cells = Jupyter.notebook.get_cells();\n",
       "                for (var i = 0; i < nbb_cells.length; ++i) {\n",
       "                    if (nbb_cells[i].input_prompt_number == nbb_cell_id) {\n",
       "                        if (nbb_cells[i].get_text() == nbb_unformatted_code) {\n",
       "                             nbb_cells[i].set_text(nbb_formatted_code);\n",
       "                        }\n",
       "                        break;\n",
       "                    }\n",
       "                }\n",
       "            }, 500);\n",
       "            "
      ],
      "text/plain": [
       "<IPython.core.display.Javascript object>"
      ]
     },
     "metadata": {},
     "output_type": "display_data"
    }
   ],
   "source": [
    "# [123]\n",
    "asdf = \"\"\"Koh.li scoredK 92 Rohit scoredK 65 88++Siraj @hit 5 wick+ets ABD scores 101 runs KohliK\"\"\"\n",
    "aa = re.findall(r\"[123]\", asdf)\n",
    "print(aa)"
   ]
  },
  {
   "cell_type": "code",
   "execution_count": 370,
   "id": "08b0fd39",
   "metadata": {},
   "outputs": [
    {
     "name": "stdout",
     "output_type": "stream",
     "text": [
      "['Koh.li scoredK 9', ' Rohit scoredK 65 88++Siraj @hit 5 wick+ets ABD scores ', '0', ' runs KohliK']\n",
      "\n",
      "\n",
      " [' 92', ' 65', ' 88', ' 5', ' 101']\n"
     ]
    },
    {
     "data": {
      "application/javascript": [
       "\n",
       "            setTimeout(function() {\n",
       "                var nbb_cell_id = 370;\n",
       "                var nbb_unformatted_code = \"# [^123]\\nasdf = '''Koh.li scoredK 92 Rohit scoredK 65 88++Siraj @hit 5 wick+ets ABD scores 101 runs KohliK'''\\naa = re.findall(r'[^123]+',asdf)\\naaaaa = re.findall(r'[^123]\\\\d+',asdf)\\nprint(aa)\\nprint('\\\\n\\\\n',aaaaa)\";\n",
       "                var nbb_formatted_code = \"# [^123]\\nasdf = \\\"\\\"\\\"Koh.li scoredK 92 Rohit scoredK 65 88++Siraj @hit 5 wick+ets ABD scores 101 runs KohliK\\\"\\\"\\\"\\naa = re.findall(r\\\"[^123]+\\\", asdf)\\naaaaa = re.findall(r\\\"[^123]\\\\d+\\\", asdf)\\nprint(aa)\\nprint(\\\"\\\\n\\\\n\\\", aaaaa)\";\n",
       "                var nbb_cells = Jupyter.notebook.get_cells();\n",
       "                for (var i = 0; i < nbb_cells.length; ++i) {\n",
       "                    if (nbb_cells[i].input_prompt_number == nbb_cell_id) {\n",
       "                        if (nbb_cells[i].get_text() == nbb_unformatted_code) {\n",
       "                             nbb_cells[i].set_text(nbb_formatted_code);\n",
       "                        }\n",
       "                        break;\n",
       "                    }\n",
       "                }\n",
       "            }, 500);\n",
       "            "
      ],
      "text/plain": [
       "<IPython.core.display.Javascript object>"
      ]
     },
     "metadata": {},
     "output_type": "display_data"
    }
   ],
   "source": [
    "# [^123]\n",
    "asdf = \"\"\"Koh.li scoredK 92 Rohit scoredK 65 88++Siraj @hit 5 wick+ets ABD scores 101 runs KohliK\"\"\"\n",
    "aa = re.findall(r\"[^123]+\", asdf)\n",
    "aaaaa = re.findall(r\"[^123]\\d+\", asdf)\n",
    "print(aa)\n",
    "print(\"\\n\\n\", aaaaa)"
   ]
  },
  {
   "cell_type": "code",
   "execution_count": 371,
   "id": "e2605ec7",
   "metadata": {},
   "outputs": [
    {
     "name": "stdout",
     "output_type": "stream",
     "text": [
      "['0..8', '0.236']\n"
     ]
    },
    {
     "data": {
      "application/javascript": [
       "\n",
       "            setTimeout(function() {\n",
       "                var nbb_cell_id = 371;\n",
       "                var nbb_unformatted_code = \"asdf = 'he is 0..8 percent taller than him and he is 0.236 tallet than him'\\naa = re.findall(r'\\\\d\\\\.+\\\\d+',asdf)\\nprint(aa)\";\n",
       "                var nbb_formatted_code = \"asdf = \\\"he is 0..8 percent taller than him and he is 0.236 tallet than him\\\"\\naa = re.findall(r\\\"\\\\d\\\\.+\\\\d+\\\", asdf)\\nprint(aa)\";\n",
       "                var nbb_cells = Jupyter.notebook.get_cells();\n",
       "                for (var i = 0; i < nbb_cells.length; ++i) {\n",
       "                    if (nbb_cells[i].input_prompt_number == nbb_cell_id) {\n",
       "                        if (nbb_cells[i].get_text() == nbb_unformatted_code) {\n",
       "                             nbb_cells[i].set_text(nbb_formatted_code);\n",
       "                        }\n",
       "                        break;\n",
       "                    }\n",
       "                }\n",
       "            }, 500);\n",
       "            "
      ],
      "text/plain": [
       "<IPython.core.display.Javascript object>"
      ]
     },
     "metadata": {},
     "output_type": "display_data"
    }
   ],
   "source": [
    "asdf = \"he is 0..8 percent taller than him and he is 0.236 tallet than him\"\n",
    "aa = re.findall(r\"\\d\\.+\\d+\", asdf)\n",
    "print(aa)"
   ]
  },
  {
   "cell_type": "code",
   "execution_count": 372,
   "id": "4fe06649",
   "metadata": {},
   "outputs": [
    {
     "name": "stdout",
     "output_type": "stream",
     "text": [
      "['23'] \n",
      "\n",
      "['23', '51']\n"
     ]
    },
    {
     "data": {
      "application/javascript": [
       "\n",
       "            setTimeout(function() {\n",
       "                var nbb_cell_id = 372;\n",
       "                var nbb_unformatted_code = \"# [1-7][3-9]\\nasdf = 'he is 0..8 percent taller than him and he is 0.236 tallet 951than him'\\naa = re.findall(r'[0-2][0-8]',asdf)\\nprint(aa,'\\\\n')\\naa = re.findall(r'[0-9][0-4]',asdf)\\nprint(aa)\";\n",
       "                var nbb_formatted_code = \"# [1-7][3-9]\\nasdf = \\\"he is 0..8 percent taller than him and he is 0.236 tallet 951than him\\\"\\naa = re.findall(r\\\"[0-2][0-8]\\\", asdf)\\nprint(aa, \\\"\\\\n\\\")\\naa = re.findall(r\\\"[0-9][0-4]\\\", asdf)\\nprint(aa)\";\n",
       "                var nbb_cells = Jupyter.notebook.get_cells();\n",
       "                for (var i = 0; i < nbb_cells.length; ++i) {\n",
       "                    if (nbb_cells[i].input_prompt_number == nbb_cell_id) {\n",
       "                        if (nbb_cells[i].get_text() == nbb_unformatted_code) {\n",
       "                             nbb_cells[i].set_text(nbb_formatted_code);\n",
       "                        }\n",
       "                        break;\n",
       "                    }\n",
       "                }\n",
       "            }, 500);\n",
       "            "
      ],
      "text/plain": [
       "<IPython.core.display.Javascript object>"
      ]
     },
     "metadata": {},
     "output_type": "display_data"
    }
   ],
   "source": [
    "# [1-7][3-9]\n",
    "asdf = \"he is 0..8 percent taller than him and he is 0.236 tallet 951than him\"\n",
    "aa = re.findall(r\"[0-2][0-8]\", asdf)\n",
    "print(aa, \"\\n\")\n",
    "aa = re.findall(r\"[0-9][0-4]\", asdf)\n",
    "print(aa)"
   ]
  },
  {
   "cell_type": "code",
   "execution_count": 373,
   "id": "b9c9966f",
   "metadata": {},
   "outputs": [
    {
     "name": "stdout",
     "output_type": "stream",
     "text": [
      "['he is ', '..', ' percent taller than him and he is ', '.', '', '', ' tallet than him'] \n",
      "\n",
      "['he is ', '..', ' percent taller than him and he is ', '.', ' tallet than him']\n"
     ]
    },
    {
     "data": {
      "application/javascript": [
       "\n",
       "            setTimeout(function() {\n",
       "                var nbb_cell_id = 373;\n",
       "                var nbb_unformatted_code = \"# split\\nasdf = 'he is 0..8 percent taller than him and he is 0.236 tallet than him'\\naa = re.split(r'\\\\d',asdf)\\nprint(aa,'\\\\n')\\naa = re.split(r'\\\\d+',asdf)\\nprint(aa)\";\n",
       "                var nbb_formatted_code = \"# split\\nasdf = \\\"he is 0..8 percent taller than him and he is 0.236 tallet than him\\\"\\naa = re.split(r\\\"\\\\d\\\", asdf)\\nprint(aa, \\\"\\\\n\\\")\\naa = re.split(r\\\"\\\\d+\\\", asdf)\\nprint(aa)\";\n",
       "                var nbb_cells = Jupyter.notebook.get_cells();\n",
       "                for (var i = 0; i < nbb_cells.length; ++i) {\n",
       "                    if (nbb_cells[i].input_prompt_number == nbb_cell_id) {\n",
       "                        if (nbb_cells[i].get_text() == nbb_unformatted_code) {\n",
       "                             nbb_cells[i].set_text(nbb_formatted_code);\n",
       "                        }\n",
       "                        break;\n",
       "                    }\n",
       "                }\n",
       "            }, 500);\n",
       "            "
      ],
      "text/plain": [
       "<IPython.core.display.Javascript object>"
      ]
     },
     "metadata": {},
     "output_type": "display_data"
    }
   ],
   "source": [
    "# split\n",
    "asdf = \"he is 0..8 percent taller than him and he is 0.236 tallet than him\"\n",
    "aa = re.split(r\"\\d\", asdf)\n",
    "print(aa, \"\\n\")\n",
    "aa = re.split(r\"\\d+\", asdf)\n",
    "print(aa)"
   ]
  },
  {
   "cell_type": "code",
   "execution_count": 374,
   "id": "7ab8b5ee",
   "metadata": {},
   "outputs": [
    {
     "name": "stdout",
     "output_type": "stream",
     "text": [
      "he is $ percent taller than him and he is $ tallet than him \n",
      "\n",
      "heis0..8percenttallerthanhimandheis0.236talletthanhim\n"
     ]
    },
    {
     "data": {
      "application/javascript": [
       "\n",
       "            setTimeout(function() {\n",
       "                var nbb_cell_id = 374;\n",
       "                var nbb_unformatted_code = \"# sub\\nasdf = 'he is 0..8 percent taller than him and he is 0.236 tallet than him'\\naa = re.sub(r'\\\\d+\\\\.+\\\\d+','$',asdf)\\nprint(aa,'\\\\n')\\naa = re.sub(r'\\\\s','',asdf)\\nprint(aa)\\n# sub replaces a pattern in string\";\n",
       "                var nbb_formatted_code = \"# sub\\nasdf = \\\"he is 0..8 percent taller than him and he is 0.236 tallet than him\\\"\\naa = re.sub(r\\\"\\\\d+\\\\.+\\\\d+\\\", \\\"$\\\", asdf)\\nprint(aa, \\\"\\\\n\\\")\\naa = re.sub(r\\\"\\\\s\\\", \\\"\\\", asdf)\\nprint(aa)\\n# sub replaces a pattern in string\";\n",
       "                var nbb_cells = Jupyter.notebook.get_cells();\n",
       "                for (var i = 0; i < nbb_cells.length; ++i) {\n",
       "                    if (nbb_cells[i].input_prompt_number == nbb_cell_id) {\n",
       "                        if (nbb_cells[i].get_text() == nbb_unformatted_code) {\n",
       "                             nbb_cells[i].set_text(nbb_formatted_code);\n",
       "                        }\n",
       "                        break;\n",
       "                    }\n",
       "                }\n",
       "            }, 500);\n",
       "            "
      ],
      "text/plain": [
       "<IPython.core.display.Javascript object>"
      ]
     },
     "metadata": {},
     "output_type": "display_data"
    }
   ],
   "source": [
    "# sub\n",
    "asdf = \"he is 0..8 percent taller than him and he is 0.236 tallet than him\"\n",
    "aa = re.sub(r\"\\d+\\.+\\d+\", \"$\", asdf)\n",
    "print(aa, \"\\n\")\n",
    "aa = re.sub(r\"\\s\", \"\", asdf)\n",
    "print(aa)\n",
    "# sub replaces a pattern in string"
   ]
  },
  {
   "cell_type": "code",
   "execution_count": 375,
   "id": "7539dd22",
   "metadata": {},
   "outputs": [
    {
     "name": "stdout",
     "output_type": "stream",
     "text": [
      "('he is $ percent taller than him and he is $ tallet than him', 2) \n",
      "\n",
      "('heis0..8percenttallerthanhimandheis0.236talletthanhim', 13)\n"
     ]
    },
    {
     "data": {
      "application/javascript": [
       "\n",
       "            setTimeout(function() {\n",
       "                var nbb_cell_id = 375;\n",
       "                var nbb_unformatted_code = \"# sub\\nasdf = 'he is 0..8 percent taller than him and he is 0.236 tallet than him'\\naa = re.subn(r'\\\\d+\\\\.+\\\\d+','$',asdf)\\nprint(aa,'\\\\n')\\naa = re.subn(r'\\\\s','',asdf)\\nprint(aa)\\n# subn creates a tuple with  first elment the changed string and second elment means number of times the pattern has occured \";\n",
       "                var nbb_formatted_code = \"# sub\\nasdf = \\\"he is 0..8 percent taller than him and he is 0.236 tallet than him\\\"\\naa = re.subn(r\\\"\\\\d+\\\\.+\\\\d+\\\", \\\"$\\\", asdf)\\nprint(aa, \\\"\\\\n\\\")\\naa = re.subn(r\\\"\\\\s\\\", \\\"\\\", asdf)\\nprint(aa)\\n# subn creates a tuple with  first elment the changed string and second elment means number of times the pattern has occured\";\n",
       "                var nbb_cells = Jupyter.notebook.get_cells();\n",
       "                for (var i = 0; i < nbb_cells.length; ++i) {\n",
       "                    if (nbb_cells[i].input_prompt_number == nbb_cell_id) {\n",
       "                        if (nbb_cells[i].get_text() == nbb_unformatted_code) {\n",
       "                             nbb_cells[i].set_text(nbb_formatted_code);\n",
       "                        }\n",
       "                        break;\n",
       "                    }\n",
       "                }\n",
       "            }, 500);\n",
       "            "
      ],
      "text/plain": [
       "<IPython.core.display.Javascript object>"
      ]
     },
     "metadata": {},
     "output_type": "display_data"
    }
   ],
   "source": [
    "# sub\n",
    "asdf = \"he is 0..8 percent taller than him and he is 0.236 tallet than him\"\n",
    "aa = re.subn(r\"\\d+\\.+\\d+\", \"$\", asdf)\n",
    "print(aa, \"\\n\")\n",
    "aa = re.subn(r\"\\s\", \"\", asdf)\n",
    "print(aa)\n",
    "# subn creates a tuple with  first elment the changed string and second elment means number of times the pattern has occured"
   ]
  },
  {
   "cell_type": "code",
   "execution_count": 376,
   "id": "19cb8adc",
   "metadata": {},
   "outputs": [
    {
     "name": "stdout",
     "output_type": "stream",
     "text": [
      "he\\ is\\ 0\\.\\.8\\ percent\\ taller\\ than\\ him\\ and\\ he\\ is\\ 0\\.236\\ tallet\\ than\\ him\n"
     ]
    },
    {
     "data": {
      "application/javascript": [
       "\n",
       "            setTimeout(function() {\n",
       "                var nbb_cell_id = 376;\n",
       "                var nbb_unformatted_code = \"# escape\\nasdf = 'he is 0..8 percent taller than him and he is 0.236 tallet than him'\\naa = re.escape(asdf)\\nprint(aa)\\n# a backslash is placed before every space\";\n",
       "                var nbb_formatted_code = \"# escape\\nasdf = \\\"he is 0..8 percent taller than him and he is 0.236 tallet than him\\\"\\naa = re.escape(asdf)\\nprint(aa)\\n# a backslash is placed before every space\";\n",
       "                var nbb_cells = Jupyter.notebook.get_cells();\n",
       "                for (var i = 0; i < nbb_cells.length; ++i) {\n",
       "                    if (nbb_cells[i].input_prompt_number == nbb_cell_id) {\n",
       "                        if (nbb_cells[i].get_text() == nbb_unformatted_code) {\n",
       "                             nbb_cells[i].set_text(nbb_formatted_code);\n",
       "                        }\n",
       "                        break;\n",
       "                    }\n",
       "                }\n",
       "            }, 500);\n",
       "            "
      ],
      "text/plain": [
       "<IPython.core.display.Javascript object>"
      ]
     },
     "metadata": {},
     "output_type": "display_data"
    }
   ],
   "source": [
    "# escape\n",
    "asdf = \"he is 0..8 percent taller than him and he is 0.236 tallet than him\"\n",
    "aa = re.escape(asdf)\n",
    "print(aa)\n",
    "# a backslash is placed before every space"
   ]
  },
  {
   "cell_type": "code",
   "execution_count": 377,
   "id": "632c1de4",
   "metadata": {},
   "outputs": [
    {
     "name": "stdout",
     "output_type": "stream",
     "text": [
      "<re.Match object; span=(6, 7), match='0'>\n"
     ]
    },
    {
     "data": {
      "application/javascript": [
       "\n",
       "            setTimeout(function() {\n",
       "                var nbb_cell_id = 377;\n",
       "                var nbb_unformatted_code = \"# search\\nasdf = 'he is 0..8 percent taller than him and he is 0.236 tallet than him'\\naa = re.search(r'\\\\d+',asdf)\\nprint(aa)\\n# matches the first pattern , its done only once . once it mtaches it then stops\";\n",
       "                var nbb_formatted_code = \"# search\\nasdf = \\\"he is 0..8 percent taller than him and he is 0.236 tallet than him\\\"\\naa = re.search(r\\\"\\\\d+\\\", asdf)\\nprint(aa)\\n# matches the first pattern , its done only once . once it mtaches it then stops\";\n",
       "                var nbb_cells = Jupyter.notebook.get_cells();\n",
       "                for (var i = 0; i < nbb_cells.length; ++i) {\n",
       "                    if (nbb_cells[i].input_prompt_number == nbb_cell_id) {\n",
       "                        if (nbb_cells[i].get_text() == nbb_unformatted_code) {\n",
       "                             nbb_cells[i].set_text(nbb_formatted_code);\n",
       "                        }\n",
       "                        break;\n",
       "                    }\n",
       "                }\n",
       "            }, 500);\n",
       "            "
      ],
      "text/plain": [
       "<IPython.core.display.Javascript object>"
      ]
     },
     "metadata": {},
     "output_type": "display_data"
    }
   ],
   "source": [
    "# search\n",
    "asdf = \"he is 0..8 percent taller than him and he is 0.236 tallet than him\"\n",
    "aa = re.search(r\"\\d+\", asdf)\n",
    "print(aa)\n",
    "# matches the first pattern , its done only once . once it mtaches it then stops"
   ]
  },
  {
   "cell_type": "code",
   "execution_count": 378,
   "id": "bff1b933",
   "metadata": {},
   "outputs": [
    {
     "name": "stdout",
     "output_type": "stream",
     "text": [
      "<re.Match object; span=(6, 7), match='0'> \n",
      "\n",
      "re.compile('\\\\d+') \n",
      "\n",
      "he is 0..8 percent taller than him and he is 0.236 tallet than him \n",
      "\n",
      "6 \n",
      "\n",
      "7 \n",
      "\n",
      "(6, 7) \n",
      "\n",
      "0\n"
     ]
    },
    {
     "data": {
      "application/javascript": [
       "\n",
       "            setTimeout(function() {\n",
       "                var nbb_cell_id = 378;\n",
       "                var nbb_unformatted_code = \"# match\\nasdf = 'he is 0..8 percent taller than him and he is 0.236 tallet than him'\\naa = re.search(r'\\\\d+',asdf)\\nprint(aa,'\\\\n')\\n\\nprint(aa.re,'\\\\n')\\n\\nprint(aa.string,'\\\\n')\\n\\nprint(aa.start(),'\\\\n')\\n\\nprint(aa.end(),'\\\\n')\\n\\nprint(aa.span(),'\\\\n')\\n\\nprint(aa.group())\\n# matches the first pattern , its done only once . once it mtaches it then stops\";\n",
       "                var nbb_formatted_code = \"# match\\nasdf = \\\"he is 0..8 percent taller than him and he is 0.236 tallet than him\\\"\\naa = re.search(r\\\"\\\\d+\\\", asdf)\\nprint(aa, \\\"\\\\n\\\")\\n\\nprint(aa.re, \\\"\\\\n\\\")\\n\\nprint(aa.string, \\\"\\\\n\\\")\\n\\nprint(aa.start(), \\\"\\\\n\\\")\\n\\nprint(aa.end(), \\\"\\\\n\\\")\\n\\nprint(aa.span(), \\\"\\\\n\\\")\\n\\nprint(aa.group())\\n# matches the first pattern , its done only once . once it mtaches it then stops\";\n",
       "                var nbb_cells = Jupyter.notebook.get_cells();\n",
       "                for (var i = 0; i < nbb_cells.length; ++i) {\n",
       "                    if (nbb_cells[i].input_prompt_number == nbb_cell_id) {\n",
       "                        if (nbb_cells[i].get_text() == nbb_unformatted_code) {\n",
       "                             nbb_cells[i].set_text(nbb_formatted_code);\n",
       "                        }\n",
       "                        break;\n",
       "                    }\n",
       "                }\n",
       "            }, 500);\n",
       "            "
      ],
      "text/plain": [
       "<IPython.core.display.Javascript object>"
      ]
     },
     "metadata": {},
     "output_type": "display_data"
    }
   ],
   "source": [
    "# match\n",
    "asdf = \"he is 0..8 percent taller than him and he is 0.236 tallet than him\"\n",
    "aa = re.search(r\"\\d+\", asdf)\n",
    "print(aa, \"\\n\")\n",
    "\n",
    "print(aa.re, \"\\n\")\n",
    "\n",
    "print(aa.string, \"\\n\")\n",
    "\n",
    "print(aa.start(), \"\\n\")\n",
    "\n",
    "print(aa.end(), \"\\n\")\n",
    "\n",
    "print(aa.span(), \"\\n\")\n",
    "\n",
    "print(aa.group())\n",
    "# matches the first pattern , its done only once . once it mtaches it then stops"
   ]
  },
  {
   "cell_type": "code",
   "execution_count": 379,
   "id": "1d0b89e0",
   "metadata": {},
   "outputs": [
    {
     "name": "stdout",
     "output_type": "stream",
     "text": [
      "<re.Match object; span=(11, 14), match='per'> \n",
      "\n",
      "per \n",
      "\n",
      "<re.Match object; span=(9, 14), match='8 per'> \n",
      "\n",
      "8 per\n"
     ]
    },
    {
     "data": {
      "application/javascript": [
       "\n",
       "            setTimeout(function() {\n",
       "                var nbb_cell_id = 379;\n",
       "                var nbb_unformatted_code = \"asdf = 'he is 0..8 percent taller than him and he is 0.236 tallet than him'\\naa = re.search(r'\\\\w{1,5}r',asdf)\\nprint(aa,'\\\\n')\\nprint(aa.group(),'\\\\n')\\n\\naa = re.search(r'[\\\\w|\\\\s]{1,5}r',asdf)\\nprint(aa,'\\\\n')\\nprint(aa.group())\";\n",
       "                var nbb_formatted_code = \"asdf = \\\"he is 0..8 percent taller than him and he is 0.236 tallet than him\\\"\\naa = re.search(r\\\"\\\\w{1,5}r\\\", asdf)\\nprint(aa, \\\"\\\\n\\\")\\nprint(aa.group(), \\\"\\\\n\\\")\\n\\naa = re.search(r\\\"[\\\\w|\\\\s]{1,5}r\\\", asdf)\\nprint(aa, \\\"\\\\n\\\")\\nprint(aa.group())\";\n",
       "                var nbb_cells = Jupyter.notebook.get_cells();\n",
       "                for (var i = 0; i < nbb_cells.length; ++i) {\n",
       "                    if (nbb_cells[i].input_prompt_number == nbb_cell_id) {\n",
       "                        if (nbb_cells[i].get_text() == nbb_unformatted_code) {\n",
       "                             nbb_cells[i].set_text(nbb_formatted_code);\n",
       "                        }\n",
       "                        break;\n",
       "                    }\n",
       "                }\n",
       "            }, 500);\n",
       "            "
      ],
      "text/plain": [
       "<IPython.core.display.Javascript object>"
      ]
     },
     "metadata": {},
     "output_type": "display_data"
    }
   ],
   "source": [
    "asdf = \"he is 0..8 percent taller than him and he is 0.236 tallet than him\"\n",
    "aa = re.search(r\"\\w{1,5}r\", asdf)\n",
    "print(aa, \"\\n\")\n",
    "print(aa.group(), \"\\n\")\n",
    "\n",
    "aa = re.search(r\"[\\w|\\s]{1,5}r\", asdf)\n",
    "print(aa, \"\\n\")\n",
    "print(aa.group())"
   ]
  },
  {
   "cell_type": "code",
   "execution_count": 380,
   "id": "04b29b67",
   "metadata": {},
   "outputs": [
    {
     "name": "stdout",
     "output_type": "stream",
     "text": [
      "it exists\n"
     ]
    },
    {
     "data": {
      "application/javascript": [
       "\n",
       "            setTimeout(function() {\n",
       "                var nbb_cell_id = 380;\n",
       "                var nbb_unformatted_code = \"# verifying a number\\nasdf =  '222-444-8787'\\n\\nif re.search(r'\\\\d{1,3}-\\\\d{1,3}-\\\\d{1,4}',asdf):\\n    print('it exists')\\nelse:\\n    print('doesnt exists')\";\n",
       "                var nbb_formatted_code = \"# verifying a number\\nasdf = \\\"222-444-8787\\\"\\n\\nif re.search(r\\\"\\\\d{1,3}-\\\\d{1,3}-\\\\d{1,4}\\\", asdf):\\n    print(\\\"it exists\\\")\\nelse:\\n    print(\\\"doesnt exists\\\")\";\n",
       "                var nbb_cells = Jupyter.notebook.get_cells();\n",
       "                for (var i = 0; i < nbb_cells.length; ++i) {\n",
       "                    if (nbb_cells[i].input_prompt_number == nbb_cell_id) {\n",
       "                        if (nbb_cells[i].get_text() == nbb_unformatted_code) {\n",
       "                             nbb_cells[i].set_text(nbb_formatted_code);\n",
       "                        }\n",
       "                        break;\n",
       "                    }\n",
       "                }\n",
       "            }, 500);\n",
       "            "
      ],
      "text/plain": [
       "<IPython.core.display.Javascript object>"
      ]
     },
     "metadata": {},
     "output_type": "display_data"
    }
   ],
   "source": [
    "# verifying a number\n",
    "asdf = \"222-444-8787\"\n",
    "\n",
    "if re.search(r\"\\d{1,3}-\\d{1,3}-\\d{1,4}\", asdf):\n",
    "    print(\"it exists\")\n",
    "else:\n",
    "    print(\"doesnt exists\")"
   ]
  },
  {
   "cell_type": "code",
   "execution_count": 381,
   "id": "7d8503bb",
   "metadata": {},
   "outputs": [
    {
     "name": "stdout",
     "output_type": "stream",
     "text": [
      "['john78@gmail.com', 'david.989@yahoo.in']\n"
     ]
    },
    {
     "data": {
      "application/javascript": [
       "\n",
       "            setTimeout(function() {\n",
       "                var nbb_cell_id = 381;\n",
       "                var nbb_unformatted_code = \"# emails verification\\nasdf = 'john78@gmail.com     john@.com     david.989@yahoo.in'\\n\\naa = re.findall(r'[a-zA-Z0-9.]+@[A-z]+.[a-z]+',asdf)\\nprint(aa)\";\n",
       "                var nbb_formatted_code = \"# emails verification\\nasdf = \\\"john78@gmail.com     john@.com     david.989@yahoo.in\\\"\\n\\naa = re.findall(r\\\"[a-zA-Z0-9.]+@[A-z]+.[a-z]+\\\", asdf)\\nprint(aa)\";\n",
       "                var nbb_cells = Jupyter.notebook.get_cells();\n",
       "                for (var i = 0; i < nbb_cells.length; ++i) {\n",
       "                    if (nbb_cells[i].input_prompt_number == nbb_cell_id) {\n",
       "                        if (nbb_cells[i].get_text() == nbb_unformatted_code) {\n",
       "                             nbb_cells[i].set_text(nbb_formatted_code);\n",
       "                        }\n",
       "                        break;\n",
       "                    }\n",
       "                }\n",
       "            }, 500);\n",
       "            "
      ],
      "text/plain": [
       "<IPython.core.display.Javascript object>"
      ]
     },
     "metadata": {},
     "output_type": "display_data"
    }
   ],
   "source": [
    "# emails verification\n",
    "asdf = \"john78@gmail.com     john@.com     david.989@yahoo.in\"\n",
    "\n",
    "aa = re.findall(r\"[a-zA-Z0-9.]+@[A-z]+.[a-z]+\", asdf)\n",
    "print(aa)"
   ]
  },
  {
   "cell_type": "code",
   "execution_count": null,
   "id": "94323b45",
   "metadata": {},
   "outputs": [],
   "source": []
  },
  {
   "cell_type": "code",
   "execution_count": null,
   "id": "d8e79fc5",
   "metadata": {},
   "outputs": [],
   "source": []
  },
  {
   "cell_type": "markdown",
   "id": "a13dbd77",
   "metadata": {},
   "source": [
    "#  webscrapping"
   ]
  },
  {
   "cell_type": "code",
   "execution_count": 382,
   "id": "1c6f40f9",
   "metadata": {},
   "outputs": [
    {
     "data": {
      "text/plain": [
       "'<html>\\n<head>\\n\\t<title>Sample Addresses!</title>\\n<script async src=\"https://pagead2.googlesyndication.com/pagead/js/adsbygoogle.js?client=ca-pub-2760663110461940\"\\n     crossorigin=\"anonymous\"></script>\\n\\n</head>\\n<body>\\n<h1> A page full of sample addresses for your parsing enjoyment!</h1>\\n<h2> (All data is random....)</h2>\\n<ul>\\n\\n<script async src=\"https://pagead2.googlesyndication.com/pagead/js/adsbygoogle.js?client=ca-pub-2760663110461940\"\\n     crossorigin=\"anonymous\"></script>\\n<!-- summet.com-dmsi-addresses -->\\n<ins class=\"adsbygoogle\"\\n     style=\"display:block\"\\n     data-ad-client=\"ca-pub-2760663110461940\"\\n     data-ad-slot=\"5472586510\"\\n     data-ad-format=\"auto\"\\n     data-full-width-responsive=\"true\"></ins>\\n<script>\\n     (adsbygoogle = window.adsbygoogle || []).push({});\\n</script>\\n\\n<li>Cecilia Chapman<br/>711-2880 Nulla St.<br/>Mankato Mississippi 96522<br/>(257) 563-7401</li>\\n<li>Iris Watson<br/>P.O. Box 283 8562 Fusce Rd.<br/>Frederick Nebraska 20620<br/>(372) 587-2335</li>\\n<li>Celeste Slater<br/>606-3727 Ullamcorper. Street<br/>Roseville NH 11523<br/>(786) 713-8616</li>\\n<li>Theodore Lowe<br/>Ap #867-859 Sit Rd.<br/>Azusa New York 39531<br/>(793) 151-6230</li>\\n<li>Calista Wise<br/>7292 Dictum Av.<br/>San Antonio MI 47096<br/>(492) 709-6392</li>\\n<li>Kyla Olsen<br/>Ap #651-8679 Sodales Av.<br/>Tamuning PA 10855<br/>(654) 393-5734</li>\\n<li>Forrest Ray<br/>191-103 Integer Rd.<br/>Corona New Mexico 08219<br/>(404) 960-3807</li>\\n<li>Hiroko Potter<br/>P.O. Box 887 2508 Dolor. Av.<br/>Muskegon KY 12482<br/>(314) 244-6306</li>\\n<li>Nyssa Vazquez<br/>511-5762 At Rd.<br/>Chelsea MI 67708<br/>(947) 278-5929</li>\\n<li>Lawrence Moreno<br/>935-9940 Tortor. Street<br/>Santa Rosa MN 98804<br/>(684) 579-1879</li>\\n<li>Ina Moran<br/>P.O. Box 929 4189 Nunc Road<br/>Lebanon KY 69409<br/>(389) 737-2852</li>\\n<li>Aaron Hawkins<br/>5587 Nunc. Avenue<br/>Erie Rhode Island 24975<br/>(660) 663-4518</li>\\n<li>Hedy Greene<br/>Ap #696-3279 Viverra. Avenue<br/>Latrobe DE 38100<br/>(608) 265-2215</li>\\n<li>Melvin Porter<br/>P.O. Box 132 1599 Curabitur Rd.<br/>Bandera South Dakota 45149<br/>(959) 119-8364</li>\\n<li>Keefe Sellers<br/>347-7666 Iaculis St.<br/>Woodruff SC 49854<br/>(468) 353-2641</li>\\n<li>Joan Romero<br/>666-4366 Lacinia Avenue<br/>Idaho Falls Ohio 19253<br/>(248) 675-4007</li>\\n<li>Davis Patrick<br/>P.O. Box 147 2546 Sociosqu Rd.<br/>Bethlehem Utah 02913<br/>(939) 353-1107</li>\\n<li>Leilani Boyer<br/>557-6308 Lacinia Road<br/>San Bernardino ND 09289<br/>(570) 873-7090</li>\\n<li>Colby Bernard<br/>Ap #285-7193 Ullamcorper Avenue<br/>Amesbury HI 93373<br/>(302) 259-2375</li>\\n<li>Bryar Pitts<br/>5543 Aliquet St.<br/>Fort Dodge GA 20783<br/>(717) 450-4729</li>\\n<li>Rahim Henderson<br/>5037 Diam Rd.<br/>Daly City Ohio 90255<br/>(453) 391-4650</li>\\n<li>Noelle Adams<br/>6351 Fringilla Avenue<br/>Gardena Colorado 37547<br/>(559) 104-5475</li>\\n<li>Lillith Daniel<br/>935-1670 Neque. St.<br/>Centennial Delaware 48432<br/>(387) 142-9434</li>\\n<li>Adria Russell<br/>414-7533 Non Rd.<br/>Miami Beach North Dakota 58563<br/>(516) 745-4496</li>\\n<li>Hilda Haynes<br/>778-9383 Suspendisse Av.<br/>Weirton IN 93479<br/>(326) 677-3419</li>\\n<li>Sheila Mcintosh<br/>P.O. Box 360 4407 Et Rd.<br/>Santa Monica FL 30309<br/>(746) 679-2470</li>\\n<li>Rebecca Chambers<br/>P.O. Box 813 5982 Sit Ave<br/>Liberal Vermont 51324<br/>(455) 430-0989</li>\\n<li>Christian Emerson<br/>P.O. Box 886 4118 Arcu St.<br/>Rolling Hills Georgia 92358<br/>(490) 936-4694</li>\\n<li>Nevada Ware<br/>P.O. Box 597 4156 Tincidunt Ave<br/>Green Bay Indiana 19759<br/>(985) 834-8285</li>\\n<li>Margaret Joseph<br/>P.O. Box 508 3919 Gravida St.<br/>Tamuning Washington 55797<br/>(662) 661-1446</li>\\n<li>Edward Nieves<br/>928-3313 Vel Av.<br/>Idaho Falls Rhode Island 37232<br/>(802) 668-8240</li>\\n<li>Imani Talley<br/>P.O. Box 262 4978 Sit St.<br/>Yigo Massachusetts 50654<br/>(477) 768-9247</li>\\n<li>Bertha Riggs<br/>P.O. Box 206 6639 In St.<br/>Easthampton TN 31626<br/>(791) 239-9057</li>\\n<li>Wallace Ross<br/>313 Pellentesque Ave<br/>Villa Park Hawaii 43526<br/>(832) 109-0213</li>\\n<li>Chester Bennett<br/>3476 Aliquet. Ave<br/>Minot AZ 95302<br/>(837) 196-3274</li>\\n<li>Castor Richardson<br/>P.O. Box 902 3472 Ullamcorper Street<br/>Lynchburg DC 29738<br/>(268) 442-2428</li>\\n<li>Sonya Jordan<br/>Ap #443-336 Ullamcorper. Street<br/>Visalia VA 54886<br/>(850) 676-5117</li>\\n<li>Harrison Mcguire<br/>574-8633 Arcu Street<br/>San Fernando ID 77373<br/>(861) 546-5032</li>\\n<li>Malcolm Long<br/>9291 Proin Road<br/>Lake Charles Maine 11292<br/>(176) 805-4108</li>\\n<li>Raymond Levy<br/>Ap #643-7006 Risus St.<br/>Beaumont New Mexico 73585<br/>(715) 912-6931</li>\\n<li>Hedley Ingram<br/>737-2580 At Street<br/>Independence Texas 87535<br/>(993) 554-0563</li>\\n<li>David Mathews<br/>1011 Malesuada Road<br/>Moscow Kentucky 77382<br/>(357) 616-5411</li>\\n<li>Xyla Cash<br/>969-1762 Tincidunt Rd.<br/>Boise CT 35282<br/>(121) 347-0086</li>\\n<li>Madeline Gregory<br/>977-4841 Ut Ave<br/>Walla Walla Michigan 82776<br/>(304) 506-6314</li>\\n<li>Griffith Daniels<br/>6818 Eget St.<br/>Tacoma AL 92508<br/>(425) 288-2332</li>\\n<li>Anne Beasley<br/>987-4223 Urna St.<br/>Savannah Illinois 85794<br/>(145) 987-4962</li>\\n<li>Chaney Bennett<br/>P.O. Box 721 902 Dolor Rd.<br/>Fremont AK 19408<br/>(187) 582-9707</li>\\n<li>Daniel Bernard<br/>P.O. Box 567 1561 Duis Rd.<br/>Pomona TN 08609<br/>(750) 558-3965</li>\\n<li>Willow Hunt<br/>Ap #784-1887 Lobortis Ave<br/>Cudahy Ohio 31522<br/>(492) 467-3131</li>\\n<li>Judith Floyd<br/>361-7936 Feugiat St.<br/>Williston Nevada 58521<br/>(774) 914-2510</li>\\n<li>Seth Farley<br/>6216 Aenean Avenue<br/>Seattle Utah 81202<br/>(888) 106-8550</li>\\n<li>Zephania Sanders<br/>3714 Nascetur St.<br/>Hawthorne Louisiana 10626<br/>(539) 567-3573</li>\\n<li>Calista Merritt<br/>Ap #938-5470 Posuere Ave<br/>Chickasha LA 58520<br/>(693) 337-2849</li>\\n<li>Craig Williams<br/>P.O. Box 372 5634 Montes Rd.<br/>Springdale MO 57692<br/>(545) 604-9386</li>\\n<li>Lee Preston<br/>981 Eget Rd.<br/>Clemson GA 04645<br/>(221) 156-5026</li>\\n<li>Katelyn Cooper<br/>6059 Sollicitudin Road<br/>Burlingame Colorado 26278<br/>(414) 876-0865</li>\\n<li>Lacy Eaton<br/>1379 Nulla. Av.<br/>Asbury Park Montana 69679<br/>(932) 726-8645</li>\\n<li>Driscoll Leach<br/>P.O. Box 120 2410 Odio Avenue<br/>Pass Christian Delaware 03869<br/>(726) 710-9826</li>\\n<li>Merritt Watson<br/>P.O. Box 686 7014 Amet Street<br/>Corona Oklahoma 55246<br/>(622) 594-1662</li>\\n<li>Nehru Holmes<br/>P.O. Box 547 4764 Sed Road<br/>Grand Rapids CT 87323<br/>(948) 600-8503</li>\\n<li>Quamar Rivera<br/>427-5827 Ac St.<br/>Schaumburg Arkansas 84872<br/>(605) 900-7508</li>\\n<li>Hiram Mullins<br/>754-6427 Nunc Ave<br/>Kennewick AL 41329<br/>(716) 977-5775</li>\\n<li>Kim Fletcher<br/>Ap #345-3847 Metus Road<br/>Independence CO 30135<br/>(368) 239-8275</li>\\n<li>Rigel Koch<br/>P.O. Box 558 9561 Lacus. Road<br/>Laughlin Hawaii 99602<br/>(725) 342-0650</li>\\n<li>Jeanette Sharpe<br/>Ap #364-2006 Ipsum Avenue<br/>Wilmington Ohio 91750<br/>(711) 993-5187</li>\\n<li>Dahlia Lee<br/>1293 Tincidunt Street<br/>Atwater Pennsylvania 76865<br/>(882) 399-5084</li>\\n<li>Howard Hayden<br/>P.O. Box 847 8019 Facilisis Street<br/>Joliet SC 73490<br/>(287) 755-9948</li>\\n<li>Hyatt Kramer<br/>1011 Massa Av.<br/>Kent ID 63725<br/>(659) 551-3389</li>\\n<li>Sonya Ray<br/>Ap #315-8441 Eleifend Street<br/>Fairbanks RI 96892<br/>(275) 730-6868</li>\\n<li>Cara Whitehead<br/>4005 Praesent St.<br/>Torrance Wyoming 22767<br/>(725) 757-4047</li>\\n<li>Blythe Carroll<br/>7709 Justo. Ave<br/>Princeton TX 77987<br/>(314) 882-1496</li>\\n<li>Dale Griffin<br/>P.O. Box 854 8580 In Ave<br/>Revere South Dakota 43841<br/>(639) 360-7590</li>\\n<li>McKenzie Hernandez<br/>Ap #367-674 Mi Street<br/>Greensboro VT 40684<br/>(168) 222-1592</li>\\n<li>Haviva Holcomb<br/>P.O. Box 642 3450 In Road<br/>Isle of Palms New York 03828<br/>(896) 303-1164</li>\\n<li>Ezra Duffy<br/>Ap #782-7348 Dis Rd.<br/>Austin KY 50710<br/>(203) 982-6130</li>\\n<li>Eleanor Jennings<br/>9631 Semper Ave<br/>Astoria NJ 66309<br/>(906) 217-1470</li>\\n<li>Remedios Hester<br/>487-5787 Mollis St.<br/>City of Industry Louisiana 67973<br/>(614) 514-1269</li>\\n<li>Jasper Carney<br/>1195 Lobortis Rd.<br/>New Orleans New Hampshire 71983<br/>(763) 409-5446</li>\\n<li>Vielka Nielsen<br/>Ap #517-7326 Elementum Rd.<br/>Fort Smith North Dakota 79637<br/>(836) 292-5324</li>\\n<li>Wilma Pace<br/>Ap #676-6532 Odio Rd.<br/>Darlington CO 06963<br/>(926) 709-3295</li>\\n<li>Palmer Gay<br/>557-2026 Purus St.<br/>Watertown TN 07367<br/>(963) 356-9268</li>\\n<li>Lyle Sutton<br/>Ap #250-9843 Elementum St.<br/>South Gate Missouri 68999<br/>(736) 522-8584</li>\\n<li>Ina Burt<br/>Ap #130-1685 Ut Street<br/>Tyler KS 73510<br/>(410) 483-0352</li>\\n<li>Cleo Best<br/>282-8351 Tincidunt Ave<br/>Sedalia Utah 53700<br/>(252) 204-1434</li>\\n<li>Hu Park<br/>1429 Netus Rd.<br/>Reedsport NY 48247<br/>(874) 886-4174</li>\\n<li>Liberty Walton<br/>343-6527 Purus. Avenue<br/>Logan NV 12657<br/>(581) 379-7573</li>\\n<li>Aaron Trujillo<br/>Ap #146-3132 Cras Rd.<br/>Kingsport NH 56618<br/>(983) 632-8597</li>\\n<li>Elmo Lopez<br/>Ap #481-7473 Cum Rd.<br/>Yorba Linda South Carolina 28423<br/>(295) 983-3476</li>\\n<li>Emerson Espinoza<br/>Ap #247-5577 Tincidunt St.<br/>Corpus Christi WI 97020<br/>(873) 392-8802</li>\\n<li>Daniel Malone<br/>2136 Adipiscing Av.<br/>Lima RI 93490<br/>(360) 669-3923</li>\\n<li>Dante Bennett<br/>481-8762 Nulla Street<br/>Dearborn OR 62401<br/>(840) 987-9449</li>\\n<li>Sade Higgins<br/>Ap #287-3260 Ut St.<br/>Wilmington OR 05182<br/>(422) 517-6053</li>\\n<li>Zorita Anderson<br/>1964 Facilisis Avenue<br/>Bell Gardens Texas 87065<br/>(126) 940-2753</li>\\n<li>Jordan Calderon<br/>430-985 Eleifend St.<br/>Duluth Washington 92611<br/>(427) 930-5255</li>\\n<li>Ivor Delgado<br/>Ap #310-1678 Ut Av.<br/>Santa Barbara MT 88317<br/>(689) 721-5145</li>\\n<li>Pascale Patton<br/>P.O. Box 399 4275 Amet Street<br/>West Allis NC 36734<br/>(676) 334-2174</li>\\n<li>Nasim Strong<br/>Ap #630-3889 Nulla. Street<br/>Watervliet Oklahoma 70863<br/>(437) 994-5270</li>\\n<li>Keaton Underwood<br/>Ap #636-8082 Arcu Avenue<br/>Thiensville Maryland 19587<br/>(564) 908-6970</li>\\n<li>Keegan Blair<br/>Ap #761-2515 Egestas. Rd.<br/>Manitowoc TN 07528<br/>(577) 333-6244</li>\\n<li>Tamara Howe<br/>3415 Lobortis. Avenue<br/>Rocky Mount WA 48580<br/>(655) 840-6139</li>\\n </ul> </body></html>\\n'"
      ]
     },
     "execution_count": 382,
     "metadata": {},
     "output_type": "execute_result"
    },
    {
     "data": {
      "application/javascript": [
       "\n",
       "            setTimeout(function() {\n",
       "                var nbb_cell_id = 382;\n",
       "                var nbb_unformatted_code = \"import urllib.request\\nfrom re import findall\\n\\nurl = \\\"https://www.summet.com/dmsi/html/codesamples/addresses.html\\\"\\n\\na = urllib.request.urlopen(url)\\n\\nhtml = a.read()\\n\\nhtmlstr = html.decode()\\n\\nhtmlstr\";\n",
       "                var nbb_formatted_code = \"import urllib.request\\nfrom re import findall\\n\\nurl = \\\"https://www.summet.com/dmsi/html/codesamples/addresses.html\\\"\\n\\na = urllib.request.urlopen(url)\\n\\nhtml = a.read()\\n\\nhtmlstr = html.decode()\\n\\nhtmlstr\";\n",
       "                var nbb_cells = Jupyter.notebook.get_cells();\n",
       "                for (var i = 0; i < nbb_cells.length; ++i) {\n",
       "                    if (nbb_cells[i].input_prompt_number == nbb_cell_id) {\n",
       "                        if (nbb_cells[i].get_text() == nbb_unformatted_code) {\n",
       "                             nbb_cells[i].set_text(nbb_formatted_code);\n",
       "                        }\n",
       "                        break;\n",
       "                    }\n",
       "                }\n",
       "            }, 500);\n",
       "            "
      ],
      "text/plain": [
       "<IPython.core.display.Javascript object>"
      ]
     },
     "metadata": {},
     "output_type": "display_data"
    }
   ],
   "source": [
    "import urllib.request\n",
    "from re import findall\n",
    "\n",
    "url = \"https://www.summet.com/dmsi/html/codesamples/addresses.html\"\n",
    "\n",
    "a = urllib.request.urlopen(url)\n",
    "\n",
    "html = a.read()\n",
    "\n",
    "htmlstr = html.decode()\n",
    "\n",
    "htmlstr"
   ]
  },
  {
   "cell_type": "code",
   "execution_count": 383,
   "id": "2fc0b1a3",
   "metadata": {},
   "outputs": [
    {
     "data": {
      "application/javascript": [
       "\n",
       "            setTimeout(function() {\n",
       "                var nbb_cell_id = 383;\n",
       "                var nbb_unformatted_code = \"phn = findall(\\\"\\\\(\\\\d{3}\\\\) \\\\d{3}[-]\\\\d{4}\\\",htmlstr)\\n#phn\";\n",
       "                var nbb_formatted_code = \"phn = findall(\\\"\\\\(\\\\d{3}\\\\) \\\\d{3}[-]\\\\d{4}\\\", htmlstr)\\n# phn\";\n",
       "                var nbb_cells = Jupyter.notebook.get_cells();\n",
       "                for (var i = 0; i < nbb_cells.length; ++i) {\n",
       "                    if (nbb_cells[i].input_prompt_number == nbb_cell_id) {\n",
       "                        if (nbb_cells[i].get_text() == nbb_unformatted_code) {\n",
       "                             nbb_cells[i].set_text(nbb_formatted_code);\n",
       "                        }\n",
       "                        break;\n",
       "                    }\n",
       "                }\n",
       "            }, 500);\n",
       "            "
      ],
      "text/plain": [
       "<IPython.core.display.Javascript object>"
      ]
     },
     "metadata": {},
     "output_type": "display_data"
    }
   ],
   "source": [
    "phn = findall(\"\\(\\d{3}\\) \\d{3}[-]\\d{4}\", htmlstr)\n",
    "# phn"
   ]
  },
  {
   "cell_type": "code",
   "execution_count": 384,
   "id": "06043a41",
   "metadata": {},
   "outputs": [
    {
     "data": {
      "application/javascript": [
       "\n",
       "            setTimeout(function() {\n",
       "                var nbb_cell_id = 384;\n",
       "                var nbb_unformatted_code = \"phn = re.sub(\\\"[\\\\(\\\\)]\\\",\\\"\\\",htmlstr)\";\n",
       "                var nbb_formatted_code = \"phn = re.sub(\\\"[\\\\(\\\\)]\\\", \\\"\\\", htmlstr)\";\n",
       "                var nbb_cells = Jupyter.notebook.get_cells();\n",
       "                for (var i = 0; i < nbb_cells.length; ++i) {\n",
       "                    if (nbb_cells[i].input_prompt_number == nbb_cell_id) {\n",
       "                        if (nbb_cells[i].get_text() == nbb_unformatted_code) {\n",
       "                             nbb_cells[i].set_text(nbb_formatted_code);\n",
       "                        }\n",
       "                        break;\n",
       "                    }\n",
       "                }\n",
       "            }, 500);\n",
       "            "
      ],
      "text/plain": [
       "<IPython.core.display.Javascript object>"
      ]
     },
     "metadata": {},
     "output_type": "display_data"
    }
   ],
   "source": [
    "phn = re.sub(\"[\\(\\)]\", \"\", htmlstr)"
   ]
  },
  {
   "cell_type": "code",
   "execution_count": 385,
   "id": "0d6738ae",
   "metadata": {},
   "outputs": [
    {
     "data": {
      "text/plain": [
       "['257 563-7401',\n",
       " '372 587-2335',\n",
       " '786 713-8616',\n",
       " '793 151-6230',\n",
       " '492 709-6392',\n",
       " '654 393-5734',\n",
       " '404 960-3807',\n",
       " '314 244-6306',\n",
       " '947 278-5929',\n",
       " '684 579-1879',\n",
       " '389 737-2852',\n",
       " '660 663-4518',\n",
       " '608 265-2215',\n",
       " '959 119-8364',\n",
       " '468 353-2641',\n",
       " '248 675-4007',\n",
       " '939 353-1107',\n",
       " '570 873-7090',\n",
       " '302 259-2375',\n",
       " '717 450-4729',\n",
       " '453 391-4650',\n",
       " '559 104-5475',\n",
       " '387 142-9434',\n",
       " '516 745-4496',\n",
       " '326 677-3419',\n",
       " '746 679-2470',\n",
       " '455 430-0989',\n",
       " '490 936-4694',\n",
       " '985 834-8285',\n",
       " '662 661-1446',\n",
       " '802 668-8240',\n",
       " '477 768-9247',\n",
       " '791 239-9057',\n",
       " '832 109-0213',\n",
       " '837 196-3274',\n",
       " '268 442-2428',\n",
       " '850 676-5117',\n",
       " '861 546-5032',\n",
       " '176 805-4108',\n",
       " '715 912-6931',\n",
       " '993 554-0563',\n",
       " '357 616-5411',\n",
       " '121 347-0086',\n",
       " '304 506-6314',\n",
       " '425 288-2332',\n",
       " '145 987-4962',\n",
       " '187 582-9707',\n",
       " '750 558-3965',\n",
       " '492 467-3131',\n",
       " '774 914-2510',\n",
       " '888 106-8550',\n",
       " '539 567-3573',\n",
       " '693 337-2849',\n",
       " '545 604-9386',\n",
       " '221 156-5026',\n",
       " '414 876-0865',\n",
       " '932 726-8645',\n",
       " '726 710-9826',\n",
       " '622 594-1662',\n",
       " '948 600-8503',\n",
       " '605 900-7508',\n",
       " '716 977-5775',\n",
       " '368 239-8275',\n",
       " '725 342-0650',\n",
       " '711 993-5187',\n",
       " '882 399-5084',\n",
       " '287 755-9948',\n",
       " '659 551-3389',\n",
       " '275 730-6868',\n",
       " '725 757-4047',\n",
       " '314 882-1496',\n",
       " '639 360-7590',\n",
       " '168 222-1592',\n",
       " '896 303-1164',\n",
       " '203 982-6130',\n",
       " '906 217-1470',\n",
       " '614 514-1269',\n",
       " '763 409-5446',\n",
       " '836 292-5324',\n",
       " '926 709-3295',\n",
       " '963 356-9268',\n",
       " '736 522-8584',\n",
       " '410 483-0352',\n",
       " '252 204-1434',\n",
       " '874 886-4174',\n",
       " '581 379-7573',\n",
       " '983 632-8597',\n",
       " '295 983-3476',\n",
       " '873 392-8802',\n",
       " '360 669-3923',\n",
       " '840 987-9449',\n",
       " '422 517-6053',\n",
       " '126 940-2753',\n",
       " '427 930-5255',\n",
       " '689 721-5145',\n",
       " '676 334-2174',\n",
       " '437 994-5270',\n",
       " '564 908-6970',\n",
       " '577 333-6244',\n",
       " '655 840-6139']"
      ]
     },
     "execution_count": 385,
     "metadata": {},
     "output_type": "execute_result"
    },
    {
     "data": {
      "application/javascript": [
       "\n",
       "            setTimeout(function() {\n",
       "                var nbb_cell_id = 385;\n",
       "                var nbb_unformatted_code = \"phnnn = findall('\\\\d{3} \\\\d{3}\\\\-\\\\d{4}',phn)\\nphnnn\";\n",
       "                var nbb_formatted_code = \"phnnn = findall(\\\"\\\\d{3} \\\\d{3}\\\\-\\\\d{4}\\\", phn)\\nphnnn\";\n",
       "                var nbb_cells = Jupyter.notebook.get_cells();\n",
       "                for (var i = 0; i < nbb_cells.length; ++i) {\n",
       "                    if (nbb_cells[i].input_prompt_number == nbb_cell_id) {\n",
       "                        if (nbb_cells[i].get_text() == nbb_unformatted_code) {\n",
       "                             nbb_cells[i].set_text(nbb_formatted_code);\n",
       "                        }\n",
       "                        break;\n",
       "                    }\n",
       "                }\n",
       "            }, 500);\n",
       "            "
      ],
      "text/plain": [
       "<IPython.core.display.Javascript object>"
      ]
     },
     "metadata": {},
     "output_type": "display_data"
    }
   ],
   "source": [
    "phnnn = findall(\"\\d{3} \\d{3}\\-\\d{4}\", phn)\n",
    "phnnn"
   ]
  },
  {
   "cell_type": "code",
   "execution_count": null,
   "id": "b6c7b5ac",
   "metadata": {},
   "outputs": [],
   "source": []
  },
  {
   "cell_type": "code",
   "execution_count": null,
   "id": "442213a7",
   "metadata": {},
   "outputs": [],
   "source": []
  },
  {
   "cell_type": "code",
   "execution_count": 386,
   "id": "50b117d0",
   "metadata": {},
   "outputs": [
    {
     "data": {
      "application/javascript": [
       "\n",
       "        if (window._pyforest_update_imports_cell) { window._pyforest_update_imports_cell('import pandas as pd'); }\n",
       "    "
      ],
      "text/plain": [
       "<IPython.core.display.Javascript object>"
      ]
     },
     "metadata": {},
     "output_type": "display_data"
    },
    {
     "data": {
      "text/html": [
       "<div>\n",
       "<style scoped>\n",
       "    .dataframe tbody tr th:only-of-type {\n",
       "        vertical-align: middle;\n",
       "    }\n",
       "\n",
       "    .dataframe tbody tr th {\n",
       "        vertical-align: top;\n",
       "    }\n",
       "\n",
       "    .dataframe thead th {\n",
       "        text-align: right;\n",
       "    }\n",
       "</style>\n",
       "<table border=\"1\" class=\"dataframe\">\n",
       "  <thead>\n",
       "    <tr style=\"text-align: right;\">\n",
       "      <th></th>\n",
       "      <th>abc</th>\n",
       "    </tr>\n",
       "  </thead>\n",
       "  <tbody>\n",
       "    <tr>\n",
       "      <th>0</th>\n",
       "      <td>Graham Chapman</td>\n",
       "    </tr>\n",
       "    <tr>\n",
       "      <th>1</th>\n",
       "      <td>John Cleese</td>\n",
       "    </tr>\n",
       "    <tr>\n",
       "      <th>2</th>\n",
       "      <td>Terry Gilliam</td>\n",
       "    </tr>\n",
       "    <tr>\n",
       "      <th>3</th>\n",
       "      <td>Eric Idle</td>\n",
       "    </tr>\n",
       "    <tr>\n",
       "      <th>4</th>\n",
       "      <td>Terry Jones</td>\n",
       "    </tr>\n",
       "    <tr>\n",
       "      <th>5</th>\n",
       "      <td>Michael Palin</td>\n",
       "    </tr>\n",
       "  </tbody>\n",
       "</table>\n",
       "</div>"
      ],
      "text/plain": [
       "              abc\n",
       "0  Graham Chapman\n",
       "1     John Cleese\n",
       "2   Terry Gilliam\n",
       "3       Eric Idle\n",
       "4     Terry Jones\n",
       "5   Michael Palin"
      ]
     },
     "execution_count": 386,
     "metadata": {},
     "output_type": "execute_result"
    },
    {
     "data": {
      "application/javascript": [
       "\n",
       "            setTimeout(function() {\n",
       "                var nbb_cell_id = 386;\n",
       "                var nbb_unformatted_code = \"monte = pd.DataFrame({'abc':['Graham Chapman', 'John Cleese', 'Terry Gilliam',\\n                   'Eric Idle', 'Terry Jones', 'Michael Palin']})\\nmonte\";\n",
       "                var nbb_formatted_code = \"monte = pd.DataFrame(\\n    {\\n        \\\"abc\\\": [\\n            \\\"Graham Chapman\\\",\\n            \\\"John Cleese\\\",\\n            \\\"Terry Gilliam\\\",\\n            \\\"Eric Idle\\\",\\n            \\\"Terry Jones\\\",\\n            \\\"Michael Palin\\\",\\n        ]\\n    }\\n)\\nmonte\";\n",
       "                var nbb_cells = Jupyter.notebook.get_cells();\n",
       "                for (var i = 0; i < nbb_cells.length; ++i) {\n",
       "                    if (nbb_cells[i].input_prompt_number == nbb_cell_id) {\n",
       "                        if (nbb_cells[i].get_text() == nbb_unformatted_code) {\n",
       "                             nbb_cells[i].set_text(nbb_formatted_code);\n",
       "                        }\n",
       "                        break;\n",
       "                    }\n",
       "                }\n",
       "            }, 500);\n",
       "            "
      ],
      "text/plain": [
       "<IPython.core.display.Javascript object>"
      ]
     },
     "metadata": {},
     "output_type": "display_data"
    }
   ],
   "source": [
    "monte = pd.DataFrame(\n",
    "    {\n",
    "        \"abc\": [\n",
    "            \"Graham Chapman\",\n",
    "            \"John Cleese\",\n",
    "            \"Terry Gilliam\",\n",
    "            \"Eric Idle\",\n",
    "            \"Terry Jones\",\n",
    "            \"Michael Palin\",\n",
    "        ]\n",
    "    }\n",
    ")\n",
    "monte"
   ]
  },
  {
   "cell_type": "code",
   "execution_count": 387,
   "id": "21c65a92",
   "metadata": {},
   "outputs": [
    {
     "data": {
      "text/html": [
       "<div>\n",
       "<style scoped>\n",
       "    .dataframe tbody tr th:only-of-type {\n",
       "        vertical-align: middle;\n",
       "    }\n",
       "\n",
       "    .dataframe tbody tr th {\n",
       "        vertical-align: top;\n",
       "    }\n",
       "\n",
       "    .dataframe thead th {\n",
       "        text-align: right;\n",
       "    }\n",
       "</style>\n",
       "<table border=\"1\" class=\"dataframe\">\n",
       "  <thead>\n",
       "    <tr style=\"text-align: right;\">\n",
       "      <th></th>\n",
       "      <th>0</th>\n",
       "    </tr>\n",
       "  </thead>\n",
       "  <tbody>\n",
       "    <tr>\n",
       "      <th>0</th>\n",
       "      <td>Graham</td>\n",
       "    </tr>\n",
       "    <tr>\n",
       "      <th>1</th>\n",
       "      <td>John</td>\n",
       "    </tr>\n",
       "    <tr>\n",
       "      <th>2</th>\n",
       "      <td>Terry</td>\n",
       "    </tr>\n",
       "    <tr>\n",
       "      <th>3</th>\n",
       "      <td>Eric</td>\n",
       "    </tr>\n",
       "    <tr>\n",
       "      <th>4</th>\n",
       "      <td>Terry</td>\n",
       "    </tr>\n",
       "    <tr>\n",
       "      <th>5</th>\n",
       "      <td>Michael</td>\n",
       "    </tr>\n",
       "  </tbody>\n",
       "</table>\n",
       "</div>"
      ],
      "text/plain": [
       "         0\n",
       "0   Graham\n",
       "1     John\n",
       "2    Terry\n",
       "3     Eric\n",
       "4    Terry\n",
       "5  Michael"
      ]
     },
     "execution_count": 387,
     "metadata": {},
     "output_type": "execute_result"
    },
    {
     "data": {
      "application/javascript": [
       "\n",
       "            setTimeout(function() {\n",
       "                var nbb_cell_id = 387;\n",
       "                var nbb_unformatted_code = \"monte.abc.str.extract('([A-Za-z]+)')\";\n",
       "                var nbb_formatted_code = \"monte.abc.str.extract(\\\"([A-Za-z]+)\\\")\";\n",
       "                var nbb_cells = Jupyter.notebook.get_cells();\n",
       "                for (var i = 0; i < nbb_cells.length; ++i) {\n",
       "                    if (nbb_cells[i].input_prompt_number == nbb_cell_id) {\n",
       "                        if (nbb_cells[i].get_text() == nbb_unformatted_code) {\n",
       "                             nbb_cells[i].set_text(nbb_formatted_code);\n",
       "                        }\n",
       "                        break;\n",
       "                    }\n",
       "                }\n",
       "            }, 500);\n",
       "            "
      ],
      "text/plain": [
       "<IPython.core.display.Javascript object>"
      ]
     },
     "metadata": {},
     "output_type": "display_data"
    }
   ],
   "source": [
    "monte.abc.str.extract(\"([A-Za-z]+)\")"
   ]
  },
  {
   "cell_type": "code",
   "execution_count": null,
   "id": "38dc4b64",
   "metadata": {},
   "outputs": [],
   "source": []
  },
  {
   "cell_type": "code",
   "execution_count": null,
   "id": "3c92c97e",
   "metadata": {},
   "outputs": [],
   "source": []
  },
  {
   "cell_type": "code",
   "execution_count": 388,
   "id": "478e1c5e",
   "metadata": {},
   "outputs": [
    {
     "name": "stdout",
     "output_type": "stream",
     "text": [
      "['licence', 'license', 'licence']\n"
     ]
    },
    {
     "data": {
      "application/javascript": [
       "\n",
       "            setTimeout(function() {\n",
       "                var nbb_cell_id = 388;\n",
       "                var nbb_unformatted_code = \"# character class []\\nasdf=\\\"\\\"\\\"\\nyesterday i was driving car without a driving licence .The traffic police stoppped me and asked me show my \\nlicense . i told them that i forgot my licence at home\\n\\\"\\\"\\\"\\n\\npat = re.compile(r'licen[sc]e')\\nres = re.findall(pat,asdf)\\nprint(res)\";\n",
       "                var nbb_formatted_code = \"# character class []\\nasdf = \\\"\\\"\\\"\\nyesterday i was driving car without a driving licence .The traffic police stoppped me and asked me show my \\nlicense . i told them that i forgot my licence at home\\n\\\"\\\"\\\"\\n\\npat = re.compile(r\\\"licen[sc]e\\\")\\nres = re.findall(pat, asdf)\\nprint(res)\";\n",
       "                var nbb_cells = Jupyter.notebook.get_cells();\n",
       "                for (var i = 0; i < nbb_cells.length; ++i) {\n",
       "                    if (nbb_cells[i].input_prompt_number == nbb_cell_id) {\n",
       "                        if (nbb_cells[i].get_text() == nbb_unformatted_code) {\n",
       "                             nbb_cells[i].set_text(nbb_formatted_code);\n",
       "                        }\n",
       "                        break;\n",
       "                    }\n",
       "                }\n",
       "            }, 500);\n",
       "            "
      ],
      "text/plain": [
       "<IPython.core.display.Javascript object>"
      ]
     },
     "metadata": {},
     "output_type": "display_data"
    }
   ],
   "source": [
    "# character class []\n",
    "asdf = \"\"\"\n",
    "yesterday i was driving car without a driving licence .The traffic police stoppped me and asked me show my \n",
    "license . i told them that i forgot my licence at home\n",
    "\"\"\"\n",
    "\n",
    "pat = re.compile(r\"licen[sc]e\")\n",
    "res = re.findall(pat, asdf)\n",
    "print(res)"
   ]
  },
  {
   "cell_type": "code",
   "execution_count": 389,
   "id": "3caf131c",
   "metadata": {},
   "outputs": [
    {
     "data": {
      "application/javascript": [
       "\n",
       "            setTimeout(function() {\n",
       "                var nbb_cell_id = 389;\n",
       "                var nbb_unformatted_code = \"# from utils import highlight_regex_matches as hrm\\n\\n# asdf=\\\"\\\"\\\"\\n# yesterday i was driving car without a driving licence .The traffic police stoppped me and asked me show my \\n# license . i told them that i forgot my licence at home\\n# \\\"\\\"\\\"\\n\\n# pat = re.compile(r'licen[sc]e')\\n\\n# hrm(pat,asdf)\";\n",
       "                var nbb_formatted_code = \"# from utils import highlight_regex_matches as hrm\\n\\n# asdf=\\\"\\\"\\\"\\n# yesterday i was driving car without a driving licence .The traffic police stoppped me and asked me show my\\n# license . i told them that i forgot my licence at home\\n# \\\"\\\"\\\"\\n\\n# pat = re.compile(r'licen[sc]e')\\n\\n# hrm(pat,asdf)\";\n",
       "                var nbb_cells = Jupyter.notebook.get_cells();\n",
       "                for (var i = 0; i < nbb_cells.length; ++i) {\n",
       "                    if (nbb_cells[i].input_prompt_number == nbb_cell_id) {\n",
       "                        if (nbb_cells[i].get_text() == nbb_unformatted_code) {\n",
       "                             nbb_cells[i].set_text(nbb_formatted_code);\n",
       "                        }\n",
       "                        break;\n",
       "                    }\n",
       "                }\n",
       "            }, 500);\n",
       "            "
      ],
      "text/plain": [
       "<IPython.core.display.Javascript object>"
      ]
     },
     "metadata": {},
     "output_type": "display_data"
    }
   ],
   "source": [
    "# from utils import highlight_regex_matches as hrm\n",
    "\n",
    "# asdf=\"\"\"\n",
    "# yesterday i was driving car without a driving licence .The traffic police stoppped me and asked me show my\n",
    "# license . i told them that i forgot my licence at home\n",
    "# \"\"\"\n",
    "\n",
    "# pat = re.compile(r'licen[sc]e')\n",
    "\n",
    "# hrm(pat,asdf)"
   ]
  },
  {
   "cell_type": "code",
   "execution_count": 390,
   "id": "e6590726",
   "metadata": {},
   "outputs": [
    {
     "name": "stdout",
     "output_type": "stream",
     "text": [
      "['2012', '1998', '2009']\n"
     ]
    },
    {
     "data": {
      "application/javascript": [
       "\n",
       "            setTimeout(function() {\n",
       "                var nbb_cell_id = 390;\n",
       "                var nbb_unformatted_code = \"# character class []\\nasdf=\\\"\\\"\\\"\\nyesterday i was driving car without 2012 a driving licence .The traffic police stop1998pped me and asked me show my \\nlicense . i told them that i forgot2009 my licence at home\\n\\\"\\\"\\\"\\n\\npat = re.compile(r'\\\\d{4}')\\nres = re.findall(pat,asdf)\\nprint(res)\";\n",
       "                var nbb_formatted_code = \"# character class []\\nasdf = \\\"\\\"\\\"\\nyesterday i was driving car without 2012 a driving licence .The traffic police stop1998pped me and asked me show my \\nlicense . i told them that i forgot2009 my licence at home\\n\\\"\\\"\\\"\\n\\npat = re.compile(r\\\"\\\\d{4}\\\")\\nres = re.findall(pat, asdf)\\nprint(res)\";\n",
       "                var nbb_cells = Jupyter.notebook.get_cells();\n",
       "                for (var i = 0; i < nbb_cells.length; ++i) {\n",
       "                    if (nbb_cells[i].input_prompt_number == nbb_cell_id) {\n",
       "                        if (nbb_cells[i].get_text() == nbb_unformatted_code) {\n",
       "                             nbb_cells[i].set_text(nbb_formatted_code);\n",
       "                        }\n",
       "                        break;\n",
       "                    }\n",
       "                }\n",
       "            }, 500);\n",
       "            "
      ],
      "text/plain": [
       "<IPython.core.display.Javascript object>"
      ]
     },
     "metadata": {},
     "output_type": "display_data"
    }
   ],
   "source": [
    "# character class []\n",
    "asdf = \"\"\"\n",
    "yesterday i was driving car without 2012 a driving licence .The traffic police stop1998pped me and asked me show my \n",
    "license . i told them that i forgot2009 my licence at home\n",
    "\"\"\"\n",
    "\n",
    "pat = re.compile(r\"\\d{4}\")\n",
    "res = re.findall(pat, asdf)\n",
    "print(res)"
   ]
  },
  {
   "cell_type": "code",
   "execution_count": 391,
   "id": "0a4b25e0",
   "metadata": {},
   "outputs": [
    {
     "name": "stdout",
     "output_type": "stream",
     "text": [
      "['st', 'rd', ' ', ' w', 's dr', 'v', 'ng c', 'r w', 'th', 't 2012 ', ' dr', 'v', 'ng l', 'c', 'nc', ' .Th', ' tr', 'ff', 'c p', 'l', 'c', ' st', 'p1998pp', 'd m', ' ', 'nd ', 'sk', 'd m', ' sh', 'w m', ' ', 'l', 'c', 'ns', ' . ', ' t', 'ld th', 'm th', 't ', ' f', 'rg', 't2009 m', ' l', 'c', 'nc', ' ', 't h', 'm'] \n",
      "\n",
      "strd  ws drvng cr wtht 2012  drvng lcnc .Th trffc plc stp1998ppd m nd skd m shw m lcns .  tld thm tht  frgt2009 m lcnc t hm\n"
     ]
    },
    {
     "data": {
      "application/javascript": [
       "\n",
       "            setTimeout(function() {\n",
       "                var nbb_cell_id = 391;\n",
       "                var nbb_unformatted_code = \"asdf=\\\"\\\"\\\"\\nyesterday i was driving car without 2012 a driving licence .The traffic police stop1998pped me and asked me show my \\nlicense . i told them that i forgot2009 my licence at home\\n\\\"\\\"\\\"\\n\\npat = re.compile(r'[^\\\\nyaeiou]+')\\nres = re.findall(pat,asdf)\\nprint(res,'\\\\n')\\nprint(''.join(res))\\n# if ^ negate is put inside square bracket it menas laeving all those but if placed outside it means starting with any of these\\n# if ^ is put outside it cehck only the starting of the sentence \\n# but if negeate is placed inside it means leaving all those words in box\";\n",
       "                var nbb_formatted_code = \"asdf = \\\"\\\"\\\"\\nyesterday i was driving car without 2012 a driving licence .The traffic police stop1998pped me and asked me show my \\nlicense . i told them that i forgot2009 my licence at home\\n\\\"\\\"\\\"\\n\\npat = re.compile(r\\\"[^\\\\nyaeiou]+\\\")\\nres = re.findall(pat, asdf)\\nprint(res, \\\"\\\\n\\\")\\nprint(\\\"\\\".join(res))\\n# if ^ negate is put inside square bracket it menas laeving all those but if placed outside it means starting with any of these\\n# if ^ is put outside it cehck only the starting of the sentence\\n# but if negeate is placed inside it means leaving all those words in box\";\n",
       "                var nbb_cells = Jupyter.notebook.get_cells();\n",
       "                for (var i = 0; i < nbb_cells.length; ++i) {\n",
       "                    if (nbb_cells[i].input_prompt_number == nbb_cell_id) {\n",
       "                        if (nbb_cells[i].get_text() == nbb_unformatted_code) {\n",
       "                             nbb_cells[i].set_text(nbb_formatted_code);\n",
       "                        }\n",
       "                        break;\n",
       "                    }\n",
       "                }\n",
       "            }, 500);\n",
       "            "
      ],
      "text/plain": [
       "<IPython.core.display.Javascript object>"
      ]
     },
     "metadata": {},
     "output_type": "display_data"
    }
   ],
   "source": [
    "asdf = \"\"\"\n",
    "yesterday i was driving car without 2012 a driving licence .The traffic police stop1998pped me and asked me show my \n",
    "license . i told them that i forgot2009 my licence at home\n",
    "\"\"\"\n",
    "\n",
    "pat = re.compile(r\"[^\\nyaeiou]+\")\n",
    "res = re.findall(pat, asdf)\n",
    "print(res, \"\\n\")\n",
    "print(\"\".join(res))\n",
    "# if ^ negate is put inside square bracket it menas laeving all those but if placed outside it means starting with any of these\n",
    "# if ^ is put outside it cehck only the starting of the sentence\n",
    "# but if negeate is placed inside it means leaving all those words in box"
   ]
  },
  {
   "cell_type": "code",
   "execution_count": 392,
   "id": "a659c54f",
   "metadata": {},
   "outputs": [
    {
     "name": "stdout",
     "output_type": "stream",
     "text": [
      "['yesterday i was driving car without 2012 a driving licence .The traffic police stop1998pped me and asked me show my ', 'license . i told them that i forgot2009 my licence at home'] \n",
      "\n"
     ]
    },
    {
     "data": {
      "application/javascript": [
       "\n",
       "            setTimeout(function() {\n",
       "                var nbb_cell_id = 392;\n",
       "                var nbb_unformatted_code = \"asdf=\\\"\\\"\\\"\\nyesterday i was driving car without 2012 a driving licence .The traffic police stop1998pped me and asked me show my \\nlicense . i told them that i forgot2009 my licence at home\\n\\\"\\\"\\\"\\n\\npat = re.compile(r'.+')\\nres = re.findall(pat,asdf)\\nprint(res,'\\\\n')\";\n",
       "                var nbb_formatted_code = \"asdf = \\\"\\\"\\\"\\nyesterday i was driving car without 2012 a driving licence .The traffic police stop1998pped me and asked me show my \\nlicense . i told them that i forgot2009 my licence at home\\n\\\"\\\"\\\"\\n\\npat = re.compile(r\\\".+\\\")\\nres = re.findall(pat, asdf)\\nprint(res, \\\"\\\\n\\\")\";\n",
       "                var nbb_cells = Jupyter.notebook.get_cells();\n",
       "                for (var i = 0; i < nbb_cells.length; ++i) {\n",
       "                    if (nbb_cells[i].input_prompt_number == nbb_cell_id) {\n",
       "                        if (nbb_cells[i].get_text() == nbb_unformatted_code) {\n",
       "                             nbb_cells[i].set_text(nbb_formatted_code);\n",
       "                        }\n",
       "                        break;\n",
       "                    }\n",
       "                }\n",
       "            }, 500);\n",
       "            "
      ],
      "text/plain": [
       "<IPython.core.display.Javascript object>"
      ]
     },
     "metadata": {},
     "output_type": "display_data"
    }
   ],
   "source": [
    "asdf = \"\"\"\n",
    "yesterday i was driving car without 2012 a driving licence .The traffic police stop1998pped me and asked me show my \n",
    "license . i told them that i forgot2009 my licence at home\n",
    "\"\"\"\n",
    "\n",
    "pat = re.compile(r\".+\")\n",
    "res = re.findall(pat, asdf)\n",
    "print(res, \"\\n\")"
   ]
  },
  {
   "cell_type": "code",
   "execution_count": 393,
   "id": "fb6d2119",
   "metadata": {},
   "outputs": [
    {
     "name": "stdout",
     "output_type": "stream",
     "text": [
      "['.', '.'] \n",
      "\n"
     ]
    },
    {
     "data": {
      "application/javascript": [
       "\n",
       "            setTimeout(function() {\n",
       "                var nbb_cell_id = 393;\n",
       "                var nbb_unformatted_code = \"asdf=\\\"\\\"\\\"\\nyesterday i was driving car without 2012 a driving licence .The traffic police stop1998pped me and asked me show my \\nlicense . i told them that i forgot2009 my licence at home\\n\\\"\\\"\\\"\\n\\npat = re.compile(r'[^\\\\w\\\\s]')\\nres = re.findall(pat,asdf)\\nprint(res,'\\\\n')\";\n",
       "                var nbb_formatted_code = \"asdf = \\\"\\\"\\\"\\nyesterday i was driving car without 2012 a driving licence .The traffic police stop1998pped me and asked me show my \\nlicense . i told them that i forgot2009 my licence at home\\n\\\"\\\"\\\"\\n\\npat = re.compile(r\\\"[^\\\\w\\\\s]\\\")\\nres = re.findall(pat, asdf)\\nprint(res, \\\"\\\\n\\\")\";\n",
       "                var nbb_cells = Jupyter.notebook.get_cells();\n",
       "                for (var i = 0; i < nbb_cells.length; ++i) {\n",
       "                    if (nbb_cells[i].input_prompt_number == nbb_cell_id) {\n",
       "                        if (nbb_cells[i].get_text() == nbb_unformatted_code) {\n",
       "                             nbb_cells[i].set_text(nbb_formatted_code);\n",
       "                        }\n",
       "                        break;\n",
       "                    }\n",
       "                }\n",
       "            }, 500);\n",
       "            "
      ],
      "text/plain": [
       "<IPython.core.display.Javascript object>"
      ]
     },
     "metadata": {},
     "output_type": "display_data"
    }
   ],
   "source": [
    "asdf = \"\"\"\n",
    "yesterday i was driving car without 2012 a driving licence .The traffic police stop1998pped me and asked me show my \n",
    "license . i told them that i forgot2009 my licence at home\n",
    "\"\"\"\n",
    "\n",
    "pat = re.compile(r\"[^\\w\\s]\")\n",
    "res = re.findall(pat, asdf)\n",
    "print(res, \"\\n\")"
   ]
  },
  {
   "cell_type": "code",
   "execution_count": 394,
   "id": "cfc1d805",
   "metadata": {},
   "outputs": [
    {
     "name": "stdout",
     "output_type": "stream",
     "text": [
      "['what is', 'who is', 'wat is']\n"
     ]
    },
    {
     "data": {
      "application/javascript": [
       "\n",
       "            setTimeout(function() {\n",
       "                var nbb_cell_id = 394;\n",
       "                var nbb_unformatted_code = \"asdf = \\\"\\\"\\\"\\nwhat is your name ?\\nwho is your mentor ?\\nwat is\\n\\\"\\\"\\\"\\n\\npat = re.compile('[what|who]+ is')\\nres = re.findall(pat,asdf)\\nprint(res)\";\n",
       "                var nbb_formatted_code = \"asdf = \\\"\\\"\\\"\\nwhat is your name ?\\nwho is your mentor ?\\nwat is\\n\\\"\\\"\\\"\\n\\npat = re.compile(\\\"[what|who]+ is\\\")\\nres = re.findall(pat, asdf)\\nprint(res)\";\n",
       "                var nbb_cells = Jupyter.notebook.get_cells();\n",
       "                for (var i = 0; i < nbb_cells.length; ++i) {\n",
       "                    if (nbb_cells[i].input_prompt_number == nbb_cell_id) {\n",
       "                        if (nbb_cells[i].get_text() == nbb_unformatted_code) {\n",
       "                             nbb_cells[i].set_text(nbb_formatted_code);\n",
       "                        }\n",
       "                        break;\n",
       "                    }\n",
       "                }\n",
       "            }, 500);\n",
       "            "
      ],
      "text/plain": [
       "<IPython.core.display.Javascript object>"
      ]
     },
     "metadata": {},
     "output_type": "display_data"
    }
   ],
   "source": [
    "asdf = \"\"\"\n",
    "what is your name ?\n",
    "who is your mentor ?\n",
    "wat is\n",
    "\"\"\"\n",
    "\n",
    "pat = re.compile(\"[what|who]+ is\")\n",
    "res = re.findall(pat, asdf)\n",
    "print(res)"
   ]
  },
  {
   "cell_type": "code",
   "execution_count": 395,
   "id": "d90f8e90",
   "metadata": {},
   "outputs": [
    {
     "name": "stdout",
     "output_type": "stream",
     "text": [
      "['what', 'who']\n"
     ]
    },
    {
     "data": {
      "application/javascript": [
       "\n",
       "            setTimeout(function() {\n",
       "                var nbb_cell_id = 395;\n",
       "                var nbb_unformatted_code = \"asdf = \\\"\\\"\\\"\\nwhat is your name ?\\nwho is your mentor ?\\nwat is\\n\\\"\\\"\\\"\\n\\npat = re.compile('(what|who) is')\\nres = re.findall(pat,asdf)\\nprint(res)\";\n",
       "                var nbb_formatted_code = \"asdf = \\\"\\\"\\\"\\nwhat is your name ?\\nwho is your mentor ?\\nwat is\\n\\\"\\\"\\\"\\n\\npat = re.compile(\\\"(what|who) is\\\")\\nres = re.findall(pat, asdf)\\nprint(res)\";\n",
       "                var nbb_cells = Jupyter.notebook.get_cells();\n",
       "                for (var i = 0; i < nbb_cells.length; ++i) {\n",
       "                    if (nbb_cells[i].input_prompt_number == nbb_cell_id) {\n",
       "                        if (nbb_cells[i].get_text() == nbb_unformatted_code) {\n",
       "                             nbb_cells[i].set_text(nbb_formatted_code);\n",
       "                        }\n",
       "                        break;\n",
       "                    }\n",
       "                }\n",
       "            }, 500);\n",
       "            "
      ],
      "text/plain": [
       "<IPython.core.display.Javascript object>"
      ]
     },
     "metadata": {},
     "output_type": "display_data"
    }
   ],
   "source": [
    "asdf = \"\"\"\n",
    "what is your name ?\n",
    "who is your mentor ?\n",
    "wat is\n",
    "\"\"\"\n",
    "\n",
    "pat = re.compile(\"(what|who) is\")\n",
    "res = re.findall(pat, asdf)\n",
    "print(res)"
   ]
  },
  {
   "cell_type": "code",
   "execution_count": 396,
   "id": "f42d7fd0",
   "metadata": {},
   "outputs": [
    {
     "name": "stdout",
     "output_type": "stream",
     "text": [
      "['file1.txt', 'file_one.txt', 'file.txt']\n"
     ]
    },
    {
     "data": {
      "application/javascript": [
       "\n",
       "            setTimeout(function() {\n",
       "                var nbb_cell_id = 396;\n",
       "                var nbb_unformatted_code = \"asdf = \\\"\\\"\\\"\\nfile1.txt\\nfile_one.txt\\nfilw.txt\\nfile.txt\\nfile.xml\\nfile123456\\n\\\"\\\"\\\"\\n\\npat = re.compile('file\\\\S*\\\\.txt')\\nres = re.findall(pat,asdf)\\nprint(res)\";\n",
       "                var nbb_formatted_code = \"asdf = \\\"\\\"\\\"\\nfile1.txt\\nfile_one.txt\\nfilw.txt\\nfile.txt\\nfile.xml\\nfile123456\\n\\\"\\\"\\\"\\n\\npat = re.compile(\\\"file\\\\S*\\\\.txt\\\")\\nres = re.findall(pat, asdf)\\nprint(res)\";\n",
       "                var nbb_cells = Jupyter.notebook.get_cells();\n",
       "                for (var i = 0; i < nbb_cells.length; ++i) {\n",
       "                    if (nbb_cells[i].input_prompt_number == nbb_cell_id) {\n",
       "                        if (nbb_cells[i].get_text() == nbb_unformatted_code) {\n",
       "                             nbb_cells[i].set_text(nbb_formatted_code);\n",
       "                        }\n",
       "                        break;\n",
       "                    }\n",
       "                }\n",
       "            }, 500);\n",
       "            "
      ],
      "text/plain": [
       "<IPython.core.display.Javascript object>"
      ]
     },
     "metadata": {},
     "output_type": "display_data"
    }
   ],
   "source": [
    "asdf = \"\"\"\n",
    "file1.txt\n",
    "file_one.txt\n",
    "filw.txt\n",
    "file.txt\n",
    "file.xml\n",
    "file123456\n",
    "\"\"\"\n",
    "\n",
    "pat = re.compile(\"file\\S*\\.txt\")\n",
    "res = re.findall(pat, asdf)\n",
    "print(res)"
   ]
  },
  {
   "cell_type": "code",
   "execution_count": 397,
   "id": "77a17125",
   "metadata": {},
   "outputs": [
    {
     "name": "stdout",
     "output_type": "stream",
     "text": [
      "['file', 'file', 'filw', 'file']\n"
     ]
    },
    {
     "data": {
      "application/javascript": [
       "\n",
       "            setTimeout(function() {\n",
       "                var nbb_cell_id = 397;\n",
       "                var nbb_unformatted_code = \"asdf = \\\"\\\"\\\"\\nfile1.txt\\nfile_one.txt\\nfilw.txt\\nfile.txt\\nfile.xml\\nfile123456\\n\\\"\\\"\\\"\\n\\npat = re.compile('(file|filw)\\\\S*\\\\.txt')\\n#pat = re.compile('(file)\\\\S*\\\\.txt')\\n\\nres = re.findall(pat,asdf)\\nprint(res)\";\n",
       "                var nbb_formatted_code = \"asdf = \\\"\\\"\\\"\\nfile1.txt\\nfile_one.txt\\nfilw.txt\\nfile.txt\\nfile.xml\\nfile123456\\n\\\"\\\"\\\"\\n\\npat = re.compile(\\\"(file|filw)\\\\S*\\\\.txt\\\")\\n# pat = re.compile('(file)\\\\S*\\\\.txt')\\n\\nres = re.findall(pat, asdf)\\nprint(res)\";\n",
       "                var nbb_cells = Jupyter.notebook.get_cells();\n",
       "                for (var i = 0; i < nbb_cells.length; ++i) {\n",
       "                    if (nbb_cells[i].input_prompt_number == nbb_cell_id) {\n",
       "                        if (nbb_cells[i].get_text() == nbb_unformatted_code) {\n",
       "                             nbb_cells[i].set_text(nbb_formatted_code);\n",
       "                        }\n",
       "                        break;\n",
       "                    }\n",
       "                }\n",
       "            }, 500);\n",
       "            "
      ],
      "text/plain": [
       "<IPython.core.display.Javascript object>"
      ]
     },
     "metadata": {},
     "output_type": "display_data"
    }
   ],
   "source": [
    "asdf = \"\"\"\n",
    "file1.txt\n",
    "file_one.txt\n",
    "filw.txt\n",
    "file.txt\n",
    "file.xml\n",
    "file123456\n",
    "\"\"\"\n",
    "\n",
    "pat = re.compile(\"(file|filw)\\S*\\.txt\")\n",
    "# pat = re.compile('(file)\\S*\\.txt')\n",
    "\n",
    "res = re.findall(pat, asdf)\n",
    "print(res)"
   ]
  },
  {
   "cell_type": "code",
   "execution_count": 398,
   "id": "e1a8cbdf",
   "metadata": {},
   "outputs": [
    {
     "name": "stdout",
     "output_type": "stream",
     "text": [
      "['file1.txt', 'file618.txt']\n"
     ]
    },
    {
     "data": {
      "application/javascript": [
       "\n",
       "            setTimeout(function() {\n",
       "                var nbb_cell_id = 398;\n",
       "                var nbb_unformatted_code = \"asdf = \\\"\\\"\\\"\\nfile1.txt\\nfile_one.txt\\nfilw.txt\\nfile.txt\\nfile.xml\\nfile618.txt\\nfile123456\\n\\\"\\\"\\\"\\n\\npat = re.compile('file\\\\d+\\\\.txt')\\nres = re.findall(pat,asdf)\\nprint(res)\\n# having atleast one digit after file\";\n",
       "                var nbb_formatted_code = \"asdf = \\\"\\\"\\\"\\nfile1.txt\\nfile_one.txt\\nfilw.txt\\nfile.txt\\nfile.xml\\nfile618.txt\\nfile123456\\n\\\"\\\"\\\"\\n\\npat = re.compile(\\\"file\\\\d+\\\\.txt\\\")\\nres = re.findall(pat, asdf)\\nprint(res)\\n# having atleast one digit after file\";\n",
       "                var nbb_cells = Jupyter.notebook.get_cells();\n",
       "                for (var i = 0; i < nbb_cells.length; ++i) {\n",
       "                    if (nbb_cells[i].input_prompt_number == nbb_cell_id) {\n",
       "                        if (nbb_cells[i].get_text() == nbb_unformatted_code) {\n",
       "                             nbb_cells[i].set_text(nbb_formatted_code);\n",
       "                        }\n",
       "                        break;\n",
       "                    }\n",
       "                }\n",
       "            }, 500);\n",
       "            "
      ],
      "text/plain": [
       "<IPython.core.display.Javascript object>"
      ]
     },
     "metadata": {},
     "output_type": "display_data"
    }
   ],
   "source": [
    "asdf = \"\"\"\n",
    "file1.txt\n",
    "file_one.txt\n",
    "filw.txt\n",
    "file.txt\n",
    "file.xml\n",
    "file618.txt\n",
    "file123456\n",
    "\"\"\"\n",
    "\n",
    "pat = re.compile(\"file\\d+\\.txt\")\n",
    "res = re.findall(pat, asdf)\n",
    "print(res)\n",
    "# having atleast one digit after file"
   ]
  },
  {
   "cell_type": "code",
   "execution_count": 399,
   "id": "bc54510e",
   "metadata": {},
   "outputs": [
    {
     "name": "stdout",
     "output_type": "stream",
     "text": [
      "['2012', '1998', '2009']\n"
     ]
    },
    {
     "data": {
      "application/javascript": [
       "\n",
       "            setTimeout(function() {\n",
       "                var nbb_cell_id = 399;\n",
       "                var nbb_unformatted_code = \"asdf=\\\"\\\"\\\"\\nyesterday i was driving car without 2012 a driving licence .The traffic police stop1998pped me and asked me show my \\nlicense . i told them that i forgot2009 my licence at home\\n\\\"\\\"\\\"\\n\\npat = re.compile('[0-2]+\\\\d{3}')\\nres = re.findall(pat,asdf)\\nprint(res)\";\n",
       "                var nbb_formatted_code = \"asdf = \\\"\\\"\\\"\\nyesterday i was driving car without 2012 a driving licence .The traffic police stop1998pped me and asked me show my \\nlicense . i told them that i forgot2009 my licence at home\\n\\\"\\\"\\\"\\n\\npat = re.compile(\\\"[0-2]+\\\\d{3}\\\")\\nres = re.findall(pat, asdf)\\nprint(res)\";\n",
       "                var nbb_cells = Jupyter.notebook.get_cells();\n",
       "                for (var i = 0; i < nbb_cells.length; ++i) {\n",
       "                    if (nbb_cells[i].input_prompt_number == nbb_cell_id) {\n",
       "                        if (nbb_cells[i].get_text() == nbb_unformatted_code) {\n",
       "                             nbb_cells[i].set_text(nbb_formatted_code);\n",
       "                        }\n",
       "                        break;\n",
       "                    }\n",
       "                }\n",
       "            }, 500);\n",
       "            "
      ],
      "text/plain": [
       "<IPython.core.display.Javascript object>"
      ]
     },
     "metadata": {},
     "output_type": "display_data"
    }
   ],
   "source": [
    "asdf = \"\"\"\n",
    "yesterday i was driving car without 2012 a driving licence .The traffic police stop1998pped me and asked me show my \n",
    "license . i told them that i forgot2009 my licence at home\n",
    "\"\"\"\n",
    "\n",
    "pat = re.compile(\"[0-2]+\\d{3}\")\n",
    "res = re.findall(pat, asdf)\n",
    "print(res)"
   ]
  },
  {
   "cell_type": "code",
   "execution_count": 400,
   "id": "82c8c779",
   "metadata": {},
   "outputs": [
    {
     "name": "stdout",
     "output_type": "stream",
     "text": [
      "['26546', '545852515', '135464']\n"
     ]
    },
    {
     "data": {
      "application/javascript": [
       "\n",
       "            setTimeout(function() {\n",
       "                var nbb_cell_id = 400;\n",
       "                var nbb_unformatted_code = \"asdf = \\\"\\\"\\\"\\n26546\\n213\\n545852515\\n321\\n55\\n135464\\n\\\"\\\"\\\"\\n\\npat = re.compile('\\\\d{4,}')\\nres = re.findall(pat,asdf)\\nprint(res)\";\n",
       "                var nbb_formatted_code = \"asdf = \\\"\\\"\\\"\\n26546\\n213\\n545852515\\n321\\n55\\n135464\\n\\\"\\\"\\\"\\n\\npat = re.compile(\\\"\\\\d{4,}\\\")\\nres = re.findall(pat, asdf)\\nprint(res)\";\n",
       "                var nbb_cells = Jupyter.notebook.get_cells();\n",
       "                for (var i = 0; i < nbb_cells.length; ++i) {\n",
       "                    if (nbb_cells[i].input_prompt_number == nbb_cell_id) {\n",
       "                        if (nbb_cells[i].get_text() == nbb_unformatted_code) {\n",
       "                             nbb_cells[i].set_text(nbb_formatted_code);\n",
       "                        }\n",
       "                        break;\n",
       "                    }\n",
       "                }\n",
       "            }, 500);\n",
       "            "
      ],
      "text/plain": [
       "<IPython.core.display.Javascript object>"
      ]
     },
     "metadata": {},
     "output_type": "display_data"
    }
   ],
   "source": [
    "asdf = \"\"\"\n",
    "26546\n",
    "213\n",
    "545852515\n",
    "321\n",
    "55\n",
    "135464\n",
    "\"\"\"\n",
    "\n",
    "pat = re.compile(\"\\d{4,}\")\n",
    "res = re.findall(pat, asdf)\n",
    "print(res)"
   ]
  },
  {
   "cell_type": "code",
   "execution_count": 401,
   "id": "960aa2dc",
   "metadata": {},
   "outputs": [
    {
     "name": "stdout",
     "output_type": "stream",
     "text": [
      "['555-555-5555', '555 555 5555', '5555555555']\n"
     ]
    },
    {
     "data": {
      "application/javascript": [
       "\n",
       "            setTimeout(function() {\n",
       "                var nbb_cell_id = 401;\n",
       "                var nbb_unformatted_code = \"asdf = \\\"\\\"\\\"\\n555-555-5555\\n555 555 5555\\n5555555555\\n\\\"\\\"\\\"\\n\\npat = re.compile('\\\\d{3}[\\\\W]?\\\\d{3}[\\\\W]?\\\\d{4}')\\nres = re.findall(pat,asdf)\\nprint(res)\";\n",
       "                var nbb_formatted_code = \"asdf = \\\"\\\"\\\"\\n555-555-5555\\n555 555 5555\\n5555555555\\n\\\"\\\"\\\"\\n\\npat = re.compile(\\\"\\\\d{3}[\\\\W]?\\\\d{3}[\\\\W]?\\\\d{4}\\\")\\nres = re.findall(pat, asdf)\\nprint(res)\";\n",
       "                var nbb_cells = Jupyter.notebook.get_cells();\n",
       "                for (var i = 0; i < nbb_cells.length; ++i) {\n",
       "                    if (nbb_cells[i].input_prompt_number == nbb_cell_id) {\n",
       "                        if (nbb_cells[i].get_text() == nbb_unformatted_code) {\n",
       "                             nbb_cells[i].set_text(nbb_formatted_code);\n",
       "                        }\n",
       "                        break;\n",
       "                    }\n",
       "                }\n",
       "            }, 500);\n",
       "            "
      ],
      "text/plain": [
       "<IPython.core.display.Javascript object>"
      ]
     },
     "metadata": {},
     "output_type": "display_data"
    }
   ],
   "source": [
    "asdf = \"\"\"\n",
    "555-555-5555\n",
    "555 555 5555\n",
    "5555555555\n",
    "\"\"\"\n",
    "\n",
    "pat = re.compile(\"\\d{3}[\\W]?\\d{3}[\\W]?\\d{4}\")\n",
    "res = re.findall(pat, asdf)\n",
    "print(res)"
   ]
  },
  {
   "cell_type": "code",
   "execution_count": 402,
   "id": "fa77683e",
   "metadata": {},
   "outputs": [
    {
     "name": "stdout",
     "output_type": "stream",
     "text": [
      "['<html><url><www.><.com><>']\n"
     ]
    },
    {
     "data": {
      "application/javascript": [
       "\n",
       "            setTimeout(function() {\n",
       "                var nbb_cell_id = 402;\n",
       "                var nbb_unformatted_code = \"asdf = \\\"\\\"\\\"\\n<html><url><www.><.com><>\\n\\\"\\\"\\\"\\npat = re.compile('<.+>')\\nres = re.findall(pat,asdf)\\nprint(res)\";\n",
       "                var nbb_formatted_code = \"asdf = \\\"\\\"\\\"\\n<html><url><www.><.com><>\\n\\\"\\\"\\\"\\npat = re.compile(\\\"<.+>\\\")\\nres = re.findall(pat, asdf)\\nprint(res)\";\n",
       "                var nbb_cells = Jupyter.notebook.get_cells();\n",
       "                for (var i = 0; i < nbb_cells.length; ++i) {\n",
       "                    if (nbb_cells[i].input_prompt_number == nbb_cell_id) {\n",
       "                        if (nbb_cells[i].get_text() == nbb_unformatted_code) {\n",
       "                             nbb_cells[i].set_text(nbb_formatted_code);\n",
       "                        }\n",
       "                        break;\n",
       "                    }\n",
       "                }\n",
       "            }, 500);\n",
       "            "
      ],
      "text/plain": [
       "<IPython.core.display.Javascript object>"
      ]
     },
     "metadata": {},
     "output_type": "display_data"
    }
   ],
   "source": [
    "asdf = \"\"\"\n",
    "<html><url><www.><.com><>\n",
    "\"\"\"\n",
    "pat = re.compile(\"<.+>\")\n",
    "res = re.findall(pat, asdf)\n",
    "print(res)"
   ]
  },
  {
   "cell_type": "code",
   "execution_count": 403,
   "id": "c11fe392",
   "metadata": {},
   "outputs": [
    {
     "name": "stdout",
     "output_type": "stream",
     "text": [
      "['<html>', '<url>', '<www.>', '<.com>']\n"
     ]
    },
    {
     "data": {
      "application/javascript": [
       "\n",
       "            setTimeout(function() {\n",
       "                var nbb_cell_id = 403;\n",
       "                var nbb_unformatted_code = \"asdf = \\\"\\\"\\\"\\n<html><url><www.><.com><>\\n\\\"\\\"\\\"\\n\\npat = re.compile('<.+?>')\\n# pat = re.compile('<[a-z.]+>')\\n# pat = re.compile('<.{1,5}>')\\nres = re.findall(pat,asdf)\\nprint(res)\";\n",
       "                var nbb_formatted_code = \"asdf = \\\"\\\"\\\"\\n<html><url><www.><.com><>\\n\\\"\\\"\\\"\\n\\npat = re.compile(\\\"<.+?>\\\")\\n# pat = re.compile('<[a-z.]+>')\\n# pat = re.compile('<.{1,5}>')\\nres = re.findall(pat, asdf)\\nprint(res)\";\n",
       "                var nbb_cells = Jupyter.notebook.get_cells();\n",
       "                for (var i = 0; i < nbb_cells.length; ++i) {\n",
       "                    if (nbb_cells[i].input_prompt_number == nbb_cell_id) {\n",
       "                        if (nbb_cells[i].get_text() == nbb_unformatted_code) {\n",
       "                             nbb_cells[i].set_text(nbb_formatted_code);\n",
       "                        }\n",
       "                        break;\n",
       "                    }\n",
       "                }\n",
       "            }, 500);\n",
       "            "
      ],
      "text/plain": [
       "<IPython.core.display.Javascript object>"
      ]
     },
     "metadata": {},
     "output_type": "display_data"
    }
   ],
   "source": [
    "asdf = \"\"\"\n",
    "<html><url><www.><.com><>\n",
    "\"\"\"\n",
    "\n",
    "pat = re.compile(\"<.+?>\")\n",
    "# pat = re.compile('<[a-z.]+>')\n",
    "# pat = re.compile('<.{1,5}>')\n",
    "res = re.findall(pat, asdf)\n",
    "print(res)"
   ]
  },
  {
   "cell_type": "code",
   "execution_count": 404,
   "id": "151e1958",
   "metadata": {},
   "outputs": [
    {
     "name": "stdout",
     "output_type": "stream",
     "text": [
      "['<html>']\n"
     ]
    },
    {
     "data": {
      "application/javascript": [
       "\n",
       "            setTimeout(function() {\n",
       "                var nbb_cell_id = 404;\n",
       "                var nbb_unformatted_code = \"asdf = \\\"\\\"\\\"\\n<html><url><www.><.com><>\\n\\\"\\\"\\\"\\n\\npat = re.compile('(<[a-z]{3}l>)')\\nres = re.findall(pat,asdf)\\nprint(res)\";\n",
       "                var nbb_formatted_code = \"asdf = \\\"\\\"\\\"\\n<html><url><www.><.com><>\\n\\\"\\\"\\\"\\n\\npat = re.compile(\\\"(<[a-z]{3}l>)\\\")\\nres = re.findall(pat, asdf)\\nprint(res)\";\n",
       "                var nbb_cells = Jupyter.notebook.get_cells();\n",
       "                for (var i = 0; i < nbb_cells.length; ++i) {\n",
       "                    if (nbb_cells[i].input_prompt_number == nbb_cell_id) {\n",
       "                        if (nbb_cells[i].get_text() == nbb_unformatted_code) {\n",
       "                             nbb_cells[i].set_text(nbb_formatted_code);\n",
       "                        }\n",
       "                        break;\n",
       "                    }\n",
       "                }\n",
       "            }, 500);\n",
       "            "
      ],
      "text/plain": [
       "<IPython.core.display.Javascript object>"
      ]
     },
     "metadata": {},
     "output_type": "display_data"
    }
   ],
   "source": [
    "asdf = \"\"\"\n",
    "<html><url><www.><.com><>\n",
    "\"\"\"\n",
    "\n",
    "pat = re.compile(\"(<[a-z]{3}l>)\")\n",
    "res = re.findall(pat, asdf)\n",
    "print(res)"
   ]
  },
  {
   "cell_type": "code",
   "execution_count": 405,
   "id": "4087dd25",
   "metadata": {},
   "outputs": [
    {
     "name": "stdout",
     "output_type": "stream",
     "text": [
      "['and', 'the', 'and', 'or'] \n",
      "\n"
     ]
    },
    {
     "data": {
      "application/javascript": [
       "\n",
       "            setTimeout(function() {\n",
       "                var nbb_cell_id = 405;\n",
       "                var nbb_unformatted_code = \"asdf=\\\"\\\"\\\"\\nyesterday i was driving car without 2012 and a driving licence .The traffic police stop1998pped me and asked me show my \\nlicense . i told them that i or forgot2009 my licence at home\\n\\\"\\\"\\\"\\n\\npat = re.compile(r'\\\\b(and|or|the)\\\\b')\\n# pat = re.compile('\\\\\\\\b(and|or|the)\\\\\\\\b')\\nres = re.findall(pat,asdf.lower())\\nprint(res,'\\\\n')\\n# here we either use a raw string or \\\\ backlash coz backlash is used as escape character\";\n",
       "                var nbb_formatted_code = \"asdf = \\\"\\\"\\\"\\nyesterday i was driving car without 2012 and a driving licence .The traffic police stop1998pped me and asked me show my \\nlicense . i told them that i or forgot2009 my licence at home\\n\\\"\\\"\\\"\\n\\npat = re.compile(r\\\"\\\\b(and|or|the)\\\\b\\\")\\n# pat = re.compile('\\\\\\\\b(and|or|the)\\\\\\\\b')\\nres = re.findall(pat, asdf.lower())\\nprint(res, \\\"\\\\n\\\")\\n# here we either use a raw string or \\\\ backlash coz backlash is used as escape character\";\n",
       "                var nbb_cells = Jupyter.notebook.get_cells();\n",
       "                for (var i = 0; i < nbb_cells.length; ++i) {\n",
       "                    if (nbb_cells[i].input_prompt_number == nbb_cell_id) {\n",
       "                        if (nbb_cells[i].get_text() == nbb_unformatted_code) {\n",
       "                             nbb_cells[i].set_text(nbb_formatted_code);\n",
       "                        }\n",
       "                        break;\n",
       "                    }\n",
       "                }\n",
       "            }, 500);\n",
       "            "
      ],
      "text/plain": [
       "<IPython.core.display.Javascript object>"
      ]
     },
     "metadata": {},
     "output_type": "display_data"
    }
   ],
   "source": [
    "asdf = \"\"\"\n",
    "yesterday i was driving car without 2012 and a driving licence .The traffic police stop1998pped me and asked me show my \n",
    "license . i told them that i or forgot2009 my licence at home\n",
    "\"\"\"\n",
    "\n",
    "pat = re.compile(r\"\\b(and|or|the)\\b\")\n",
    "# pat = re.compile('\\\\b(and|or|the)\\\\b')\n",
    "res = re.findall(pat, asdf.lower())\n",
    "print(res, \"\\n\")\n",
    "# here we either use a raw string or \\ backlash coz backlash is used as escape character"
   ]
  },
  {
   "cell_type": "code",
   "execution_count": 406,
   "id": "1a510f95",
   "metadata": {},
   "outputs": [
    {
     "name": "stdout",
     "output_type": "stream",
     "text": [
      "a\n",
      "b\n",
      "\n",
      "\n",
      "a\\nb\n",
      "\n",
      "\n",
      "a\\nb\n"
     ]
    },
    {
     "data": {
      "application/javascript": [
       "\n",
       "            setTimeout(function() {\n",
       "                var nbb_cell_id = 406;\n",
       "                var nbb_unformatted_code = \"print('a\\\\nb')\\nprint('\\\\n')\\nprint('a\\\\\\\\nb')\\nprint('\\\\n')\\nprint(r'a\\\\nb')\";\n",
       "                var nbb_formatted_code = \"print(\\\"a\\\\nb\\\")\\nprint(\\\"\\\\n\\\")\\nprint(\\\"a\\\\\\\\nb\\\")\\nprint(\\\"\\\\n\\\")\\nprint(r\\\"a\\\\nb\\\")\";\n",
       "                var nbb_cells = Jupyter.notebook.get_cells();\n",
       "                for (var i = 0; i < nbb_cells.length; ++i) {\n",
       "                    if (nbb_cells[i].input_prompt_number == nbb_cell_id) {\n",
       "                        if (nbb_cells[i].get_text() == nbb_unformatted_code) {\n",
       "                             nbb_cells[i].set_text(nbb_formatted_code);\n",
       "                        }\n",
       "                        break;\n",
       "                    }\n",
       "                }\n",
       "            }, 500);\n",
       "            "
      ],
      "text/plain": [
       "<IPython.core.display.Javascript object>"
      ]
     },
     "metadata": {},
     "output_type": "display_data"
    }
   ],
   "source": [
    "print(\"a\\nb\")\n",
    "print(\"\\n\")\n",
    "print(\"a\\\\nb\")\n",
    "print(\"\\n\")\n",
    "print(r\"a\\nb\")"
   ]
  },
  {
   "cell_type": "code",
   "execution_count": 407,
   "id": "5c18bfc8",
   "metadata": {},
   "outputs": [
    {
     "name": "stdout",
     "output_type": "stream",
     "text": [
      "['the', 'or']\n"
     ]
    },
    {
     "data": {
      "application/javascript": [
       "\n",
       "            setTimeout(function() {\n",
       "                var nbb_cell_id = 407;\n",
       "                var nbb_unformatted_code = \"asdf=\\\"\\\"\\\"\\nyesterday i was driving car without 2012 and a driving licence .The traffic police orp stop1998pped me and asked me show my \\nlicense . i told them ythet i or forgot2009 my licence at home\\n\\\"\\\"\\\"\\n\\npat = re.compile(r'\\\\B(and|or|the)\\\\B')\\nres = re.findall(pat,asdf.lower())\\nprint(res)\";\n",
       "                var nbb_formatted_code = \"asdf = \\\"\\\"\\\"\\nyesterday i was driving car without 2012 and a driving licence .The traffic police orp stop1998pped me and asked me show my \\nlicense . i told them ythet i or forgot2009 my licence at home\\n\\\"\\\"\\\"\\n\\npat = re.compile(r\\\"\\\\B(and|or|the)\\\\B\\\")\\nres = re.findall(pat, asdf.lower())\\nprint(res)\";\n",
       "                var nbb_cells = Jupyter.notebook.get_cells();\n",
       "                for (var i = 0; i < nbb_cells.length; ++i) {\n",
       "                    if (nbb_cells[i].input_prompt_number == nbb_cell_id) {\n",
       "                        if (nbb_cells[i].get_text() == nbb_unformatted_code) {\n",
       "                             nbb_cells[i].set_text(nbb_formatted_code);\n",
       "                        }\n",
       "                        break;\n",
       "                    }\n",
       "                }\n",
       "            }, 500);\n",
       "            "
      ],
      "text/plain": [
       "<IPython.core.display.Javascript object>"
      ]
     },
     "metadata": {},
     "output_type": "display_data"
    }
   ],
   "source": [
    "asdf = \"\"\"\n",
    "yesterday i was driving car without 2012 and a driving licence .The traffic police orp stop1998pped me and asked me show my \n",
    "license . i told them ythet i or forgot2009 my licence at home\n",
    "\"\"\"\n",
    "\n",
    "pat = re.compile(r\"\\B(and|or|the)\\B\")\n",
    "res = re.findall(pat, asdf.lower())\n",
    "print(res)"
   ]
  },
  {
   "cell_type": "code",
   "execution_count": 408,
   "id": "c877306b",
   "metadata": {},
   "outputs": [
    {
     "name": "stdout",
     "output_type": "stream",
     "text": [
      "['name: hjh', 'name: piul', 'name: zzxc']\n"
     ]
    },
    {
     "data": {
      "application/javascript": [
       "\n",
       "            setTimeout(function() {\n",
       "                var nbb_cell_id = 408;\n",
       "                var nbb_unformatted_code = \"asdf = \\\"\\\"\\\"\\nname: hjh\\nclass: 5th\\n\\nname: piul\\nclass:6    name: tfsgg\\n\\nname: zzxc\\nclass: 9\\n\\\"\\\"\\\"\\npat = re.compile(r'^name.*',flags=re.M)\\nres = re.findall(pat,asdf)\\nprint(res)\";\n",
       "                var nbb_formatted_code = \"asdf = \\\"\\\"\\\"\\nname: hjh\\nclass: 5th\\n\\nname: piul\\nclass:6    name: tfsgg\\n\\nname: zzxc\\nclass: 9\\n\\\"\\\"\\\"\\npat = re.compile(r\\\"^name.*\\\", flags=re.M)\\nres = re.findall(pat, asdf)\\nprint(res)\";\n",
       "                var nbb_cells = Jupyter.notebook.get_cells();\n",
       "                for (var i = 0; i < nbb_cells.length; ++i) {\n",
       "                    if (nbb_cells[i].input_prompt_number == nbb_cell_id) {\n",
       "                        if (nbb_cells[i].get_text() == nbb_unformatted_code) {\n",
       "                             nbb_cells[i].set_text(nbb_formatted_code);\n",
       "                        }\n",
       "                        break;\n",
       "                    }\n",
       "                }\n",
       "            }, 500);\n",
       "            "
      ],
      "text/plain": [
       "<IPython.core.display.Javascript object>"
      ]
     },
     "metadata": {},
     "output_type": "display_data"
    }
   ],
   "source": [
    "asdf = \"\"\"\n",
    "name: hjh\n",
    "class: 5th\n",
    "\n",
    "name: piul\n",
    "class:6    name: tfsgg\n",
    "\n",
    "name: zzxc\n",
    "class: 9\n",
    "\"\"\"\n",
    "pat = re.compile(r\"^name.*\", flags=re.M)\n",
    "res = re.findall(pat, asdf)\n",
    "print(res)"
   ]
  },
  {
   "cell_type": "code",
   "execution_count": 409,
   "id": "e46094ba",
   "metadata": {},
   "outputs": [
    {
     "name": "stdout",
     "output_type": "stream",
     "text": [
      "['name: hjh', 'class:6    name: tfsgg  ', 'name: zzxc']\n"
     ]
    },
    {
     "data": {
      "application/javascript": [
       "\n",
       "            setTimeout(function() {\n",
       "                var nbb_cell_id = 409;\n",
       "                var nbb_unformatted_code = \"# finding lines that do not end with full stop\\nasdf =\\\"\\\"\\\"\\nname: hjh\\nclass: 5th.\\nname: piul.\\nclass:6    name: tfsgg  \\nname: zzxc\\nclass: 9.\\\"\\\"\\\"\\n\\npat = re.compile('^.*[^\\\\.]$',flags=re.M)\\n# pat = re.compile('.*[^\\\\.]$',flags=re.M)\\n\\nres = re.findall(pat,asdf)\\nprint(res)\";\n",
       "                var nbb_formatted_code = \"# finding lines that do not end with full stop\\nasdf = \\\"\\\"\\\"\\nname: hjh\\nclass: 5th.\\nname: piul.\\nclass:6    name: tfsgg  \\nname: zzxc\\nclass: 9.\\\"\\\"\\\"\\n\\npat = re.compile(\\\"^.*[^\\\\.]$\\\", flags=re.M)\\n# pat = re.compile('.*[^\\\\.]$',flags=re.M)\\n\\nres = re.findall(pat, asdf)\\nprint(res)\";\n",
       "                var nbb_cells = Jupyter.notebook.get_cells();\n",
       "                for (var i = 0; i < nbb_cells.length; ++i) {\n",
       "                    if (nbb_cells[i].input_prompt_number == nbb_cell_id) {\n",
       "                        if (nbb_cells[i].get_text() == nbb_unformatted_code) {\n",
       "                             nbb_cells[i].set_text(nbb_formatted_code);\n",
       "                        }\n",
       "                        break;\n",
       "                    }\n",
       "                }\n",
       "            }, 500);\n",
       "            "
      ],
      "text/plain": [
       "<IPython.core.display.Javascript object>"
      ]
     },
     "metadata": {},
     "output_type": "display_data"
    }
   ],
   "source": [
    "# finding lines that do not end with full stop\n",
    "asdf = \"\"\"\n",
    "name: hjh\n",
    "class: 5th.\n",
    "name: piul.\n",
    "class:6    name: tfsgg  \n",
    "name: zzxc\n",
    "class: 9.\"\"\"\n",
    "\n",
    "pat = re.compile(\"^.*[^\\.]$\", flags=re.M)\n",
    "# pat = re.compile('.*[^\\.]$',flags=re.M)\n",
    "\n",
    "res = re.findall(pat, asdf)\n",
    "print(res)"
   ]
  },
  {
   "cell_type": "code",
   "execution_count": 410,
   "id": "0e39ed8c",
   "metadata": {},
   "outputs": [
    {
     "name": "stdout",
     "output_type": "stream",
     "text": [
      "['', 'name', '', 'hjh', 'class', '', '5th', '', 'name', '', 'piul', '', 'class', '6', '', '', '', 'name', '', 'tfsgg', '', '', 'name', '', 'zzxc', 'class', '', '9', ''] \n",
      "\n",
      "['name', 'hjh', 'class', '5th', 'name', 'piul', 'class', '6', 'name', 'tfsgg', 'name', 'zzxc', 'class', '9']\n"
     ]
    },
    {
     "data": {
      "application/javascript": [
       "\n",
       "            setTimeout(function() {\n",
       "                var nbb_cell_id = 410;\n",
       "                var nbb_unformatted_code = \"# finding lines that do not end with full stop\\nasdf =\\\"\\\"\\\"\\nname: hjh\\nclass: 5th.\\nname: piul.\\nclass:6    name: tfsgg  \\nname: zzxc\\nclass: 9.\\\"\\\"\\\"\\n\\npat = re.compile('\\\\W')\\n\\nres = re.split(pat,asdf)\\nprint(res,'\\\\n')\\n\\nres1 = list(filter(lambda x: x!='' , res))\\n# res1 = [i for i in res if i!='']\\nprint(res1)\";\n",
       "                var nbb_formatted_code = \"# finding lines that do not end with full stop\\nasdf = \\\"\\\"\\\"\\nname: hjh\\nclass: 5th.\\nname: piul.\\nclass:6    name: tfsgg  \\nname: zzxc\\nclass: 9.\\\"\\\"\\\"\\n\\npat = re.compile(\\\"\\\\W\\\")\\n\\nres = re.split(pat, asdf)\\nprint(res, \\\"\\\\n\\\")\\n\\nres1 = list(filter(lambda x: x != \\\"\\\", res))\\n# res1 = [i for i in res if i!='']\\nprint(res1)\";\n",
       "                var nbb_cells = Jupyter.notebook.get_cells();\n",
       "                for (var i = 0; i < nbb_cells.length; ++i) {\n",
       "                    if (nbb_cells[i].input_prompt_number == nbb_cell_id) {\n",
       "                        if (nbb_cells[i].get_text() == nbb_unformatted_code) {\n",
       "                             nbb_cells[i].set_text(nbb_formatted_code);\n",
       "                        }\n",
       "                        break;\n",
       "                    }\n",
       "                }\n",
       "            }, 500);\n",
       "            "
      ],
      "text/plain": [
       "<IPython.core.display.Javascript object>"
      ]
     },
     "metadata": {},
     "output_type": "display_data"
    }
   ],
   "source": [
    "# finding lines that do not end with full stop\n",
    "asdf = \"\"\"\n",
    "name: hjh\n",
    "class: 5th.\n",
    "name: piul.\n",
    "class:6    name: tfsgg  \n",
    "name: zzxc\n",
    "class: 9.\"\"\"\n",
    "\n",
    "pat = re.compile(\"\\W\")\n",
    "\n",
    "res = re.split(pat, asdf)\n",
    "print(res, \"\\n\")\n",
    "\n",
    "res1 = list(filter(lambda x: x != \"\", res))\n",
    "# res1 = [i for i in res if i!='']\n",
    "print(res1)"
   ]
  },
  {
   "cell_type": "code",
   "execution_count": 411,
   "id": "b2fd672e",
   "metadata": {},
   "outputs": [
    {
     "name": "stdout",
     "output_type": "stream",
     "text": [
      "['', 'name', '', 'hjh\\nclass: 5th.\\nname: piul.\\nclass:6    name: tfsgg  \\nname: zzxc\\nclass: 9.'] \n",
      "\n",
      "['name', 'hjh\\nclass: 5th.\\nname: piul.\\nclass:6    name: tfsgg  \\nname: zzxc\\nclass: 9.']\n"
     ]
    },
    {
     "data": {
      "application/javascript": [
       "\n",
       "            setTimeout(function() {\n",
       "                var nbb_cell_id = 411;\n",
       "                var nbb_unformatted_code = \"# finding lines that do not end with full stop\\nasdf =\\\"\\\"\\\"\\nname: hjh\\nclass: 5th.\\nname: piul.\\nclass:6    name: tfsgg  \\nname: zzxc\\nclass: 9.\\\"\\\"\\\"\\n\\npat = re.compile('\\\\W')\\n\\nres = re.split(pat,asdf,maxsplit=3)\\nprint(res,'\\\\n')\\n\\nres1 = list(filter(lambda x: x!='' , res))\\n# res1 = [i for i in res if i!='']\\nprint(res1)\";\n",
       "                var nbb_formatted_code = \"# finding lines that do not end with full stop\\nasdf = \\\"\\\"\\\"\\nname: hjh\\nclass: 5th.\\nname: piul.\\nclass:6    name: tfsgg  \\nname: zzxc\\nclass: 9.\\\"\\\"\\\"\\n\\npat = re.compile(\\\"\\\\W\\\")\\n\\nres = re.split(pat, asdf, maxsplit=3)\\nprint(res, \\\"\\\\n\\\")\\n\\nres1 = list(filter(lambda x: x != \\\"\\\", res))\\n# res1 = [i for i in res if i!='']\\nprint(res1)\";\n",
       "                var nbb_cells = Jupyter.notebook.get_cells();\n",
       "                for (var i = 0; i < nbb_cells.length; ++i) {\n",
       "                    if (nbb_cells[i].input_prompt_number == nbb_cell_id) {\n",
       "                        if (nbb_cells[i].get_text() == nbb_unformatted_code) {\n",
       "                             nbb_cells[i].set_text(nbb_formatted_code);\n",
       "                        }\n",
       "                        break;\n",
       "                    }\n",
       "                }\n",
       "            }, 500);\n",
       "            "
      ],
      "text/plain": [
       "<IPython.core.display.Javascript object>"
      ]
     },
     "metadata": {},
     "output_type": "display_data"
    }
   ],
   "source": [
    "# finding lines that do not end with full stop\n",
    "asdf = \"\"\"\n",
    "name: hjh\n",
    "class: 5th.\n",
    "name: piul.\n",
    "class:6    name: tfsgg  \n",
    "name: zzxc\n",
    "class: 9.\"\"\"\n",
    "\n",
    "pat = re.compile(\"\\W\")\n",
    "\n",
    "res = re.split(pat, asdf, maxsplit=3)\n",
    "print(res, \"\\n\")\n",
    "\n",
    "res1 = list(filter(lambda x: x != \"\", res))\n",
    "# res1 = [i for i in res if i!='']\n",
    "print(res1)"
   ]
  },
  {
   "cell_type": "code",
   "execution_count": 412,
   "id": "2674640b",
   "metadata": {},
   "outputs": [
    {
     "name": "stdout",
     "output_type": "stream",
     "text": [
      "\n",
      "- cats\n",
      "- dogs\n",
      "- rabbits\n",
      "\n",
      "('\\n- cats\\n- dogs\\n- rabbits\\n', 3)\n"
     ]
    },
    {
     "data": {
      "application/javascript": [
       "\n",
       "            setTimeout(function() {\n",
       "                var nbb_cell_id = 412;\n",
       "                var nbb_unformatted_code = \"# sub vs subn\\nasdf = \\\"\\\"\\\"\\n100 cats\\n350 dogs\\n180 rabbits\\n\\\"\\\"\\\"\\n\\npat = re.compile('\\\\d+')\\nres = pat.sub('-',asdf)\\n# res = re.sub(pat,'-',asdf)\\nprint(res)\\n\\nres = pat.subn('-',asdf)\\nprint(res)\";\n",
       "                var nbb_formatted_code = \"# sub vs subn\\nasdf = \\\"\\\"\\\"\\n100 cats\\n350 dogs\\n180 rabbits\\n\\\"\\\"\\\"\\n\\npat = re.compile(\\\"\\\\d+\\\")\\nres = pat.sub(\\\"-\\\", asdf)\\n# res = re.sub(pat,'-',asdf)\\nprint(res)\\n\\nres = pat.subn(\\\"-\\\", asdf)\\nprint(res)\";\n",
       "                var nbb_cells = Jupyter.notebook.get_cells();\n",
       "                for (var i = 0; i < nbb_cells.length; ++i) {\n",
       "                    if (nbb_cells[i].input_prompt_number == nbb_cell_id) {\n",
       "                        if (nbb_cells[i].get_text() == nbb_unformatted_code) {\n",
       "                             nbb_cells[i].set_text(nbb_formatted_code);\n",
       "                        }\n",
       "                        break;\n",
       "                    }\n",
       "                }\n",
       "            }, 500);\n",
       "            "
      ],
      "text/plain": [
       "<IPython.core.display.Javascript object>"
      ]
     },
     "metadata": {},
     "output_type": "display_data"
    }
   ],
   "source": [
    "# sub vs subn\n",
    "asdf = \"\"\"\n",
    "100 cats\n",
    "350 dogs\n",
    "180 rabbits\n",
    "\"\"\"\n",
    "\n",
    "pat = re.compile(\"\\d+\")\n",
    "res = pat.sub(\"-\", asdf)\n",
    "# res = re.sub(pat,'-',asdf)\n",
    "print(res)\n",
    "\n",
    "res = pat.subn(\"-\", asdf)\n",
    "print(res)"
   ]
  },
  {
   "cell_type": "markdown",
   "id": "039cf7bc",
   "metadata": {},
   "source": [
    "re.I     ignore case, no matter upper or lower we get a match\n",
    "\n",
    "re.M     for multi lines\n",
    "\n",
    "re.DOTALL or re.S    start from a word and stop at the last but not at the end of line\n",
    "\n",
    "regex re.Unicode or re.U     for different langauges\n",
    "\n",
    "re.A           for truely Alpha numeric characters \n",
    "\n",
    "re.X       for adding comments\n",
    "\n",
    "re.DEBUG       it explains the pattern"
   ]
  },
  {
   "cell_type": "code",
   "execution_count": 413,
   "id": "08d6108b",
   "metadata": {},
   "outputs": [
    {
     "name": "stdout",
     "output_type": "stream",
     "text": [
      "['and', 'The', 'and', 'or']\n"
     ]
    },
    {
     "data": {
      "application/javascript": [
       "\n",
       "            setTimeout(function() {\n",
       "                var nbb_cell_id = 413;\n",
       "                var nbb_unformatted_code = \"# re.I\\nasdf=\\\"\\\"\\\"\\nyesterday i was driving car without 2012 and a driving licence .The traffic police stop1998pped me and asked me show my \\nlicense . i told them that i or forgot2009 my licence at home\\n\\\"\\\"\\\"\\n\\npat = re.compile(r'\\\\b(and|or|the)\\\\b',re.I)\\n\\nres = re.findall(pat,asdf)\\nprint(res)\";\n",
       "                var nbb_formatted_code = \"# re.I\\nasdf = \\\"\\\"\\\"\\nyesterday i was driving car without 2012 and a driving licence .The traffic police stop1998pped me and asked me show my \\nlicense . i told them that i or forgot2009 my licence at home\\n\\\"\\\"\\\"\\n\\npat = re.compile(r\\\"\\\\b(and|or|the)\\\\b\\\", re.I)\\n\\nres = re.findall(pat, asdf)\\nprint(res)\";\n",
       "                var nbb_cells = Jupyter.notebook.get_cells();\n",
       "                for (var i = 0; i < nbb_cells.length; ++i) {\n",
       "                    if (nbb_cells[i].input_prompt_number == nbb_cell_id) {\n",
       "                        if (nbb_cells[i].get_text() == nbb_unformatted_code) {\n",
       "                             nbb_cells[i].set_text(nbb_formatted_code);\n",
       "                        }\n",
       "                        break;\n",
       "                    }\n",
       "                }\n",
       "            }, 500);\n",
       "            "
      ],
      "text/plain": [
       "<IPython.core.display.Javascript object>"
      ]
     },
     "metadata": {},
     "output_type": "display_data"
    }
   ],
   "source": [
    "# re.I\n",
    "asdf = \"\"\"\n",
    "yesterday i was driving car without 2012 and a driving licence .The traffic police stop1998pped me and asked me show my \n",
    "license . i told them that i or forgot2009 my licence at home\n",
    "\"\"\"\n",
    "\n",
    "pat = re.compile(r\"\\b(and|or|the)\\b\", re.I)\n",
    "\n",
    "res = re.findall(pat, asdf)\n",
    "print(res)"
   ]
  },
  {
   "cell_type": "code",
   "execution_count": 414,
   "id": "7adf487f",
   "metadata": {},
   "outputs": [
    {
     "name": "stdout",
     "output_type": "stream",
     "text": [
      "['hey'] \n",
      "\n",
      "['hey', 'hey', 'hey']\n"
     ]
    },
    {
     "data": {
      "application/javascript": [
       "\n",
       "            setTimeout(function() {\n",
       "                var nbb_cell_id = 414;\n",
       "                var nbb_unformatted_code = \"# re.M\\nasdf = \\\"\\\"\\\"hey there iam using whatsapp\\nhey there i also use insta\\nhey there are you there hey there\\n\\\"\\\"\\\"\\n\\npat = re.compile(r'^hey')\\nres = re.findall(pat,asdf)\\nprint(res,'\\\\n')\\n\\npat = re.compile(r'^hey',flags=re.M)\\nres = re.findall(pat,asdf)\\nprint(res)\";\n",
       "                var nbb_formatted_code = \"# re.M\\nasdf = \\\"\\\"\\\"hey there iam using whatsapp\\nhey there i also use insta\\nhey there are you there hey there\\n\\\"\\\"\\\"\\n\\npat = re.compile(r\\\"^hey\\\")\\nres = re.findall(pat, asdf)\\nprint(res, \\\"\\\\n\\\")\\n\\npat = re.compile(r\\\"^hey\\\", flags=re.M)\\nres = re.findall(pat, asdf)\\nprint(res)\";\n",
       "                var nbb_cells = Jupyter.notebook.get_cells();\n",
       "                for (var i = 0; i < nbb_cells.length; ++i) {\n",
       "                    if (nbb_cells[i].input_prompt_number == nbb_cell_id) {\n",
       "                        if (nbb_cells[i].get_text() == nbb_unformatted_code) {\n",
       "                             nbb_cells[i].set_text(nbb_formatted_code);\n",
       "                        }\n",
       "                        break;\n",
       "                    }\n",
       "                }\n",
       "            }, 500);\n",
       "            "
      ],
      "text/plain": [
       "<IPython.core.display.Javascript object>"
      ]
     },
     "metadata": {},
     "output_type": "display_data"
    }
   ],
   "source": [
    "# re.M\n",
    "asdf = \"\"\"hey there iam using whatsapp\n",
    "hey there i also use insta\n",
    "hey there are you there hey there\n",
    "\"\"\"\n",
    "\n",
    "pat = re.compile(r\"^hey\")\n",
    "res = re.findall(pat, asdf)\n",
    "print(res, \"\\n\")\n",
    "\n",
    "pat = re.compile(r\"^hey\", flags=re.M)\n",
    "res = re.findall(pat, asdf)\n",
    "print(res)"
   ]
  },
  {
   "cell_type": "code",
   "execution_count": 415,
   "id": "7611944e",
   "metadata": {},
   "outputs": [
    {
     "name": "stdout",
     "output_type": "stream",
     "text": [
      "['use insta \\nhey there are you there hey there\\n'] \n",
      "\n",
      "['use insta ']\n"
     ]
    },
    {
     "data": {
      "application/javascript": [
       "\n",
       "            setTimeout(function() {\n",
       "                var nbb_cell_id = 415;\n",
       "                var nbb_unformatted_code = \"# re.DOTALl or re.S\\nasdf = \\\"\\\"\\\"hey there iam using whatsapp\\nhey there i also use insta \\nhey there are you there hey there\\n\\\"\\\"\\\"\\n\\npat = re.compile(r'use.+',flags=re.S) \\nres = re.findall(pat,asdf)\\nprint(res,'\\\\n')\\n\\npat = re.compile(r'use.+') \\nres = re.findall(pat,asdf)\\nprint(res)\";\n",
       "                var nbb_formatted_code = \"# re.DOTALl or re.S\\nasdf = \\\"\\\"\\\"hey there iam using whatsapp\\nhey there i also use insta \\nhey there are you there hey there\\n\\\"\\\"\\\"\\n\\npat = re.compile(r\\\"use.+\\\", flags=re.S)\\nres = re.findall(pat, asdf)\\nprint(res, \\\"\\\\n\\\")\\n\\npat = re.compile(r\\\"use.+\\\")\\nres = re.findall(pat, asdf)\\nprint(res)\";\n",
       "                var nbb_cells = Jupyter.notebook.get_cells();\n",
       "                for (var i = 0; i < nbb_cells.length; ++i) {\n",
       "                    if (nbb_cells[i].input_prompt_number == nbb_cell_id) {\n",
       "                        if (nbb_cells[i].get_text() == nbb_unformatted_code) {\n",
       "                             nbb_cells[i].set_text(nbb_formatted_code);\n",
       "                        }\n",
       "                        break;\n",
       "                    }\n",
       "                }\n",
       "            }, 500);\n",
       "            "
      ],
      "text/plain": [
       "<IPython.core.display.Javascript object>"
      ]
     },
     "metadata": {},
     "output_type": "display_data"
    }
   ],
   "source": [
    "# re.DOTALl or re.S\n",
    "asdf = \"\"\"hey there iam using whatsapp\n",
    "hey there i also use insta \n",
    "hey there are you there hey there\n",
    "\"\"\"\n",
    "\n",
    "pat = re.compile(r\"use.+\", flags=re.S)\n",
    "res = re.findall(pat, asdf)\n",
    "print(res, \"\\n\")\n",
    "\n",
    "pat = re.compile(r\"use.+\")\n",
    "res = re.findall(pat, asdf)\n",
    "print(res)"
   ]
  },
  {
   "cell_type": "code",
   "execution_count": 416,
   "id": "f448f88b",
   "metadata": {},
   "outputs": [
    {
     "data": {
      "text/plain": [
       "re.compile(r'hello', re.UNICODE)"
      ]
     },
     "execution_count": 416,
     "metadata": {},
     "output_type": "execute_result"
    },
    {
     "data": {
      "application/javascript": [
       "\n",
       "            setTimeout(function() {\n",
       "                var nbb_cell_id = 416;\n",
       "                var nbb_unformatted_code = \"# re.Unicode or re.U\\nres = re.compile('hello')\\nres\";\n",
       "                var nbb_formatted_code = \"# re.Unicode or re.U\\nres = re.compile(\\\"hello\\\")\\nres\";\n",
       "                var nbb_cells = Jupyter.notebook.get_cells();\n",
       "                for (var i = 0; i < nbb_cells.length; ++i) {\n",
       "                    if (nbb_cells[i].input_prompt_number == nbb_cell_id) {\n",
       "                        if (nbb_cells[i].get_text() == nbb_unformatted_code) {\n",
       "                             nbb_cells[i].set_text(nbb_formatted_code);\n",
       "                        }\n",
       "                        break;\n",
       "                    }\n",
       "                }\n",
       "            }, 500);\n",
       "            "
      ],
      "text/plain": [
       "<IPython.core.display.Javascript object>"
      ]
     },
     "metadata": {},
     "output_type": "display_data"
    }
   ],
   "source": [
    "# re.Unicode or re.U\n",
    "res = re.compile(\"hello\")\n",
    "res"
   ]
  },
  {
   "cell_type": "code",
   "execution_count": 417,
   "id": "b2c35a72",
   "metadata": {},
   "outputs": [
    {
     "data": {
      "text/plain": [
       "32"
      ]
     },
     "execution_count": 417,
     "metadata": {},
     "output_type": "execute_result"
    },
    {
     "data": {
      "application/javascript": [
       "\n",
       "            setTimeout(function() {\n",
       "                var nbb_cell_id = 417;\n",
       "                var nbb_unformatted_code = \"res.flags\";\n",
       "                var nbb_formatted_code = \"res.flags\";\n",
       "                var nbb_cells = Jupyter.notebook.get_cells();\n",
       "                for (var i = 0; i < nbb_cells.length; ++i) {\n",
       "                    if (nbb_cells[i].input_prompt_number == nbb_cell_id) {\n",
       "                        if (nbb_cells[i].get_text() == nbb_unformatted_code) {\n",
       "                             nbb_cells[i].set_text(nbb_formatted_code);\n",
       "                        }\n",
       "                        break;\n",
       "                    }\n",
       "                }\n",
       "            }, 500);\n",
       "            "
      ],
      "text/plain": [
       "<IPython.core.display.Javascript object>"
      ]
     },
     "metadata": {},
     "output_type": "display_data"
    }
   ],
   "source": [
    "res.flags"
   ]
  },
  {
   "cell_type": "code",
   "execution_count": 418,
   "id": "5e9e09cb",
   "metadata": {},
   "outputs": [
    {
     "name": "stdout",
     "output_type": "stream",
     "text": [
      "['مجھے', 'کتابیں', 'پڑھنا', 'پسند', 'ہے']\n"
     ]
    },
    {
     "data": {
      "application/javascript": [
       "\n",
       "            setTimeout(function() {\n",
       "                var nbb_cell_id = 418;\n",
       "                var nbb_unformatted_code = \"import regex\\nasdf = '\\u0645\\u062c\\u06be\\u06d2 \\u06a9\\u062a\\u0627\\u0628\\u06cc\\u06ba \\u067e\\u0691\\u06be\\u0646\\u0627 \\u067e\\u0633\\u0646\\u062f \\u06c1\\u06d2'\\npat = re.compile('\\\\w+')\\nres = re.findall(pat,asdf)\\nprint(res)\";\n",
       "                var nbb_formatted_code = \"import regex\\n\\nasdf = \\\"\\u0645\\u062c\\u06be\\u06d2 \\u06a9\\u062a\\u0627\\u0628\\u06cc\\u06ba \\u067e\\u0691\\u06be\\u0646\\u0627 \\u067e\\u0633\\u0646\\u062f \\u06c1\\u06d2\\\"\\npat = re.compile(\\\"\\\\w+\\\")\\nres = re.findall(pat, asdf)\\nprint(res)\";\n",
       "                var nbb_cells = Jupyter.notebook.get_cells();\n",
       "                for (var i = 0; i < nbb_cells.length; ++i) {\n",
       "                    if (nbb_cells[i].input_prompt_number == nbb_cell_id) {\n",
       "                        if (nbb_cells[i].get_text() == nbb_unformatted_code) {\n",
       "                             nbb_cells[i].set_text(nbb_formatted_code);\n",
       "                        }\n",
       "                        break;\n",
       "                    }\n",
       "                }\n",
       "            }, 500);\n",
       "            "
      ],
      "text/plain": [
       "<IPython.core.display.Javascript object>"
      ]
     },
     "metadata": {},
     "output_type": "display_data"
    }
   ],
   "source": [
    "import regex\n",
    "\n",
    "asdf = \"مجھے کتابیں پڑھنا پسند ہے\"\n",
    "pat = re.compile(\"\\w+\")\n",
    "res = re.findall(pat, asdf)\n",
    "print(res)"
   ]
  },
  {
   "cell_type": "code",
   "execution_count": 419,
   "id": "ecc70a21",
   "metadata": {},
   "outputs": [
    {
     "name": "stdout",
     "output_type": "stream",
     "text": [
      "['म', 'झ', 'क', 'त', 'ब', 'पढ', 'न', 'पस', 'द', 'ह']\n",
      "\n",
      "\n",
      "['मुझे', 'किताबें', 'पढ़ना', 'पसंद', 'है']\n"
     ]
    },
    {
     "data": {
      "application/javascript": [
       "\n",
       "            setTimeout(function() {\n",
       "                var nbb_cell_id = 419;\n",
       "                var nbb_unformatted_code = \"asdf = '\\u092e\\u0941\\u091d\\u0947 \\u0915\\u093f\\u0924\\u093e\\u092c\\u0947\\u0902 \\u092a\\u0922\\u093c\\u0928\\u093e \\u092a\\u0938\\u0902\\u0926 \\u0939\\u0948'\\npat = re.compile('\\\\w+',re.U)\\nres = re.findall(pat,asdf)\\nprint(res)\\nprint('\\\\n')\\n\\nimport regex\\nasdf = '\\u092e\\u0941\\u091d\\u0947 \\u0915\\u093f\\u0924\\u093e\\u092c\\u0947\\u0902 \\u092a\\u0922\\u093c\\u0928\\u093e \\u092a\\u0938\\u0902\\u0926 \\u0939\\u0948'\\npat = regex.compile('\\\\w+')\\nres = regex.findall(pat,asdf)\\nprint(res)\";\n",
       "                var nbb_formatted_code = \"asdf = \\\"\\u092e\\u0941\\u091d\\u0947 \\u0915\\u093f\\u0924\\u093e\\u092c\\u0947\\u0902 \\u092a\\u0922\\u093c\\u0928\\u093e \\u092a\\u0938\\u0902\\u0926 \\u0939\\u0948\\\"\\npat = re.compile(\\\"\\\\w+\\\", re.U)\\nres = re.findall(pat, asdf)\\nprint(res)\\nprint(\\\"\\\\n\\\")\\n\\nimport regex\\n\\nasdf = \\\"\\u092e\\u0941\\u091d\\u0947 \\u0915\\u093f\\u0924\\u093e\\u092c\\u0947\\u0902 \\u092a\\u0922\\u093c\\u0928\\u093e \\u092a\\u0938\\u0902\\u0926 \\u0939\\u0948\\\"\\npat = regex.compile(\\\"\\\\w+\\\")\\nres = regex.findall(pat, asdf)\\nprint(res)\";\n",
       "                var nbb_cells = Jupyter.notebook.get_cells();\n",
       "                for (var i = 0; i < nbb_cells.length; ++i) {\n",
       "                    if (nbb_cells[i].input_prompt_number == nbb_cell_id) {\n",
       "                        if (nbb_cells[i].get_text() == nbb_unformatted_code) {\n",
       "                             nbb_cells[i].set_text(nbb_formatted_code);\n",
       "                        }\n",
       "                        break;\n",
       "                    }\n",
       "                }\n",
       "            }, 500);\n",
       "            "
      ],
      "text/plain": [
       "<IPython.core.display.Javascript object>"
      ]
     },
     "metadata": {},
     "output_type": "display_data"
    }
   ],
   "source": [
    "asdf = \"मुझे किताबें पढ़ना पसंद है\"\n",
    "pat = re.compile(\"\\w+\", re.U)\n",
    "res = re.findall(pat, asdf)\n",
    "print(res)\n",
    "print(\"\\n\")\n",
    "\n",
    "import regex\n",
    "\n",
    "asdf = \"मुझे किताबें पढ़ना पसंद है\"\n",
    "pat = regex.compile(\"\\w+\")\n",
    "res = regex.findall(pat, asdf)\n",
    "print(res)"
   ]
  },
  {
   "cell_type": "code",
   "execution_count": 420,
   "id": "ccdf2663",
   "metadata": {},
   "outputs": [
    {
     "data": {
      "text/plain": [
       "'\\x00\\x01\\x02\\x03\\x04\\x05\\x06\\x07\\x08\\t\\n\\x0b\\x0c\\r\\x0e\\x0f\\x10\\x11\\x12\\x13\\x14\\x15\\x16\\x17\\x18\\x19\\x1a\\x1b\\x1c\\x1d\\x1e\\x1f !\"#$%&\\'()*+,-./0123456789:;<=>?@ABCDEFGHIJKLMNOPQRSTUVWXYZ[\\\\]^_`abcdefghijklmnopqrstuvwxyz{|}~\\x7f\\x80\\x81\\x82\\x83\\x84\\x85\\x86\\x87\\x88\\x89\\x8a\\x8b\\x8c\\x8d\\x8e\\x8f\\x90\\x91\\x92\\x93\\x94\\x95\\x96\\x97\\x98\\x99\\x9a\\x9b\\x9c\\x9d\\x9e\\x9f\\xa0¡¢£¤¥¦§¨©ª«¬\\xad®¯°±²³´µ¶·¸¹º»¼½¾¿ÀÁÂÃÄÅÆÇÈÉÊËÌÍÎÏÐÑÒÓÔÕÖ×ØÙÚÛÜÝÞßàáâãäåæçèéêëìíîïðñòóôõö÷øù'"
      ]
     },
     "execution_count": 420,
     "metadata": {},
     "output_type": "execute_result"
    },
    {
     "data": {
      "application/javascript": [
       "\n",
       "            setTimeout(function() {\n",
       "                var nbb_cell_id = 420;\n",
       "                var nbb_unformatted_code = \"asdf = ''.join(chr(i) for i in range(250))\\nasdf\";\n",
       "                var nbb_formatted_code = \"asdf = \\\"\\\".join(chr(i) for i in range(250))\\nasdf\";\n",
       "                var nbb_cells = Jupyter.notebook.get_cells();\n",
       "                for (var i = 0; i < nbb_cells.length; ++i) {\n",
       "                    if (nbb_cells[i].input_prompt_number == nbb_cell_id) {\n",
       "                        if (nbb_cells[i].get_text() == nbb_unformatted_code) {\n",
       "                             nbb_cells[i].set_text(nbb_formatted_code);\n",
       "                        }\n",
       "                        break;\n",
       "                    }\n",
       "                }\n",
       "            }, 500);\n",
       "            "
      ],
      "text/plain": [
       "<IPython.core.display.Javascript object>"
      ]
     },
     "metadata": {},
     "output_type": "display_data"
    }
   ],
   "source": [
    "asdf = \"\".join(chr(i) for i in range(250))\n",
    "asdf"
   ]
  },
  {
   "cell_type": "code",
   "execution_count": 421,
   "id": "13b9ea84",
   "metadata": {},
   "outputs": [
    {
     "name": "stdout",
     "output_type": "stream",
     "text": [
      "['0', '1', '2', '3', '4', '5', '6', '7', '8', '9', 'A', 'B', 'C', 'D', 'E', 'F', 'G', 'H', 'I', 'J', 'K', 'L', 'M', 'N', 'O', 'P', 'Q', 'R', 'S', 'T', 'U', 'V', 'W', 'X', 'Y', 'Z', '_', 'a', 'b', 'c', 'd', 'e', 'f', 'g', 'h', 'i', 'j', 'k', 'l', 'm', 'n', 'o', 'p', 'q', 'r', 's', 't', 'u', 'v', 'w', 'x', 'y', 'z', 'ª', '²', '³', 'µ', '¹', 'º', '¼', '½', '¾', 'À', 'Á', 'Â', 'Ã', 'Ä', 'Å', 'Æ', 'Ç', 'È', 'É', 'Ê', 'Ë', 'Ì', 'Í', 'Î', 'Ï', 'Ð', 'Ñ', 'Ò', 'Ó', 'Ô', 'Õ', 'Ö', 'Ø', 'Ù', 'Ú', 'Û', 'Ü', 'Ý', 'Þ', 'ß', 'à', 'á', 'â', 'ã', 'ä', 'å', 'æ', 'ç', 'è', 'é', 'ê', 'ë', 'ì', 'í', 'î', 'ï', 'ð', 'ñ', 'ò', 'ó', 'ô', 'õ', 'ö', 'ø', 'ù'] \n",
      "\n",
      "\n",
      "['0', '1', '2', '3', '4', '5', '6', '7', '8', '9', 'A', 'B', 'C', 'D', 'E', 'F', 'G', 'H', 'I', 'J', 'K', 'L', 'M', 'N', 'O', 'P', 'Q', 'R', 'S', 'T', 'U', 'V', 'W', 'X', 'Y', 'Z', '_', 'a', 'b', 'c', 'd', 'e', 'f', 'g', 'h', 'i', 'j', 'k', 'l', 'm', 'n', 'o', 'p', 'q', 'r', 's', 't', 'u', 'v', 'w', 'x', 'y', 'z'] \n",
      "\n",
      "\n"
     ]
    },
    {
     "data": {
      "application/javascript": [
       "\n",
       "            setTimeout(function() {\n",
       "                var nbb_cell_id = 421;\n",
       "                var nbb_unformatted_code = \"pat = re.compile('\\\\w')\\nres= re.findall(pat,asdf)\\nprint(res,'\\\\n\\\\n')\\n\\npat = re.compile('\\\\w',flags=re.A)\\nres= re.findall(pat,asdf)\\nprint(res,'\\\\n\\\\n')\";\n",
       "                var nbb_formatted_code = \"pat = re.compile(\\\"\\\\w\\\")\\nres = re.findall(pat, asdf)\\nprint(res, \\\"\\\\n\\\\n\\\")\\n\\npat = re.compile(\\\"\\\\w\\\", flags=re.A)\\nres = re.findall(pat, asdf)\\nprint(res, \\\"\\\\n\\\\n\\\")\";\n",
       "                var nbb_cells = Jupyter.notebook.get_cells();\n",
       "                for (var i = 0; i < nbb_cells.length; ++i) {\n",
       "                    if (nbb_cells[i].input_prompt_number == nbb_cell_id) {\n",
       "                        if (nbb_cells[i].get_text() == nbb_unformatted_code) {\n",
       "                             nbb_cells[i].set_text(nbb_formatted_code);\n",
       "                        }\n",
       "                        break;\n",
       "                    }\n",
       "                }\n",
       "            }, 500);\n",
       "            "
      ],
      "text/plain": [
       "<IPython.core.display.Javascript object>"
      ]
     },
     "metadata": {},
     "output_type": "display_data"
    }
   ],
   "source": [
    "pat = re.compile(\"\\w\")\n",
    "res = re.findall(pat, asdf)\n",
    "print(res, \"\\n\\n\")\n",
    "\n",
    "pat = re.compile(\"\\w\", flags=re.A)\n",
    "res = re.findall(pat, asdf)\n",
    "print(res, \"\\n\\n\")"
   ]
  },
  {
   "cell_type": "code",
   "execution_count": 422,
   "id": "ee855bc8",
   "metadata": {},
   "outputs": [
    {
     "name": "stdout",
     "output_type": "stream",
     "text": [
      "MAX_REPEAT 2 5\n",
      "  LITERAL 97\n",
      "\n",
      " 0. INFO 4 0b0 2 5 (to 5)\n",
      " 5: REPEAT_ONE 6 2 5 (to 12)\n",
      " 9.   LITERAL 0x61 ('a')\n",
      "11.   SUCCESS\n",
      "12: SUCCESS\n"
     ]
    },
    {
     "data": {
      "application/javascript": [
       "\n",
       "            setTimeout(function() {\n",
       "                var nbb_cell_id = 422;\n",
       "                var nbb_unformatted_code = \"# re.Debug\\npat = re.compile('a{2,5}',re.DEBUG)\";\n",
       "                var nbb_formatted_code = \"# re.Debug\\npat = re.compile(\\\"a{2,5}\\\", re.DEBUG)\";\n",
       "                var nbb_cells = Jupyter.notebook.get_cells();\n",
       "                for (var i = 0; i < nbb_cells.length; ++i) {\n",
       "                    if (nbb_cells[i].input_prompt_number == nbb_cell_id) {\n",
       "                        if (nbb_cells[i].get_text() == nbb_unformatted_code) {\n",
       "                             nbb_cells[i].set_text(nbb_formatted_code);\n",
       "                        }\n",
       "                        break;\n",
       "                    }\n",
       "                }\n",
       "            }, 500);\n",
       "            "
      ],
      "text/plain": [
       "<IPython.core.display.Javascript object>"
      ]
     },
     "metadata": {},
     "output_type": "display_data"
    }
   ],
   "source": [
    "# re.Debug\n",
    "pat = re.compile(\"a{2,5}\", re.DEBUG)"
   ]
  },
  {
   "cell_type": "markdown",
   "id": "b3f1ac77",
   "metadata": {},
   "source": [
    "#  grouping"
   ]
  },
  {
   "cell_type": "code",
   "execution_count": 423,
   "id": "877cb0bc",
   "metadata": {},
   "outputs": [
    {
     "name": "stdout",
     "output_type": "stream",
     "text": [
      "['ab', 'ab', 'abbbbb', 'abbb']\n",
      "['ab', 'ab']\n"
     ]
    },
    {
     "data": {
      "application/javascript": [
       "\n",
       "            setTimeout(function() {\n",
       "                var nbb_cell_id = 423;\n",
       "                var nbb_unformatted_code = \"asdf = \\\"\\\"\\\"\\nabababbbbbabbb\\n\\\"\\\"\\\"\\npat1 = re.compile('ab+')\\npat2 = re.compile('(ab)+')\\n# pat2 = re.compile('ab')\\n\\nres1 = re.findall(pat1,asdf)\\nres2 = re.findall(pat2,asdf)\\nprint(res1)\\nprint(res2)\";\n",
       "                var nbb_formatted_code = \"asdf = \\\"\\\"\\\"\\nabababbbbbabbb\\n\\\"\\\"\\\"\\npat1 = re.compile(\\\"ab+\\\")\\npat2 = re.compile(\\\"(ab)+\\\")\\n# pat2 = re.compile('ab')\\n\\nres1 = re.findall(pat1, asdf)\\nres2 = re.findall(pat2, asdf)\\nprint(res1)\\nprint(res2)\";\n",
       "                var nbb_cells = Jupyter.notebook.get_cells();\n",
       "                for (var i = 0; i < nbb_cells.length; ++i) {\n",
       "                    if (nbb_cells[i].input_prompt_number == nbb_cell_id) {\n",
       "                        if (nbb_cells[i].get_text() == nbb_unformatted_code) {\n",
       "                             nbb_cells[i].set_text(nbb_formatted_code);\n",
       "                        }\n",
       "                        break;\n",
       "                    }\n",
       "                }\n",
       "            }, 500);\n",
       "            "
      ],
      "text/plain": [
       "<IPython.core.display.Javascript object>"
      ]
     },
     "metadata": {},
     "output_type": "display_data"
    }
   ],
   "source": [
    "asdf = \"\"\"\n",
    "abababbbbbabbb\n",
    "\"\"\"\n",
    "pat1 = re.compile(\"ab+\")\n",
    "pat2 = re.compile(\"(ab)+\")\n",
    "# pat2 = re.compile('ab')\n",
    "\n",
    "res1 = re.findall(pat1, asdf)\n",
    "res2 = re.findall(pat2, asdf)\n",
    "print(res1)\n",
    "print(res2)"
   ]
  },
  {
   "cell_type": "code",
   "execution_count": 424,
   "id": "d9e89470",
   "metadata": {},
   "outputs": [
    {
     "name": "stdout",
     "output_type": "stream",
     "text": [
      "['my name is ma', 'aleem']\n",
      "['ma', 'aleem']\n"
     ]
    },
    {
     "data": {
      "application/javascript": [
       "\n",
       "            setTimeout(function() {\n",
       "                var nbb_cell_id = 424;\n",
       "                var nbb_unformatted_code = \"asdf = \\\"\\\"\\\"\\nmy name is ma\\nmy name is aleem\\n\\\"\\\"\\\"\\n\\npat1 = re.compile('my name is ma|aleem')\\npat2 = re.compile('my name is (ma|aleem)')\\nprint(re.findall(pat1,asdf))\\nprint(re.findall(pat2,asdf))\";\n",
       "                var nbb_formatted_code = \"asdf = \\\"\\\"\\\"\\nmy name is ma\\nmy name is aleem\\n\\\"\\\"\\\"\\n\\npat1 = re.compile(\\\"my name is ma|aleem\\\")\\npat2 = re.compile(\\\"my name is (ma|aleem)\\\")\\nprint(re.findall(pat1, asdf))\\nprint(re.findall(pat2, asdf))\";\n",
       "                var nbb_cells = Jupyter.notebook.get_cells();\n",
       "                for (var i = 0; i < nbb_cells.length; ++i) {\n",
       "                    if (nbb_cells[i].input_prompt_number == nbb_cell_id) {\n",
       "                        if (nbb_cells[i].get_text() == nbb_unformatted_code) {\n",
       "                             nbb_cells[i].set_text(nbb_formatted_code);\n",
       "                        }\n",
       "                        break;\n",
       "                    }\n",
       "                }\n",
       "            }, 500);\n",
       "            "
      ],
      "text/plain": [
       "<IPython.core.display.Javascript object>"
      ]
     },
     "metadata": {},
     "output_type": "display_data"
    }
   ],
   "source": [
    "asdf = \"\"\"\n",
    "my name is ma\n",
    "my name is aleem\n",
    "\"\"\"\n",
    "\n",
    "pat1 = re.compile(\"my name is ma|aleem\")\n",
    "pat2 = re.compile(\"my name is (ma|aleem)\")\n",
    "print(re.findall(pat1, asdf))\n",
    "print(re.findall(pat2, asdf))"
   ]
  },
  {
   "cell_type": "code",
   "execution_count": 425,
   "id": "780e4491",
   "metadata": {},
   "outputs": [
    {
     "name": "stdout",
     "output_type": "stream",
     "text": [
      "[('28', '03', '1957')]\n",
      "28\n",
      "03\n",
      "1957\n"
     ]
    },
    {
     "data": {
      "application/javascript": [
       "\n",
       "            setTimeout(function() {\n",
       "                var nbb_cell_id = 425;\n",
       "                var nbb_unformatted_code = \"# capturing groups\\nasdf = \\\"\\\"\\\"\\n28-03-1957\\n\\\"\\\"\\\"\\npat = re.compile('(\\\\d{2})-(\\\\d{2})-(\\\\d{4})')\\nres = re.findall(pat,asdf)\\nprint(res)\\n\\nday ,month , year = res[0]\\nprint(day)\\nprint(month)\\nprint(year)\";\n",
       "                var nbb_formatted_code = \"# capturing groups\\nasdf = \\\"\\\"\\\"\\n28-03-1957\\n\\\"\\\"\\\"\\npat = re.compile(\\\"(\\\\d{2})-(\\\\d{2})-(\\\\d{4})\\\")\\nres = re.findall(pat, asdf)\\nprint(res)\\n\\nday, month, year = res[0]\\nprint(day)\\nprint(month)\\nprint(year)\";\n",
       "                var nbb_cells = Jupyter.notebook.get_cells();\n",
       "                for (var i = 0; i < nbb_cells.length; ++i) {\n",
       "                    if (nbb_cells[i].input_prompt_number == nbb_cell_id) {\n",
       "                        if (nbb_cells[i].get_text() == nbb_unformatted_code) {\n",
       "                             nbb_cells[i].set_text(nbb_formatted_code);\n",
       "                        }\n",
       "                        break;\n",
       "                    }\n",
       "                }\n",
       "            }, 500);\n",
       "            "
      ],
      "text/plain": [
       "<IPython.core.display.Javascript object>"
      ]
     },
     "metadata": {},
     "output_type": "display_data"
    }
   ],
   "source": [
    "# capturing groups\n",
    "asdf = \"\"\"\n",
    "28-03-1957\n",
    "\"\"\"\n",
    "pat = re.compile(\"(\\d{2})-(\\d{2})-(\\d{4})\")\n",
    "res = re.findall(pat, asdf)\n",
    "print(res)\n",
    "\n",
    "day, month, year = res[0]\n",
    "print(day)\n",
    "print(month)\n",
    "print(year)"
   ]
  },
  {
   "cell_type": "code",
   "execution_count": 426,
   "id": "f809c74d",
   "metadata": {},
   "outputs": [
    {
     "name": "stdout",
     "output_type": "stream",
     "text": [
      "['hjh', 'piul', 'zzxc']\n",
      "['hjh', 'piul', 'tfsgg', 'zzxc']\n"
     ]
    },
    {
     "data": {
      "application/javascript": [
       "\n",
       "            setTimeout(function() {\n",
       "                var nbb_cell_id = 426;\n",
       "                var nbb_unformatted_code = \"asdf = \\\"\\\"\\\"\\nname: hjh\\nclass: 5th\\n\\nname: piul\\nclass:6    name: tfsgg    class = 7\\n\\nname: zzxc\\nclass: 9\\n\\\"\\\"\\\"\\npat = re.compile('name: ([A-Za-z]+)\\\\n')\\nres = re.findall(pat,asdf)\\nprint(res)\\npat = re.compile('name: ([A-Za-z]+)')\\nres = re.findall(pat,asdf)\\nprint(res)\";\n",
       "                var nbb_formatted_code = \"asdf = \\\"\\\"\\\"\\nname: hjh\\nclass: 5th\\n\\nname: piul\\nclass:6    name: tfsgg    class = 7\\n\\nname: zzxc\\nclass: 9\\n\\\"\\\"\\\"\\npat = re.compile(\\\"name: ([A-Za-z]+)\\\\n\\\")\\nres = re.findall(pat, asdf)\\nprint(res)\\npat = re.compile(\\\"name: ([A-Za-z]+)\\\")\\nres = re.findall(pat, asdf)\\nprint(res)\";\n",
       "                var nbb_cells = Jupyter.notebook.get_cells();\n",
       "                for (var i = 0; i < nbb_cells.length; ++i) {\n",
       "                    if (nbb_cells[i].input_prompt_number == nbb_cell_id) {\n",
       "                        if (nbb_cells[i].get_text() == nbb_unformatted_code) {\n",
       "                             nbb_cells[i].set_text(nbb_formatted_code);\n",
       "                        }\n",
       "                        break;\n",
       "                    }\n",
       "                }\n",
       "            }, 500);\n",
       "            "
      ],
      "text/plain": [
       "<IPython.core.display.Javascript object>"
      ]
     },
     "metadata": {},
     "output_type": "display_data"
    }
   ],
   "source": [
    "asdf = \"\"\"\n",
    "name: hjh\n",
    "class: 5th\n",
    "\n",
    "name: piul\n",
    "class:6    name: tfsgg    class = 7\n",
    "\n",
    "name: zzxc\n",
    "class: 9\n",
    "\"\"\"\n",
    "pat = re.compile(\"name: ([A-Za-z]+)\\n\")\n",
    "res = re.findall(pat, asdf)\n",
    "print(res)\n",
    "pat = re.compile(\"name: ([A-Za-z]+)\")\n",
    "res = re.findall(pat, asdf)\n",
    "print(res)"
   ]
  },
  {
   "cell_type": "code",
   "execution_count": 474,
   "id": "e40c9f5c",
   "metadata": {},
   "outputs": [
    {
     "name": "stdout",
     "output_type": "stream",
     "text": [
      "['hello', 'bye']\n"
     ]
    },
    {
     "data": {
      "application/javascript": [
       "\n",
       "            setTimeout(function() {\n",
       "                var nbb_cell_id = 474;\n",
       "                var nbb_unformatted_code = \"# finding duplicated words     adding \\\\\\\\1    or using \\\\1 with raw sring\\nasdf = \\\"\\\"\\\"\\nhello hello\\nhow are you\\nbye bye\\n\\\"\\\"\\\"\\npat = re.compile(\\\"(\\\\w+) \\\\\\\\1\\\")\\nres = re.findall(pat, asdf)\\nprint(res)\";\n",
       "                var nbb_formatted_code = \"# finding duplicated words     adding \\\\\\\\1    or using \\\\1 with raw sring\\nasdf = \\\"\\\"\\\"\\nhello hello\\nhow are you\\nbye bye\\n\\\"\\\"\\\"\\npat = re.compile(\\\"(\\\\w+) \\\\\\\\1\\\")\\nres = re.findall(pat, asdf)\\nprint(res)\";\n",
       "                var nbb_cells = Jupyter.notebook.get_cells();\n",
       "                for (var i = 0; i < nbb_cells.length; ++i) {\n",
       "                    if (nbb_cells[i].input_prompt_number == nbb_cell_id) {\n",
       "                        if (nbb_cells[i].get_text() == nbb_unformatted_code) {\n",
       "                             nbb_cells[i].set_text(nbb_formatted_code);\n",
       "                        }\n",
       "                        break;\n",
       "                    }\n",
       "                }\n",
       "            }, 500);\n",
       "            "
      ],
      "text/plain": [
       "<IPython.core.display.Javascript object>"
      ]
     },
     "metadata": {},
     "output_type": "display_data"
    }
   ],
   "source": [
    "# finding duplicated words     adding \\\\1    or using \\1 with raw sring\n",
    "asdf = \"\"\"\n",
    "hello hello\n",
    "how are you\n",
    "bye bye\n",
    "\"\"\"\n",
    "pat = re.compile(\"(\\w+) \\\\1\")\n",
    "res = re.findall(pat, asdf)\n",
    "print(res)"
   ]
  },
  {
   "cell_type": "code",
   "execution_count": 428,
   "id": "6edbbf45",
   "metadata": {},
   "outputs": [
    {
     "name": "stdout",
     "output_type": "stream",
     "text": [
      "[('29', '08', '2003'), ('30', '08', '2003'), ('31', '08', '2003')]\n",
      "\n",
      "yesterday date is 2003-08-29\n",
      "today date is 2003-08-30\n",
      "tomorrow date is 2003-08-31\n",
      "\n"
     ]
    },
    {
     "data": {
      "application/javascript": [
       "\n",
       "            setTimeout(function() {\n",
       "                var nbb_cell_id = 428;\n",
       "                var nbb_unformatted_code = \"# changing the date format\\nasdf = \\\"\\\"\\\"\\nyesterday date is 29/08/2003\\ntoday date is 30/08/2003\\ntomorrow date is 31/08/2003\\n\\\"\\\"\\\"\\npat = re.compile(\\\"(\\\\d{2})\\\\/(\\\\d{2})\\\\/(\\\\d{4})\\\")\\nres = re.findall(pat, asdf)\\nprint(res)\\n\\nres1 = re.sub(pat, \\\"\\\\\\\\3-\\\\\\\\2-\\\\\\\\1\\\", asdf)\\n# res1 = pat.sub(r'\\\\3-\\\\2-\\\\1',asdf)\\nprint(res1)\";\n",
       "                var nbb_formatted_code = \"# changing the date format\\nasdf = \\\"\\\"\\\"\\nyesterday date is 29/08/2003\\ntoday date is 30/08/2003\\ntomorrow date is 31/08/2003\\n\\\"\\\"\\\"\\npat = re.compile(\\\"(\\\\d{2})\\\\/(\\\\d{2})\\\\/(\\\\d{4})\\\")\\nres = re.findall(pat, asdf)\\nprint(res)\\n\\nres1 = re.sub(pat, \\\"\\\\\\\\3-\\\\\\\\2-\\\\\\\\1\\\", asdf)\\n# res1 = pat.sub(r'\\\\3-\\\\2-\\\\1',asdf)\\nprint(res1)\";\n",
       "                var nbb_cells = Jupyter.notebook.get_cells();\n",
       "                for (var i = 0; i < nbb_cells.length; ++i) {\n",
       "                    if (nbb_cells[i].input_prompt_number == nbb_cell_id) {\n",
       "                        if (nbb_cells[i].get_text() == nbb_unformatted_code) {\n",
       "                             nbb_cells[i].set_text(nbb_formatted_code);\n",
       "                        }\n",
       "                        break;\n",
       "                    }\n",
       "                }\n",
       "            }, 500);\n",
       "            "
      ],
      "text/plain": [
       "<IPython.core.display.Javascript object>"
      ]
     },
     "metadata": {},
     "output_type": "display_data"
    }
   ],
   "source": [
    "# changing the date format\n",
    "asdf = \"\"\"\n",
    "yesterday date is 29/08/2003\n",
    "today date is 30/08/2003\n",
    "tomorrow date is 31/08/2003\n",
    "\"\"\"\n",
    "pat = re.compile(\"(\\d{2})\\/(\\d{2})\\/(\\d{4})\")\n",
    "res = re.findall(pat, asdf)\n",
    "print(res)\n",
    "\n",
    "res1 = re.sub(pat, \"\\\\3-\\\\2-\\\\1\", asdf)\n",
    "# res1 = pat.sub(r'\\3-\\2-\\1',asdf)\n",
    "print(res1)"
   ]
  },
  {
   "cell_type": "code",
   "execution_count": 441,
   "id": "6c8eef3f",
   "metadata": {},
   "outputs": [
    {
     "name": "stdout",
     "output_type": "stream",
     "text": [
      "('Ma', 'Aleem')\n"
     ]
    },
    {
     "data": {
      "application/javascript": [
       "\n",
       "            setTimeout(function() {\n",
       "                var nbb_cell_id = 441;\n",
       "                var nbb_unformatted_code = \"# matching groups with names\\nasdf = \\\"\\\"\\\"\\nMa Aleem\\n\\\"\\\"\\\"\\npat = re.compile(\\\"(?P<first>\\\\w+) (?P<second>\\\\w+)\\\")\\nres = pat.findall(asdf)\\n\\nprint(res[0])\";\n",
       "                var nbb_formatted_code = \"# matching groups with names\\nasdf = \\\"\\\"\\\"\\nMa Aleem\\n\\\"\\\"\\\"\\npat = re.compile(\\\"(?P<first>\\\\w+) (?P<second>\\\\w+)\\\")\\nres = pat.findall(asdf)\\n\\nprint(res[0])\";\n",
       "                var nbb_cells = Jupyter.notebook.get_cells();\n",
       "                for (var i = 0; i < nbb_cells.length; ++i) {\n",
       "                    if (nbb_cells[i].input_prompt_number == nbb_cell_id) {\n",
       "                        if (nbb_cells[i].get_text() == nbb_unformatted_code) {\n",
       "                             nbb_cells[i].set_text(nbb_formatted_code);\n",
       "                        }\n",
       "                        break;\n",
       "                    }\n",
       "                }\n",
       "            }, 500);\n",
       "            "
      ],
      "text/plain": [
       "<IPython.core.display.Javascript object>"
      ]
     },
     "metadata": {},
     "output_type": "display_data"
    }
   ],
   "source": [
    "# matching groups with names\n",
    "asdf = \"\"\"\n",
    "Ma Aleem\n",
    "\"\"\"\n",
    "pat = re.compile(\"(?P<first>\\w+) (?P<second>\\w+)\")\n",
    "res = pat.findall(asdf)\n",
    "\n",
    "print(res[0])"
   ]
  },
  {
   "cell_type": "markdown",
   "id": "0e8ebc2c",
   "metadata": {},
   "source": [
    "# non capturing groups "
   ]
  },
  {
   "cell_type": "code",
   "execution_count": 651,
   "id": "b01143f5",
   "metadata": {},
   "outputs": [
    {
     "name": "stdout",
     "output_type": "stream",
     "text": [
      "['i love burgir', 'i love pizza']\n"
     ]
    },
    {
     "data": {
      "application/javascript": [
       "\n",
       "            setTimeout(function() {\n",
       "                var nbb_cell_id = 651;\n",
       "                var nbb_unformatted_code = \"# use ?: before pattern in ()\\n# it includes the () words in result\\nasdf = \\\"\\\"\\\"\\ni love burgir \\ni love pizza\\ni love skeing\\n\\\"\\\"\\\"\\npat = re.compile(\\\"i love (?:burgir|pizza)\\\")\\n# pat = re.compile(\\\"i love [a-z]+\\\")\\nres = re.findall(pat, asdf)\\nprint(res)\";\n",
       "                var nbb_formatted_code = \"# use ?: before pattern in ()\\n# it includes the () words in result\\nasdf = \\\"\\\"\\\"\\ni love burgir \\ni love pizza\\ni love skeing\\n\\\"\\\"\\\"\\npat = re.compile(\\\"i love (?:burgir|pizza)\\\")\\n# pat = re.compile(\\\"i love [a-z]+\\\")\\nres = re.findall(pat, asdf)\\nprint(res)\";\n",
       "                var nbb_cells = Jupyter.notebook.get_cells();\n",
       "                for (var i = 0; i < nbb_cells.length; ++i) {\n",
       "                    if (nbb_cells[i].input_prompt_number == nbb_cell_id) {\n",
       "                        if (nbb_cells[i].get_text() == nbb_unformatted_code) {\n",
       "                             nbb_cells[i].set_text(nbb_formatted_code);\n",
       "                        }\n",
       "                        break;\n",
       "                    }\n",
       "                }\n",
       "            }, 500);\n",
       "            "
      ],
      "text/plain": [
       "<IPython.core.display.Javascript object>"
      ]
     },
     "metadata": {},
     "output_type": "display_data"
    }
   ],
   "source": [
    "# use ?: before pattern in ()\n",
    "# it includes the () words in result\n",
    "asdf = \"\"\"\n",
    "i love burgir \n",
    "i love pizza\n",
    "i love skeing\n",
    "\"\"\"\n",
    "pat = re.compile(\"i love (?:burgir|pizza)\")\n",
    "# pat = re.compile(\"i love [a-z]+\")\n",
    "res = re.findall(pat, asdf)\n",
    "print(res)"
   ]
  },
  {
   "cell_type": "code",
   "execution_count": 533,
   "id": "c7fce660",
   "metadata": {},
   "outputs": [
    {
     "name": "stdout",
     "output_type": "stream",
     "text": [
      "['green']\n"
     ]
    },
    {
     "data": {
      "application/javascript": [
       "\n",
       "            setTimeout(function() {\n",
       "                var nbb_cell_id = 533;\n",
       "                var nbb_unformatted_code = \"asdf = \\\"\\\"\\\"you got many colors among whgreenich green is one\\\"\\\"\\\"\\npat = re.compile(\\\"\\\\\\\\bgreen\\\\\\\\b\\\")\\n# pat = re.compile(r\\\"\\\\bgreen\\\\b\\\")\\nres = re.findall(pat, asdf)\\nprint(res)\";\n",
       "                var nbb_formatted_code = \"asdf = \\\"\\\"\\\"you got many colors among whgreenich green is one\\\"\\\"\\\"\\npat = re.compile(\\\"\\\\\\\\bgreen\\\\\\\\b\\\")\\n# pat = re.compile(r\\\"\\\\bgreen\\\\b\\\")\\nres = re.findall(pat, asdf)\\nprint(res)\";\n",
       "                var nbb_cells = Jupyter.notebook.get_cells();\n",
       "                for (var i = 0; i < nbb_cells.length; ++i) {\n",
       "                    if (nbb_cells[i].input_prompt_number == nbb_cell_id) {\n",
       "                        if (nbb_cells[i].get_text() == nbb_unformatted_code) {\n",
       "                             nbb_cells[i].set_text(nbb_formatted_code);\n",
       "                        }\n",
       "                        break;\n",
       "                    }\n",
       "                }\n",
       "            }, 500);\n",
       "            "
      ],
      "text/plain": [
       "<IPython.core.display.Javascript object>"
      ]
     },
     "metadata": {},
     "output_type": "display_data"
    }
   ],
   "source": [
    "asdf = \"\"\"you got many colors among whgreenich green is one\"\"\"\n",
    "pat = re.compile(\"\\\\bgreen\\\\b\")\n",
    "# pat = re.compile(r\"\\bgreen\\b\")\n",
    "res = re.findall(pat, asdf)\n",
    "print(res)"
   ]
  },
  {
   "cell_type": "code",
   "execution_count": 541,
   "id": "855b9f3a",
   "metadata": {},
   "outputs": [
    {
     "name": "stdout",
     "output_type": "stream",
     "text": [
      "['green']\n",
      "['green']\n"
     ]
    },
    {
     "data": {
      "application/javascript": [
       "\n",
       "            setTimeout(function() {\n",
       "                var nbb_cell_id = 541;\n",
       "                var nbb_unformatted_code = \"# look ahead , positive and negetive\\nasdf = \\\"\\\"\\\"you got many colors among whgreenich green is one\\\"\\\"\\\"\\n# for green in whgreenich\\npat = re.compile(\\\"green(?=ich)\\\")\\nres = re.findall(pat, asdf)\\nprint(res)\\n# for green in green is\\npat = re.compile(\\\"green(?=\\\\sis)\\\")\\nres = re.findall(pat, asdf)\\nprint(res)\";\n",
       "                var nbb_formatted_code = \"# look ahead , positive and negetive\\nasdf = \\\"\\\"\\\"you got many colors among whgreenich green is one\\\"\\\"\\\"\\n# for green in whgreenich\\npat = re.compile(\\\"green(?=ich)\\\")\\nres = re.findall(pat, asdf)\\nprint(res)\\n# for green in green is\\npat = re.compile(\\\"green(?=\\\\sis)\\\")\\nres = re.findall(pat, asdf)\\nprint(res)\";\n",
       "                var nbb_cells = Jupyter.notebook.get_cells();\n",
       "                for (var i = 0; i < nbb_cells.length; ++i) {\n",
       "                    if (nbb_cells[i].input_prompt_number == nbb_cell_id) {\n",
       "                        if (nbb_cells[i].get_text() == nbb_unformatted_code) {\n",
       "                             nbb_cells[i].set_text(nbb_formatted_code);\n",
       "                        }\n",
       "                        break;\n",
       "                    }\n",
       "                }\n",
       "            }, 500);\n",
       "            "
      ],
      "text/plain": [
       "<IPython.core.display.Javascript object>"
      ]
     },
     "metadata": {},
     "output_type": "display_data"
    }
   ],
   "source": [
    "# look ahead , positive and negetive\n",
    "# positive or follow\n",
    "asdf = \"\"\"you got many colors among whgreenich green is one\"\"\"\n",
    "# for green in whgreenich\n",
    "pat = re.compile(\"green(?=ich)\")\n",
    "res = re.findall(pat, asdf)\n",
    "print(res)\n",
    "# for green in green is\n",
    "pat = re.compile(\"green(?=\\sis)\")\n",
    "res = re.findall(pat, asdf)\n",
    "print(res)"
   ]
  },
  {
   "cell_type": "code",
   "execution_count": 695,
   "id": "6df92b47",
   "metadata": {},
   "outputs": [
    {
     "name": "stdout",
     "output_type": "stream",
     "text": [
      "['green', 'black', 'brown', 'white']\n"
     ]
    },
    {
     "data": {
      "application/javascript": [
       "\n",
       "            setTimeout(function() {\n",
       "                var nbb_cell_id = 695;\n",
       "                var nbb_unformatted_code = \"# look ahead , positive and negetive\\n# positive or follow\\nasdf = \\\"\\\"\\\"my favoyture color is green, black,brown and white.\\\"\\\"\\\"\\n# for green in whgreenich\\npat = re.compile(\\\"\\\\w+(?=,|\\\\.|\\\\sand)\\\")\\n# pat = re.compile(\\\"(\\\\w+)[\\\\.|,]\\\")\\nres = re.findall(pat, asdf)\\nprint(res)\";\n",
       "                var nbb_formatted_code = \"# look ahead , positive and negetive\\n# positive or follow\\nasdf = \\\"\\\"\\\"my favoyture color is green, black,brown and white.\\\"\\\"\\\"\\n# for green in whgreenich\\npat = re.compile(\\\"\\\\w+(?=,|\\\\.|\\\\sand)\\\")\\n# pat = re.compile(\\\"(\\\\w+)[\\\\.|,]\\\")\\nres = re.findall(pat, asdf)\\nprint(res)\";\n",
       "                var nbb_cells = Jupyter.notebook.get_cells();\n",
       "                for (var i = 0; i < nbb_cells.length; ++i) {\n",
       "                    if (nbb_cells[i].input_prompt_number == nbb_cell_id) {\n",
       "                        if (nbb_cells[i].get_text() == nbb_unformatted_code) {\n",
       "                             nbb_cells[i].set_text(nbb_formatted_code);\n",
       "                        }\n",
       "                        break;\n",
       "                    }\n",
       "                }\n",
       "            }, 500);\n",
       "            "
      ],
      "text/plain": [
       "<IPython.core.display.Javascript object>"
      ]
     },
     "metadata": {},
     "output_type": "display_data"
    }
   ],
   "source": [
    "# look ahead , positive and negetive\n",
    "# positive or follow\n",
    "asdf = \"\"\"my favoyture color is green, black,brown and white.\"\"\"\n",
    "# for green in whgreenich\n",
    "pat = re.compile(\"\\w+(?=,|\\.|\\sand)\")\n",
    "# pat = re.compile(\"(\\w+)[\\.|,]\")\n",
    "res = re.findall(pat, asdf)\n",
    "print(res)"
   ]
  },
  {
   "cell_type": "code",
   "execution_count": 616,
   "id": "0d2f7672",
   "metadata": {},
   "outputs": [
    {
     "name": "stdout",
     "output_type": "stream",
     "text": [
      "['my favourite color is ']\n"
     ]
    },
    {
     "data": {
      "application/javascript": [
       "\n",
       "            setTimeout(function() {\n",
       "                var nbb_cell_id = 616;\n",
       "                var nbb_unformatted_code = \"# look ahead , positive and negetive\\n# negetive or not follow\\nasdf = \\\"\\\"\\\"my favourite color is green,my favourite color is black,brown and white.\\\"\\\"\\\"\\npat = re.compile(\\\"my favourite color is (?!green)\\\")\\nres = re.findall(pat, asdf)\\nprint(res)\";\n",
       "                var nbb_formatted_code = \"# look ahead , positive and negetive\\n# negetive or not follow\\nasdf = \\\"\\\"\\\"my favourite color is green,my favourite color is black,brown and white.\\\"\\\"\\\"\\npat = re.compile(\\\"my favourite color is (?!green)\\\")\\nres = re.findall(pat, asdf)\\nprint(res)\";\n",
       "                var nbb_cells = Jupyter.notebook.get_cells();\n",
       "                for (var i = 0; i < nbb_cells.length; ++i) {\n",
       "                    if (nbb_cells[i].input_prompt_number == nbb_cell_id) {\n",
       "                        if (nbb_cells[i].get_text() == nbb_unformatted_code) {\n",
       "                             nbb_cells[i].set_text(nbb_formatted_code);\n",
       "                        }\n",
       "                        break;\n",
       "                    }\n",
       "                }\n",
       "            }, 500);\n",
       "            "
      ],
      "text/plain": [
       "<IPython.core.display.Javascript object>"
      ]
     },
     "metadata": {},
     "output_type": "display_data"
    }
   ],
   "source": [
    "# look ahead , positive and negetive\n",
    "# negetive or not follow\n",
    "asdf = \"\"\"my favourite color is green,my favourite color is black,brown and white.\"\"\"\n",
    "pat = re.compile(\"my favourite color is (?!green)\")\n",
    "res = re.findall(pat, asdf)\n",
    "print(res)"
   ]
  },
  {
   "cell_type": "code",
   "execution_count": 702,
   "id": "cb68c9eb",
   "metadata": {},
   "outputs": [
    {
     "name": "stdout",
     "output_type": "stream",
     "text": [
      "['regex', 'regex']\n"
     ]
    },
    {
     "data": {
      "application/javascript": [
       "\n",
       "            setTimeout(function() {\n",
       "                var nbb_cell_id = 702;\n",
       "                var nbb_unformatted_code = \"# look back postitive and negetive\\n# positive\\nasdf = \\\"love regex or hate regex or cant ignore regex\\\"\\npat = re.compile(\\\"(?<=hate |love )regex\\\")\\nres = re.findall(pat, asdf)\\nprint(res)\";\n",
       "                var nbb_formatted_code = \"# look back postitive and negetive\\n# positive\\nasdf = \\\"love regex or hate regex or cant ignore regex\\\"\\npat = re.compile(\\\"(?<=hate |love )regex\\\")\\nres = re.findall(pat, asdf)\\nprint(res)\";\n",
       "                var nbb_cells = Jupyter.notebook.get_cells();\n",
       "                for (var i = 0; i < nbb_cells.length; ++i) {\n",
       "                    if (nbb_cells[i].input_prompt_number == nbb_cell_id) {\n",
       "                        if (nbb_cells[i].get_text() == nbb_unformatted_code) {\n",
       "                             nbb_cells[i].set_text(nbb_formatted_code);\n",
       "                        }\n",
       "                        break;\n",
       "                    }\n",
       "                }\n",
       "            }, 500);\n",
       "            "
      ],
      "text/plain": [
       "<IPython.core.display.Javascript object>"
      ]
     },
     "metadata": {},
     "output_type": "display_data"
    }
   ],
   "source": [
    "# look back postitive and negetive\n",
    "# positive\n",
    "asdf = \"love regex or hate regex or cant ignore regex\"\n",
    "pat = re.compile(\"(?<=hate |love )regex\")\n",
    "res = re.findall(pat, asdf)\n",
    "print(res)"
   ]
  },
  {
   "cell_type": "code",
   "execution_count": 716,
   "id": "927f3ebb",
   "metadata": {},
   "outputs": [
    {
     "name": "stdout",
     "output_type": "stream",
     "text": [
      "['regex']\n"
     ]
    },
    {
     "data": {
      "application/javascript": [
       "\n",
       "            setTimeout(function() {\n",
       "                var nbb_cell_id = 716;\n",
       "                var nbb_unformatted_code = \"# look back postitive and negetive\\n# negetive\\nasdf = \\\"love regex or hate regex or cant ignore regex\\\"\\npat = re.compile(\\\"(?<!love |hate )regex\\\")\\nres = re.findall(pat, asdf)\\nprint(res)\";\n",
       "                var nbb_formatted_code = \"# look back postitive and negetive\\n# negetive\\nasdf = \\\"love regex or hate regex or cant ignore regex\\\"\\npat = re.compile(\\\"(?<!love |hate )regex\\\")\\nres = re.findall(pat, asdf)\\nprint(res)\";\n",
       "                var nbb_cells = Jupyter.notebook.get_cells();\n",
       "                for (var i = 0; i < nbb_cells.length; ++i) {\n",
       "                    if (nbb_cells[i].input_prompt_number == nbb_cell_id) {\n",
       "                        if (nbb_cells[i].get_text() == nbb_unformatted_code) {\n",
       "                             nbb_cells[i].set_text(nbb_formatted_code);\n",
       "                        }\n",
       "                        break;\n",
       "                    }\n",
       "                }\n",
       "            }, 500);\n",
       "            "
      ],
      "text/plain": [
       "<IPython.core.display.Javascript object>"
      ]
     },
     "metadata": {},
     "output_type": "display_data"
    }
   ],
   "source": [
    "# look back postitive and negetive\n",
    "# negetive\n",
    "asdf = \"love regex or hate regex or cant ignore regex\"\n",
    "pat = re.compile(\"(?<!love |hate )regex\")\n",
    "res = re.findall(pat, asdf)\n",
    "print(res)"
   ]
  },
  {
   "cell_type": "code",
   "execution_count": null,
   "id": "09c9780b",
   "metadata": {},
   "outputs": [],
   "source": []
  },
  {
   "cell_type": "code",
   "execution_count": null,
   "id": "6cf0b219",
   "metadata": {},
   "outputs": [],
   "source": []
  }
 ],
 "metadata": {
  "kernelspec": {
   "display_name": "Python 3 (ipykernel)",
   "language": "python",
   "name": "python3"
  },
  "language_info": {
   "codemirror_mode": {
    "name": "ipython",
    "version": 3
   },
   "file_extension": ".py",
   "mimetype": "text/x-python",
   "name": "python",
   "nbconvert_exporter": "python",
   "pygments_lexer": "ipython3",
   "version": "3.9.13"
  }
 },
 "nbformat": 4,
 "nbformat_minor": 5
}
